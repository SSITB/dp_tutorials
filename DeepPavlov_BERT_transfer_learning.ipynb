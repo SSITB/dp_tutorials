{
 "cells": [
  {
   "cell_type": "markdown",
   "metadata": {},
   "source": [
    "# DeepPavlov: Transfer Learning with BERT\n",
    "\n",
    "Today we will cover following tasks:\n",
    "* classification\n",
    "* tagging (Named Enitity Recognition)\n",
    "* question answering (Stanford Question Answering Dataset)\n",
    "\n",
    "and zero-shot transfer from English to 103 other languages."
   ]
  },
  {
   "cell_type": "markdown",
   "metadata": {},
   "source": [
    "## BERT input representation\n",
    "Text preprocessing for BERT relies on tokenizing text on subtokens (or WordPieces). Then BERT internally represents each subtoken as sum of three vectors:\n",
    "* subtoken embedding\n",
    "* segment embedding\n",
    "* position embedding\n",
    "\n",
    "<img src=\"BERT_input.png\" width=75%>"
   ]
  },
  {
   "cell_type": "markdown",
   "metadata": {},
   "source": [
    "## BERT for text classification\n",
    "When we want to use BERT model for text classification task we can train only one dense layer on top of the output from the last BERT Transformer layer for special `[CLS]` token.\n",
    "\n",
    "<img src=\"BERT_classification.png\" width=75%>"
   ]
  },
  {
   "cell_type": "code",
   "execution_count": 5,
   "metadata": {},
   "outputs": [],
   "source": [
    "# interact pre-trained model in deeppavlov \n",
    "# dataformat\n",
    "# what to change to train on your own data\n",
    "# commands to run"
   ]
  },
  {
   "cell_type": "markdown",
   "metadata": {},
   "source": [
    "## BERT for tagging (Named Entity Recognition)\n",
    "\n",
    "\n",
    "<img src=\"BERT_NER.png\" width=50%>"
   ]
  },
  {
   "cell_type": "code",
   "execution_count": 4,
   "metadata": {},
   "outputs": [],
   "source": [
    "# interact pre-trained model in deeppavlov \n",
    "# dataformat\n",
    "# what to change to train on your own data\n",
    "# commands to run"
   ]
  },
  {
   "cell_type": "markdown",
   "metadata": {},
   "source": [
    "## BERT for question answering (Stanford Question Answering Dataset)\n",
    "\n",
    "\n",
    "<img src=\"BERT_QA.png\" width=50%>"
   ]
  },
  {
   "cell_type": "markdown",
   "metadata": {},
   "source": [
    "## Zero-shot Transfer from English to 103 languages\n",
    "\n",
    "<img src=\"BERT_multilingual.png\" width=75%>"
   ]
  },
  {
   "cell_type": "code",
   "execution_count": 10,
   "metadata": {},
   "outputs": [],
   "source": [
    "# interact with multi-NER\n",
    "# interact with multi-QA"
   ]
  },
  {
   "cell_type": "code",
   "execution_count": 11,
   "metadata": {},
   "outputs": [
    {
     "name": "stdout",
     "output_type": "stream",
     "text": [
      "--2019-07-01 02:41:24--  https://raw.githubusercontent.com/deepmipt/DeepPavlov/squad_multilingual_configs/deeppavlov/configs/squad/squad_bert_multilingual_freezed_emb.json\n",
      "Resolving raw.githubusercontent.com (raw.githubusercontent.com)... 151.101.112.133\n",
      "Connecting to raw.githubusercontent.com (raw.githubusercontent.com)|151.101.112.133|:443... connected.\n",
      "HTTP request sent, awaiting response... 200 OK\n",
      "Length: 3538 (3,5K) [text/plain]\n",
      "Saving to: ‘squad_bert_multilingual_freezed_emb.json’\n",
      "\n",
      "squad_bert_multilin 100%[===================>]   3,46K  --.-KB/s    in 0s      \n",
      "\n",
      "2019-07-01 02:41:25 (28,4 MB/s) - ‘squad_bert_multilingual_freezed_emb.json’ saved [3538/3538]\n",
      "\n"
     ]
    }
   ],
   "source": [
    "! wget https://raw.githubusercontent.com/deepmipt/DeepPavlov/squad_multilingual_configs/deeppavlov/configs/squad/squad_bert_multilingual_freezed_emb.json"
   ]
  },
  {
   "cell_type": "code",
   "execution_count": null,
   "metadata": {},
   "outputs": [],
   "source": [
    "! python -m deeppavlov interact -d ./squad_bert_multilingual_freezed_emb.json"
   ]
  }
 ],
 "metadata": {
  "kernelspec": {
   "display_name": "dp_tf1.10",
   "language": "python",
   "name": "myenv"
  },
  "language_info": {
   "codemirror_mode": {
    "name": "ipython",
    "version": 3
   },
   "file_extension": ".py",
   "mimetype": "text/x-python",
   "name": "python",
   "nbconvert_exporter": "python",
   "pygments_lexer": "ipython3",
   "version": "3.6.2"
  }
 },
 "nbformat": 4,
 "nbformat_minor": 2
}
