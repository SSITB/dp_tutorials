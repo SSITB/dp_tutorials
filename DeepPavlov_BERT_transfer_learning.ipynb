{
  "nbformat": 4,
  "nbformat_minor": 0,
  "metadata": {
    "colab": {
      "name": "DeepPavlov_BERT_transfer_learning.ipynb",
      "version": "0.3.2",
      "provenance": []
    },
    "language_info": {
      "codemirror_mode": {
        "name": "ipython",
        "version": 3
      },
      "file_extension": ".py",
      "mimetype": "text/x-python",
      "name": "python",
      "nbconvert_exporter": "python",
      "pygments_lexer": "ipython3",
      "version": "3.6.7"
    },
    "kernelspec": {
      "display_name": "Python 3",
      "language": "python",
      "name": "python3"
    },
    "accelerator": "GPU"
  },
  "cells": [
    {
      "cell_type": "markdown",
      "metadata": {
        "colab_type": "text",
        "id": "XqGbCc8C4UAn"
      },
      "source": [
        "# DeepPavlov: Transfer Learning with BERT\n",
        "\n",
        "Today we will cover following tasks:\n",
        "* classification\n",
        "* tagging (Named Enitity Recognition)\n",
        "* question answering (Stanford Question Answering Dataset)\n",
        "\n",
        "and zero-shot transfer from English to 103 other languages."
      ]
    },
    {
      "cell_type": "markdown",
      "metadata": {
        "colab_type": "text",
        "id": "H2WFTCgH4UAp"
      },
      "source": [
        "## BERT input representation\n",
        "Text preprocessing for BERT relies on tokenizing text on subtokens (or WordPieces). Then BERT internally represents each subtoken as sum of three vectors:\n",
        "* subtoken embedding\n",
        "* segment embedding\n",
        "* position embedding\n",
        "\n",
        "<img src=\"https://github.com/deepmipt/dp_tutorials/blob/master/img/BERT_input.png?raw=1\" width=75%/>"
      ]
    },
    {
      "cell_type": "markdown",
      "metadata": {
        "colab_type": "text",
        "id": "2yMoFE9R4UAq"
      },
      "source": [
        "## BERT for text classification\n",
        "When we want to use BERT model for text classification task we can train only one dense layer on top of the output from the last BERT Transformer layer for special `[CLS]` token.\n",
        "\n",
        "<img src=\"https://github.com/deepmipt/dp_tutorials/blob/master/img/BERT_classification.png?raw=1\" width=\"75%\" />"
      ]
    },
    {
      "cell_type": "markdown",
      "metadata": {
        "id": "SUKEWk0BDLWA",
        "colab_type": "text"
      },
      "source": [
        "Install DeepPavlov library:"
      ]
    },
    {
      "cell_type": "code",
      "metadata": {
        "id": "Mwzl_A0MDJ2v",
        "colab_type": "code",
        "colab": {}
      },
      "source": [
        "! pip install deeppavlov"
      ],
      "execution_count": 0,
      "outputs": []
    },
    {
      "cell_type": "markdown",
      "metadata": {
        "id": "Q5cA1hCADs5g",
        "colab_type": "text"
      },
      "source": [
        "Install requirements for BERT-based classification model:"
      ]
    },
    {
      "cell_type": "code",
      "metadata": {
        "id": "OkUU9OTHDrtY",
        "colab_type": "code",
        "colab": {}
      },
      "source": [
        "! python -m deeppavlov install insults_kaggle_bert"
      ],
      "execution_count": 0,
      "outputs": []
    },
    {
      "cell_type": "markdown",
      "metadata": {
        "id": "VPcVqL1yEuab",
        "colab_type": "text"
      },
      "source": [
        "Download and interact with pre-trained model with CLI:\n"
      ]
    },
    {
      "cell_type": "code",
      "metadata": {
        "id": "VI_aYO38E0PN",
        "colab_type": "code",
        "colab": {}
      },
      "source": [
        "! python -m deeppavlov interact -d insults_kaggle_bert"
      ],
      "execution_count": 0,
      "outputs": []
    },
    {
      "cell_type": "code",
      "metadata": {
        "id": "zGYf5yshE5re",
        "colab_type": "code",
        "colab": {}
      },
      "source": [
        ""
      ],
      "execution_count": 0,
      "outputs": []
    },
    {
      "cell_type": "code",
      "metadata": {
        "colab_type": "code",
        "id": "ghJthxM44UAr",
        "colab": {}
      },
      "source": [
        "# interact pre-trained model in deeppavlov \n",
        "# dataformat\n",
        "# what to change to train on your own data\n",
        "# commands to run"
      ],
      "execution_count": 0,
      "outputs": []
    },
    {
      "cell_type": "markdown",
      "metadata": {
        "colab_type": "text",
        "id": "PHC71FmA4UAx"
      },
      "source": [
        "## BERT for tagging (Named Entity Recognition)\n",
        "\n",
        "\n",
        "<img src=\"https://github.com/deepmipt/dp_tutorials/blob/master/img/BERT_NER.png?raw=1\" width=\"50%\" />"
      ]
    },
    {
      "cell_type": "code",
      "metadata": {
        "colab_type": "code",
        "id": "ZkTqzVTA4UAy",
        "colab": {}
      },
      "source": [
        "# interact pre-trained model in deeppavlov \n",
        "# dataformat\n",
        "# what to change to train on your own data\n",
        "# commands to run"
      ],
      "execution_count": 0,
      "outputs": []
    },
    {
      "cell_type": "markdown",
      "metadata": {
        "colab_type": "text",
        "id": "rxw8N0TR4UA1"
      },
      "source": [
        "## BERT for question answering (Stanford Question Answering Dataset)\n",
        "\n",
        "\n",
        "<img src=\"https://github.com/deepmipt/dp_tutorials/blob/master/img/BERT_QA.png?raw=1\" width=\"50%\" />"
      ]
    },
    {
      "cell_type": "markdown",
      "metadata": {
        "colab_type": "text",
        "id": "b4H6QeKM4UA2"
      },
      "source": [
        "## Zero-shot Transfer from English to 103 languages\n",
        "\n",
        "<img src=\"https://github.com/deepmipt/dp_tutorials/blob/master/img/BERT_multilingual.png?raw=1\" width=\"75%\" />"
      ]
    },
    {
      "cell_type": "code",
      "metadata": {
        "colab_type": "code",
        "id": "CgLelDoC4UA_",
        "colab": {}
      },
      "source": [
        "# interact with multi-NER\n",
        "# interact with multi-QA"
      ],
      "execution_count": 0,
      "outputs": []
    },
    {
      "cell_type": "code",
      "metadata": {
        "colab_type": "code",
        "id": "B3Is4zK17hT3",
        "colab": {}
      },
      "source": [
        ""
      ],
      "execution_count": 0,
      "outputs": []
    },
    {
      "cell_type": "code",
      "metadata": {
        "colab_type": "code",
        "id": "iS2_pO7B4UBB",
        "colab": {}
      },
      "source": [
        "! wget https://raw.githubusercontent.com/deepmipt/DeepPavlov/squad_multilingual_configs/deeppavlov/configs/squad/squad_bert_multilingual_freezed_emb.json"
      ],
      "execution_count": 0,
      "outputs": []
    },
    {
      "cell_type": "code",
      "metadata": {
        "colab_type": "code",
        "id": "zb8eVCAL8Jqo",
        "colab": {}
      },
      "source": [
        "! python -m deeppavlov install ./squad_bert_multilingual_freezed_emb.json"
      ],
      "execution_count": 0,
      "outputs": []
    },
    {
      "cell_type": "code",
      "metadata": {
        "colab_type": "code",
        "id": "SBQ1GW9o4UBF",
        "colab": {}
      },
      "source": [
        "! python -m deeppavlov interact -d ./squad_bert_multilingual_freezed_emb.json"
      ],
      "execution_count": 0,
      "outputs": []
    }
  ]
}