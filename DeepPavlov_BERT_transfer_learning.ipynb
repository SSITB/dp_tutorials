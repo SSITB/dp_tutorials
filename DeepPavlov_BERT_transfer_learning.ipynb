{
  "nbformat": 4,
  "nbformat_minor": 0,
  "metadata": {
    "colab": {
      "name": "DeepPavlov_BERT_transfer_learning.ipynb",
      "version": "0.3.2",
      "provenance": []
    },
    "kernelspec": {
      "name": "python3",
      "display_name": "Python 3"
    },
    "accelerator": "GPU"
  },
  "cells": [
    {
      "cell_type": "markdown",
      "metadata": {
        "id": "XqGbCc8C4UAn",
        "colab_type": "text"
      },
      "source": [
        "# DeepPavlov: Transfer Learning with BERT\n",
        "\n",
        "Today we will cover following tasks:\n",
        "* classification\n",
        "* tagging (Named Enitity Recognition)\n",
        "* question answering (Stanford Question Answering Dataset)\n",
        "\n",
        "and zero-shot transfer from English to 103 other languages."
      ]
    },
    {
      "cell_type": "markdown",
      "metadata": {
        "id": "H2WFTCgH4UAp",
        "colab_type": "text"
      },
      "source": [
        "## BERT input representation\n",
        "Text preprocessing for BERT relies on tokenizing text on subtokens (or WordPieces). Then BERT internally represents each subtoken as sum of three vectors:\n",
        "* subtoken embedding\n",
        "* segment embedding\n",
        "* position embedding\n",
        "\n",
        "<img src=\"https://github.com/deepmipt/dp_tutorials/blob/master/img/BERT_input.png?raw=1\" width=75%>"
      ]
    },
    {
      "cell_type": "markdown",
      "metadata": {
        "id": "2yMoFE9R4UAq",
        "colab_type": "text"
      },
      "source": [
        "## BERT for text classification\n",
        "When we want to use BERT model for text classification task we can train only one dense layer on top of the output from the last BERT Transformer layer for special `[CLS]` token.\n",
        "\n",
        "<img src=\"https://github.com/deepmipt/dp_tutorials/blob/master/img/BERT_classification.png?raw=1\" width=75%>"
      ]
    },
    {
      "cell_type": "code",
      "metadata": {
        "id": "ghJthxM44UAr",
        "colab_type": "code",
        "colab": {}
      },
      "source": [
        "# interact pre-trained model in deeppavlov \n",
        "# dataformat\n",
        "# what to change to train on your own data\n",
        "# commands to run"
      ],
      "execution_count": 0,
      "outputs": []
    },
    {
      "cell_type": "markdown",
      "metadata": {
        "id": "PHC71FmA4UAx",
        "colab_type": "text"
      },
      "source": [
        "## BERT for tagging (Named Entity Recognition)\n",
        "\n",
        "\n",
        "<img src=\"https://github.com/deepmipt/dp_tutorials/blob/master/img/BERT_NER.png?raw=1\" width=50%>"
      ]
    },
    {
      "cell_type": "code",
      "metadata": {
        "id": "ZkTqzVTA4UAy",
        "colab_type": "code",
        "colab": {}
      },
      "source": [
        "# interact pre-trained model in deeppavlov \n",
        "# dataformat\n",
        "# what to change to train on your own data\n",
        "# commands to run"
      ],
      "execution_count": 0,
      "outputs": []
    },
    {
      "cell_type": "markdown",
      "metadata": {
        "id": "rxw8N0TR4UA1",
        "colab_type": "text"
      },
      "source": [
        "## BERT for question answering (Stanford Question Answering Dataset)\n",
        "\n",
        "\n",
        "<img src=\"https://github.com/deepmipt/dp_tutorials/blob/master/img/BERT_QA.png?raw=1\" width=50%>"
      ]
    },
    {
      "cell_type": "markdown",
      "metadata": {
        "id": "b4H6QeKM4UA2",
        "colab_type": "text"
      },
      "source": [
        "## Zero-shot Transfer from English to 103 languages\n",
        "\n",
        "<img src=\"https://github.com/deepmipt/dp_tutorials/blob/master/img/BERT_multilingual.png?raw=1\" width=75%>"
      ]
    },
    {
      "cell_type": "code",
      "metadata": {
        "id": "CgLelDoC4UA_",
        "colab_type": "code",
        "colab": {}
      },
      "source": [
        "# interact with multi-NER\n",
        "# interact with multi-QA"
      ],
      "execution_count": 0,
      "outputs": []
    },
    {
      "cell_type": "code",
      "metadata": {
        "id": "B3Is4zK17hT3",
        "colab_type": "code",
        "colab": {}
      },
      "source": [
        "! pip install deeppavlov"
      ],
      "execution_count": 0,
      "outputs": []
    },
    {
      "cell_type": "code",
      "metadata": {
        "id": "iS2_pO7B4UBB",
        "colab_type": "code",
        "colab": {}
      },
      "source": [
        "! wget https://raw.githubusercontent.com/deepmipt/DeepPavlov/squad_multilingual_configs/deeppavlov/configs/squad/squad_bert_multilingual_freezed_emb.json"
      ],
      "execution_count": 0,
      "outputs": []
    },
    {
      "cell_type": "code",
      "metadata": {
        "id": "zb8eVCAL8Jqo",
        "colab_type": "code",
        "colab": {}
      },
      "source": [
        "! python -m deeppavlov install ./squad_bert_multilingual_freezed_emb.json"
      ],
      "execution_count": 0,
      "outputs": []
    },
    {
      "cell_type": "code",
      "metadata": {
        "id": "SBQ1GW9o4UBF",
        "colab_type": "code",
        "colab": {}
      },
      "source": [
        "! python -m deeppavlov interact -d ./squad_bert_multilingual_freezed_emb.json"
      ],
      "execution_count": 0,
      "outputs": []
    }
  ]
}