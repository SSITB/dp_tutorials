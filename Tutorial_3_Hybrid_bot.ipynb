{
  "nbformat": 4,
  "nbformat_minor": 0,
  "metadata": {
    "colab": {
      "name": "workshop_gobot.ipynb",
      "version": "0.3.2",
      "provenance": []
    },
    "language_info": {
      "codemirror_mode": {
        "name": "ipython",
        "version": 3
      },
      "file_extension": ".py",
      "mimetype": "text/x-python",
      "name": "python",
      "nbconvert_exporter": "python",
      "pygments_lexer": "ipython3",
      "version": "3.6.6"
    },
    "kernelspec": {
      "display_name": "Python 3",
      "language": "python",
      "name": "python3"
    }
  },
  "cells": [
    {
      "cell_type": "code",
      "metadata": {
        "id": "xdG7JifQrg67",
        "colab_type": "code",
        "colab": {
          "base_uri": "https://localhost:8080/",
          "height": 1000
        },
        "outputId": "64816aa3-d3d9-490d-db2e-c2e2a2cf4f41"
      },
      "source": [
        "!pip install deeppavlov"
      ],
      "execution_count": 1,
      "outputs": [
        {
          "output_type": "stream",
          "text": [
            "Collecting deeppavlov\n",
            "\u001b[?25l  Downloading https://files.pythonhosted.org/packages/03/4f/1f73825653f388ead9a9ea2f46cad51c92bd84a899ebf983906013e14d1c/deeppavlov-0.4.0-py3-none-any.whl (682kB)\n",
            "\u001b[K     |████████████████████████████████| 686kB 5.1MB/s \n",
            "\u001b[?25hCollecting numpy==1.14.5 (from deeppavlov)\n",
            "\u001b[?25l  Downloading https://files.pythonhosted.org/packages/68/1e/116ad560de97694e2d0c1843a7a0075cc9f49e922454d32f49a80eb6f1f2/numpy-1.14.5-cp36-cp36m-manylinux1_x86_64.whl (12.2MB)\n",
            "\u001b[K     |████████████████████████████████| 12.2MB 43.5MB/s \n",
            "\u001b[?25hCollecting keras==2.2.0 (from deeppavlov)\n",
            "\u001b[?25l  Downloading https://files.pythonhosted.org/packages/68/12/4cabc5c01451eb3b413d19ea151f36e33026fc0efb932bf51bcaf54acbf5/Keras-2.2.0-py2.py3-none-any.whl (300kB)\n",
            "\u001b[K     |████████████████████████████████| 307kB 44.4MB/s \n",
            "\u001b[?25hCollecting pyopenssl==18.0.0 (from deeppavlov)\n",
            "\u001b[?25l  Downloading https://files.pythonhosted.org/packages/96/af/9d29e6bd40823061aea2e0574ccb2fcf72bfd6130ce53d32773ec375458c/pyOpenSSL-18.0.0-py2.py3-none-any.whl (53kB)\n",
            "\u001b[K     |████████████████████████████████| 61kB 22.2MB/s \n",
            "\u001b[?25hCollecting Cython==0.28.5 (from deeppavlov)\n",
            "\u001b[?25l  Downloading https://files.pythonhosted.org/packages/19/8e/32b280abb0947a96cdbb8329fb2014851a21fc1d099009f946ea8a8202c3/Cython-0.28.5-cp36-cp36m-manylinux1_x86_64.whl (3.4MB)\n",
            "\u001b[K     |████████████████████████████████| 3.4MB 20.9MB/s \n",
            "\u001b[?25hCollecting flasgger==0.9.1 (from deeppavlov)\n",
            "\u001b[?25l  Downloading https://files.pythonhosted.org/packages/f7/4c/8735be27bebb88b0acbdc9db1d522583db10821aec3d3fb6112df0f41701/flasgger-0.9.1-py2.py3-none-any.whl (4.1MB)\n",
            "\u001b[K     |████████████████████████████████| 4.1MB 43.8MB/s \n",
            "\u001b[?25hCollecting flask-cors==3.0.6 (from deeppavlov)\n",
            "  Downloading https://files.pythonhosted.org/packages/d1/db/f3495569d5c3e2bdb9fb8a66c54503364abb6f35a9da2227cf5c9c50dc42/Flask_Cors-3.0.6-py2.py3-none-any.whl\n",
            "Collecting scipy==1.1.0 (from deeppavlov)\n",
            "\u001b[?25l  Downloading https://files.pythonhosted.org/packages/a8/0b/f163da98d3a01b3e0ef1cab8dd2123c34aee2bafbb1c5bffa354cc8a1730/scipy-1.1.0-cp36-cp36m-manylinux1_x86_64.whl (31.2MB)\n",
            "\u001b[K     |████████████████████████████████| 31.2MB 50.0MB/s \n",
            "\u001b[?25hCollecting rusenttokenize==0.0.4 (from deeppavlov)\n",
            "  Downloading https://files.pythonhosted.org/packages/f8/4c/e2aeee9cdcc266303289ad8c4acfdcf401781646bcc311ee2bf18f84d663/rusenttokenize-0.0.4-py3-none-any.whl\n",
            "Requirement already satisfied: nltk==3.2.5 in /usr/local/lib/python3.6/dist-packages (from deeppavlov) (3.2.5)\n",
            "Collecting fuzzywuzzy==0.16.0 (from deeppavlov)\n",
            "  Downloading https://files.pythonhosted.org/packages/3b/36/be990a35c7e8ed9dc176c43b5699cd971cec0b6f9ef858843374171df4f2/fuzzywuzzy-0.16.0-py2.py3-none-any.whl\n",
            "Collecting pymorphy2==0.8 (from deeppavlov)\n",
            "\u001b[?25l  Downloading https://files.pythonhosted.org/packages/a3/33/fff9675c68b5f6c63ec8c6e6ff57827dda28a1fa5b2c2d727dffff92dd47/pymorphy2-0.8-py2.py3-none-any.whl (46kB)\n",
            "\u001b[K     |████████████████████████████████| 51kB 20.9MB/s \n",
            "\u001b[?25hCollecting pandas==0.23.1 (from deeppavlov)\n",
            "\u001b[?25l  Downloading https://files.pythonhosted.org/packages/57/eb/6ab533ea8e35e7dd159af6922ac1123d4565d89f3926ad9a6aa46530978f/pandas-0.23.1-cp36-cp36m-manylinux1_x86_64.whl (11.8MB)\n",
            "\u001b[K     |████████████████████████████████| 11.8MB 226kB/s \n",
            "\u001b[?25hCollecting scikit-learn==0.19.1 (from deeppavlov)\n",
            "\u001b[?25l  Downloading https://files.pythonhosted.org/packages/3d/2d/9fbc7baa5f44bc9e88ffb7ed32721b879bfa416573e85031e16f52569bc9/scikit_learn-0.19.1-cp36-cp36m-manylinux1_x86_64.whl (12.4MB)\n",
            "\u001b[K     |████████████████████████████████| 12.4MB 40.5MB/s \n",
            "\u001b[?25hCollecting overrides==1.9 (from deeppavlov)\n",
            "  Downloading https://files.pythonhosted.org/packages/de/55/3100c6d14c1ed177492fcf8f07c4a7d2d6c996c0a7fc6a9a0a41308e7eec/overrides-1.9.tar.gz\n",
            "Collecting pytelegrambotapi==3.5.2 (from deeppavlov)\n",
            "\u001b[?25l  Downloading https://files.pythonhosted.org/packages/a4/5a/7aab147b253f19e5ef007316f39cf693a63d5cd7f654c3805c76f6bde979/pyTelegramBotAPI-3.5.2.tar.gz (51kB)\n",
            "\u001b[K     |████████████████████████████████| 61kB 20.3MB/s \n",
            "\u001b[?25hCollecting requests==2.19.1 (from deeppavlov)\n",
            "\u001b[?25l  Downloading https://files.pythonhosted.org/packages/65/47/7e02164a2a3db50ed6d8a6ab1d6d60b69c4c3fdf57a284257925dfc12bda/requests-2.19.1-py2.py3-none-any.whl (91kB)\n",
            "\u001b[K     |████████████████████████████████| 92kB 26.5MB/s \n",
            "\u001b[?25hRequirement already satisfied: h5py==2.8.0 in /usr/local/lib/python3.6/dist-packages (from deeppavlov) (2.8.0)\n",
            "Collecting flask==1.0.2 (from deeppavlov)\n",
            "\u001b[?25l  Downloading https://files.pythonhosted.org/packages/7f/e7/08578774ed4536d3242b14dacb4696386634607af824ea997202cd0edb4b/Flask-1.0.2-py2.py3-none-any.whl (91kB)\n",
            "\u001b[K     |████████████████████████████████| 92kB 28.0MB/s \n",
            "\u001b[?25hCollecting tqdm==4.23.4 (from deeppavlov)\n",
            "\u001b[?25l  Downloading https://files.pythonhosted.org/packages/93/24/6ab1df969db228aed36a648a8959d1027099ce45fad67532b9673d533318/tqdm-4.23.4-py2.py3-none-any.whl (42kB)\n",
            "\u001b[K     |████████████████████████████████| 51kB 20.8MB/s \n",
            "\u001b[?25hCollecting pymorphy2-dicts-ru (from deeppavlov)\n",
            "\u001b[?25l  Downloading https://files.pythonhosted.org/packages/7c/9b/358faaff410f65a4ad159275e897b5956dcb20576c5b8e764b971c1634d7/pymorphy2_dicts_ru-2.4.404381.4453942-py2.py3-none-any.whl (8.0MB)\n",
            "\u001b[K     |████████████████████████████████| 8.0MB 38.5MB/s \n",
            "\u001b[?25hRequirement already satisfied: pyyaml in /usr/local/lib/python3.6/dist-packages (from keras==2.2.0->deeppavlov) (3.13)\n",
            "Requirement already satisfied: six>=1.9.0 in /usr/local/lib/python3.6/dist-packages (from keras==2.2.0->deeppavlov) (1.12.0)\n",
            "Collecting keras-applications==1.0.2 (from keras==2.2.0->deeppavlov)\n",
            "\u001b[?25l  Downloading https://files.pythonhosted.org/packages/e2/60/c557075e586e968d7a9c314aa38c236b37cb3ee6b37e8d57152b1a5e0b47/Keras_Applications-1.0.2-py2.py3-none-any.whl (43kB)\n",
            "\u001b[K     |████████████████████████████████| 51kB 20.6MB/s \n",
            "\u001b[?25hCollecting keras-preprocessing==1.0.1 (from keras==2.2.0->deeppavlov)\n",
            "  Downloading https://files.pythonhosted.org/packages/f8/33/275506afe1d96b221f66f95adba94d1b73f6b6087cfb6132a5655b6fe338/Keras_Preprocessing-1.0.1-py2.py3-none-any.whl\n",
            "Collecting cryptography>=2.2.1 (from pyopenssl==18.0.0->deeppavlov)\n",
            "\u001b[?25l  Downloading https://files.pythonhosted.org/packages/97/18/c6557f63a6abde34707196fb2cad1c6dc0dbff25a200d5044922496668a4/cryptography-2.7-cp34-abi3-manylinux1_x86_64.whl (2.3MB)\n",
            "\u001b[K     |████████████████████████████████| 2.3MB 35.1MB/s \n",
            "\u001b[?25hRequirement already satisfied: jsonschema>=2.5.1 in /usr/local/lib/python3.6/dist-packages (from flasgger==0.9.1->deeppavlov) (2.6.0)\n",
            "Requirement already satisfied: mistune in /usr/local/lib/python3.6/dist-packages (from flasgger==0.9.1->deeppavlov) (0.8.4)\n",
            "Collecting dawg-python>=0.7 (from pymorphy2==0.8->deeppavlov)\n",
            "  Downloading https://files.pythonhosted.org/packages/6a/84/ff1ce2071d4c650ec85745766c0047ccc3b5036f1d03559fd46bb38b5eeb/DAWG_Python-0.7.2-py2.py3-none-any.whl\n",
            "Requirement already satisfied: docopt>=0.6 in /usr/local/lib/python3.6/dist-packages (from pymorphy2==0.8->deeppavlov) (0.6.2)\n",
            "Collecting pymorphy2-dicts<3.0,>=2.4 (from pymorphy2==0.8->deeppavlov)\n",
            "\u001b[?25l  Downloading https://files.pythonhosted.org/packages/02/51/2465fd4f72328ab50877b54777764d928da8cb15b74e2680fc1bd8cb3173/pymorphy2_dicts-2.4.393442.3710985-py2.py3-none-any.whl (7.1MB)\n",
            "\u001b[K     |████████████████████████████████| 7.1MB 38.3MB/s \n",
            "\u001b[?25hRequirement already satisfied: python-dateutil>=2.5.0 in /usr/local/lib/python3.6/dist-packages (from pandas==0.23.1->deeppavlov) (2.5.3)\n",
            "Requirement already satisfied: pytz>=2011k in /usr/local/lib/python3.6/dist-packages (from pandas==0.23.1->deeppavlov) (2018.9)\n",
            "Collecting idna<2.8,>=2.5 (from requests==2.19.1->deeppavlov)\n",
            "\u001b[?25l  Downloading https://files.pythonhosted.org/packages/4b/2a/0276479a4b3caeb8a8c1af2f8e4355746a97fab05a372e4a2c6a6b876165/idna-2.7-py2.py3-none-any.whl (58kB)\n",
            "\u001b[K     |████████████████████████████████| 61kB 23.5MB/s \n",
            "\u001b[?25hRequirement already satisfied: chardet<3.1.0,>=3.0.2 in /usr/local/lib/python3.6/dist-packages (from requests==2.19.1->deeppavlov) (3.0.4)\n",
            "Requirement already satisfied: certifi>=2017.4.17 in /usr/local/lib/python3.6/dist-packages (from requests==2.19.1->deeppavlov) (2019.6.16)\n",
            "Collecting urllib3<1.24,>=1.21.1 (from requests==2.19.1->deeppavlov)\n",
            "\u001b[?25l  Downloading https://files.pythonhosted.org/packages/bd/c9/6fdd990019071a4a32a5e7cb78a1d92c53851ef4f56f62a3486e6a7d8ffb/urllib3-1.23-py2.py3-none-any.whl (133kB)\n",
            "\u001b[K     |████████████████████████████████| 143kB 49.7MB/s \n",
            "\u001b[?25hRequirement already satisfied: Jinja2>=2.10 in /usr/local/lib/python3.6/dist-packages (from flask==1.0.2->deeppavlov) (2.10.1)\n",
            "Requirement already satisfied: Werkzeug>=0.14 in /usr/local/lib/python3.6/dist-packages (from flask==1.0.2->deeppavlov) (0.15.4)\n",
            "Requirement already satisfied: click>=5.1 in /usr/local/lib/python3.6/dist-packages (from flask==1.0.2->deeppavlov) (7.0)\n",
            "Requirement already satisfied: itsdangerous>=0.24 in /usr/local/lib/python3.6/dist-packages (from flask==1.0.2->deeppavlov) (1.1.0)\n",
            "Requirement already satisfied: cffi!=1.11.3,>=1.8 in /usr/local/lib/python3.6/dist-packages (from cryptography>=2.2.1->pyopenssl==18.0.0->deeppavlov) (1.12.3)\n",
            "Collecting asn1crypto>=0.21.0 (from cryptography>=2.2.1->pyopenssl==18.0.0->deeppavlov)\n",
            "\u001b[?25l  Downloading https://files.pythonhosted.org/packages/ea/cd/35485615f45f30a510576f1a56d1e0a7ad7bd8ab5ed7cdc600ef7cd06222/asn1crypto-0.24.0-py2.py3-none-any.whl (101kB)\n",
            "\u001b[K     |████████████████████████████████| 102kB 28.7MB/s \n",
            "\u001b[?25hRequirement already satisfied: MarkupSafe>=0.23 in /usr/local/lib/python3.6/dist-packages (from Jinja2>=2.10->flask==1.0.2->deeppavlov) (1.1.1)\n",
            "Requirement already satisfied: pycparser in /usr/local/lib/python3.6/dist-packages (from cffi!=1.11.3,>=1.8->cryptography>=2.2.1->pyopenssl==18.0.0->deeppavlov) (2.19)\n",
            "Building wheels for collected packages: overrides, pytelegrambotapi\n",
            "  Building wheel for overrides (setup.py) ... \u001b[?25l\u001b[?25hdone\n",
            "  Stored in directory: /root/.cache/pip/wheels/8d/52/86/e5a83b1797e7d263b458d2334edd2704c78508b3eea9323718\n",
            "  Building wheel for pytelegrambotapi (setup.py) ... \u001b[?25l\u001b[?25hdone\n",
            "  Stored in directory: /root/.cache/pip/wheels/b0/a0/fa/c3539fd47aa9f834230d64039c4bc620463bc7afc39b0f3f35\n",
            "Successfully built overrides pytelegrambotapi\n",
            "\u001b[31mERROR: yellowbrick 0.9.1 has requirement scikit-learn>=0.20, but you'll have scikit-learn 0.19.1 which is incompatible.\u001b[0m\n",
            "\u001b[31mERROR: tensorflow 1.14.0 has requirement keras-applications>=1.0.6, but you'll have keras-applications 1.0.2 which is incompatible.\u001b[0m\n",
            "\u001b[31mERROR: tensorflow 1.14.0 has requirement keras-preprocessing>=1.0.5, but you'll have keras-preprocessing 1.0.1 which is incompatible.\u001b[0m\n",
            "\u001b[31mERROR: spacy 2.1.4 has requirement numpy>=1.15.0, but you'll have numpy 1.14.5 which is incompatible.\u001b[0m\n",
            "\u001b[31mERROR: plotnine 0.5.1 has requirement pandas>=0.23.4, but you'll have pandas 0.23.1 which is incompatible.\u001b[0m\n",
            "\u001b[31mERROR: mizani 0.5.4 has requirement pandas>=0.23.4, but you'll have pandas 0.23.1 which is incompatible.\u001b[0m\n",
            "\u001b[31mERROR: imgaug 0.2.9 has requirement numpy>=1.15.0, but you'll have numpy 1.14.5 which is incompatible.\u001b[0m\n",
            "\u001b[31mERROR: imbalanced-learn 0.4.3 has requirement scikit-learn>=0.20, but you'll have scikit-learn 0.19.1 which is incompatible.\u001b[0m\n",
            "\u001b[31mERROR: google-colab 1.0.0 has requirement pandas~=0.24.0, but you'll have pandas 0.23.1 which is incompatible.\u001b[0m\n",
            "\u001b[31mERROR: google-colab 1.0.0 has requirement requests~=2.21.0, but you'll have requests 2.19.1 which is incompatible.\u001b[0m\n",
            "\u001b[31mERROR: fbprophet 0.5 has requirement pandas>=0.23.4, but you'll have pandas 0.23.1 which is incompatible.\u001b[0m\n",
            "\u001b[31mERROR: fastai 1.0.54 has requirement numpy>=1.15, but you'll have numpy 1.14.5 which is incompatible.\u001b[0m\n",
            "\u001b[31mERROR: datascience 0.10.6 has requirement folium==0.2.1, but you'll have folium 0.8.3 which is incompatible.\u001b[0m\n",
            "\u001b[31mERROR: blis 0.2.4 has requirement numpy>=1.15.0, but you'll have numpy 1.14.5 which is incompatible.\u001b[0m\n",
            "\u001b[31mERROR: albumentations 0.1.12 has requirement imgaug<0.2.7,>=0.2.5, but you'll have imgaug 0.2.9 which is incompatible.\u001b[0m\n",
            "Installing collected packages: numpy, scipy, keras-applications, keras-preprocessing, keras, asn1crypto, cryptography, pyopenssl, Cython, flask, flasgger, flask-cors, rusenttokenize, fuzzywuzzy, dawg-python, pymorphy2-dicts, pymorphy2, pandas, scikit-learn, overrides, idna, urllib3, requests, pytelegrambotapi, tqdm, pymorphy2-dicts-ru, deeppavlov\n",
            "  Found existing installation: numpy 1.16.4\n",
            "    Uninstalling numpy-1.16.4:\n",
            "      Successfully uninstalled numpy-1.16.4\n",
            "  Found existing installation: scipy 1.3.0\n",
            "    Uninstalling scipy-1.3.0:\n",
            "      Successfully uninstalled scipy-1.3.0\n",
            "  Found existing installation: Keras-Applications 1.0.8\n",
            "    Uninstalling Keras-Applications-1.0.8:\n",
            "      Successfully uninstalled Keras-Applications-1.0.8\n",
            "  Found existing installation: Keras-Preprocessing 1.1.0\n",
            "    Uninstalling Keras-Preprocessing-1.1.0:\n",
            "      Successfully uninstalled Keras-Preprocessing-1.1.0\n",
            "  Found existing installation: Keras 2.2.4\n",
            "    Uninstalling Keras-2.2.4:\n",
            "      Successfully uninstalled Keras-2.2.4\n",
            "  Found existing installation: Cython 0.29.10\n",
            "    Uninstalling Cython-0.29.10:\n",
            "      Successfully uninstalled Cython-0.29.10\n",
            "  Found existing installation: Flask 1.0.3\n",
            "    Uninstalling Flask-1.0.3:\n",
            "      Successfully uninstalled Flask-1.0.3\n",
            "  Found existing installation: pandas 0.24.2\n",
            "    Uninstalling pandas-0.24.2:\n",
            "      Successfully uninstalled pandas-0.24.2\n",
            "  Found existing installation: scikit-learn 0.21.2\n",
            "    Uninstalling scikit-learn-0.21.2:\n",
            "      Successfully uninstalled scikit-learn-0.21.2\n",
            "  Found existing installation: idna 2.8\n",
            "    Uninstalling idna-2.8:\n",
            "      Successfully uninstalled idna-2.8\n",
            "  Found existing installation: urllib3 1.24.3\n",
            "    Uninstalling urllib3-1.24.3:\n",
            "      Successfully uninstalled urllib3-1.24.3\n",
            "  Found existing installation: requests 2.21.0\n",
            "    Uninstalling requests-2.21.0:\n",
            "      Successfully uninstalled requests-2.21.0\n",
            "  Found existing installation: tqdm 4.28.1\n",
            "    Uninstalling tqdm-4.28.1:\n",
            "      Successfully uninstalled tqdm-4.28.1\n",
            "Successfully installed Cython-0.28.5 asn1crypto-0.24.0 cryptography-2.7 dawg-python-0.7.2 deeppavlov-0.4.0 flasgger-0.9.1 flask-1.0.2 flask-cors-3.0.6 fuzzywuzzy-0.16.0 idna-2.7 keras-2.2.0 keras-applications-1.0.2 keras-preprocessing-1.0.1 numpy-1.14.5 overrides-1.9 pandas-0.23.1 pymorphy2-0.8 pymorphy2-dicts-2.4.393442.3710985 pymorphy2-dicts-ru-2.4.404381.4453942 pyopenssl-18.0.0 pytelegrambotapi-3.5.2 requests-2.19.1 rusenttokenize-0.0.4 scikit-learn-0.19.1 scipy-1.1.0 tqdm-4.23.4 urllib3-1.23\n"
          ],
          "name": "stdout"
        },
        {
          "output_type": "display_data",
          "data": {
            "application/vnd.colab-display-data+json": {
              "pip_warning": {
                "packages": [
                  "idna",
                  "numpy",
                  "pandas",
                  "requests",
                  "tqdm",
                  "urllib3"
                ]
              }
            }
          },
          "metadata": {
            "tags": []
          }
        }
      ]
    },
    {
      "cell_type": "code",
      "metadata": {
        "id": "zixRr_bIrg7D",
        "colab_type": "code",
        "colab": {}
      },
      "source": [
        "import deeppavlov"
      ],
      "execution_count": 0,
      "outputs": []
    },
    {
      "cell_type": "code",
      "metadata": {
        "id": "emH-vjpXrg7K",
        "colab_type": "code",
        "colab": {
          "base_uri": "https://localhost:8080/",
          "height": 156
        },
        "outputId": "4abd7d38-e3b1-41b3-c920-70380a3e4166"
      },
      "source": [
        "from deeppavlov.dataset_readers.dstc2_reader import DSTC2DatasetReader\n",
        "\n",
        "data = DSTC2DatasetReader().read('../../download/dstc2/')"
      ],
      "execution_count": 3,
      "outputs": [
        {
          "output_type": "stream",
          "text": [
            "2019-07-02 23:14:08.424 INFO in 'deeppavlov.dataset_readers.dstc2_reader'['dstc2_reader'] at line 95: [downloading data from http://files.deeppavlov.ai/datasets/dstc2_v2.tar.gz to ../../download/dstc2/]\n",
            "2019-07-02 23:14:09.288 INFO in 'deeppavlov.core.data.utils'['utils'] at line 63: Downloading from http://files.deeppavlov.ai/datasets/dstc2_v2.tar.gz to ../../download/dstc2/dstc2_v2.tar.gz\n",
            "100%|██████████| 506k/506k [00:00<00:00, 550kB/s]\n",
            "2019-07-02 23:14:10.214 INFO in 'deeppavlov.core.data.utils'['utils'] at line 201: Extracting ../../download/dstc2/dstc2_v2.tar.gz archive into ../../download/dstc2\n",
            "2019-07-02 23:14:10.268 INFO in 'deeppavlov.dataset_readers.dstc2_reader'['dstc2_reader'] at line 112: [loading dialogs from ../../download/dstc2/dstc2-trn.jsonlist]\n",
            "2019-07-02 23:14:10.574 INFO in 'deeppavlov.dataset_readers.dstc2_reader'['dstc2_reader'] at line 112: [loading dialogs from ../../download/dstc2/dstc2-val.jsonlist]\n",
            "2019-07-02 23:14:10.840 INFO in 'deeppavlov.dataset_readers.dstc2_reader'['dstc2_reader'] at line 112: [loading dialogs from ../../download/dstc2/dstc2-tst.jsonlist]\n"
          ],
          "name": "stderr"
        }
      ]
    },
    {
      "cell_type": "code",
      "metadata": {
        "id": "4BQR2SC9rg7Y",
        "colab_type": "code",
        "colab": {
          "base_uri": "https://localhost:8080/",
          "height": 68
        },
        "outputId": "497fcfc2-58df-4fdc-fdb5-f1a31512ffb0"
      },
      "source": [
        "data['train'][1]"
      ],
      "execution_count": 4,
      "outputs": [
        {
          "output_type": "execute_result",
          "data": {
            "text/plain": [
              "({'intents': [{'act': 'inform', 'slots': [['pricerange', 'cheap']]}],\n",
              "  'text': 'cheap restaurant'},\n",
              " {'act': 'request_food', 'text': 'What kind of food would you like?'})"
            ]
          },
          "metadata": {
            "tags": []
          },
          "execution_count": 4
        }
      ]
    },
    {
      "cell_type": "code",
      "metadata": {
        "id": "B10WQMwNrg7i",
        "colab_type": "code",
        "colab": {}
      },
      "source": [
        "from overrides import overrides\n",
        "\n",
        "from deeppavlov.core.common.registry import register\n",
        "from deeppavlov.core.data.data_learning_iterator import DataLearningIterator\n",
        "\n",
        "\n",
        "@register('my_dialog_iterator')\n",
        "class MyDialogDatasetIterator(DataLearningIterator):\n",
        "\n",
        "    @staticmethod\n",
        "    def _dialogs(data):\n",
        "        dialogs = []\n",
        "        prev_resp_act = None\n",
        "        for x, y in data:\n",
        "            if x.get('episode_done'):\n",
        "                del x['episode_done']\n",
        "                prev_resp_act = None\n",
        "                dialogs.append(([], []))\n",
        "            x['prev_resp_act'] = prev_resp_act\n",
        "            prev_resp_act = y['act']\n",
        "            dialogs[-1][0].append(x)\n",
        "            dialogs[-1][1].append(y)\n",
        "        return dialogs\n",
        "\n",
        "    @overrides\n",
        "    def split(self, *args, **kwargs):\n",
        "        self.train = self._dialogs(self.train)\n",
        "        self.valid = self._dialogs(self.valid)\n",
        "        self.test = self._dialogs(self.test)"
      ],
      "execution_count": 0,
      "outputs": []
    },
    {
      "cell_type": "code",
      "metadata": {
        "id": "cg2o2yharg7q",
        "colab_type": "code",
        "colab": {}
      },
      "source": [
        "iterator = MyDialogDatasetIterator(data)"
      ],
      "execution_count": 0,
      "outputs": []
    },
    {
      "cell_type": "code",
      "metadata": {
        "id": "0UUq1N5lrg7w",
        "colab_type": "code",
        "colab": {
          "base_uri": "https://localhost:8080/",
          "height": 510
        },
        "outputId": "395fa043-9a2a-4891-ceea-8fe788899d88"
      },
      "source": [
        "x_dialog, y_dialog = iterator.train[0]\n",
        "x_dialog"
      ],
      "execution_count": 7,
      "outputs": [
        {
          "output_type": "execute_result",
          "data": {
            "text/plain": [
              "[{'intents': [], 'prev_resp_act': None, 'text': ''},\n",
              " {'intents': [{'act': 'inform', 'slots': [['pricerange', 'cheap']]}],\n",
              "  'prev_resp_act': 'welcomemsg',\n",
              "  'text': 'cheap restaurant'},\n",
              " {'intents': [{'act': 'inform', 'slots': [['this', 'dontcare']]}],\n",
              "  'prev_resp_act': 'request_food',\n",
              "  'text': 'any'},\n",
              " {'intents': [{'act': 'inform', 'slots': [['area', 'south']]}],\n",
              "  'prev_resp_act': 'request_area',\n",
              "  'text': 'south'},\n",
              " {'db_result': {'addr': 'cambridge leisure park clifton way cherry hinton',\n",
              "   'area': 'south',\n",
              "   'food': 'chinese',\n",
              "   'name': 'the lucky star',\n",
              "   'phone': '01223 244277',\n",
              "   'postcode': 'c.b 1, 7 d.y',\n",
              "   'pricerange': 'cheap'},\n",
              "  'intents': [{'act': 'inform', 'slots': [['area', 'south']]}],\n",
              "  'prev_resp_act': 'api_call',\n",
              "  'text': 'south'},\n",
              " {'intents': [{'act': 'request', 'slots': [['slot', 'addr']]}],\n",
              "  'prev_resp_act': 'inform_area+inform_food+offer_name',\n",
              "  'text': 'address'},\n",
              " {'intents': [{'act': 'request', 'slots': [['slot', 'phone']]}],\n",
              "  'prev_resp_act': 'inform_addr+offer_name',\n",
              "  'text': 'phone number'},\n",
              " {'intents': [{'act': 'thankyou', 'slots': []}, {'act': 'bye', 'slots': []}],\n",
              "  'prev_resp_act': 'inform_phone+offer_name',\n",
              "  'text': 'thank you good bye'}]"
            ]
          },
          "metadata": {
            "tags": []
          },
          "execution_count": 7
        }
      ]
    },
    {
      "cell_type": "code",
      "metadata": {
        "id": "0XgDJgbxrg79",
        "colab_type": "code",
        "colab": {
          "base_uri": "https://localhost:8080/",
          "height": 68
        },
        "outputId": "b2b0e226-9e67-4544-d091-daa7b8000051"
      },
      "source": [
        "x_dialog[1]"
      ],
      "execution_count": 8,
      "outputs": [
        {
          "output_type": "execute_result",
          "data": {
            "text/plain": [
              "{'intents': [{'act': 'inform', 'slots': [['pricerange', 'cheap']]}],\n",
              " 'prev_resp_act': 'welcomemsg',\n",
              " 'text': 'cheap restaurant'}"
            ]
          },
          "metadata": {
            "tags": []
          },
          "execution_count": 8
        }
      ]
    },
    {
      "cell_type": "code",
      "metadata": {
        "id": "C3C6XNUErg8F",
        "colab_type": "code",
        "colab": {
          "base_uri": "https://localhost:8080/",
          "height": 34
        },
        "outputId": "310a01ff-f5c1-448d-c4f8-a99334efc89b"
      },
      "source": [
        "y_dialog[1]"
      ],
      "execution_count": 9,
      "outputs": [
        {
          "output_type": "execute_result",
          "data": {
            "text/plain": [
              "{'act': 'request_food', 'text': 'What kind of food would you like?'}"
            ]
          },
          "metadata": {
            "tags": []
          },
          "execution_count": 9
        }
      ]
    },
    {
      "cell_type": "markdown",
      "metadata": {
        "id": "6t8JVsPlrg8S",
        "colab_type": "text"
      },
      "source": [
        "## Training bot without NER (named entity recognition)"
      ]
    },
    {
      "cell_type": "code",
      "metadata": {
        "id": "kI3X0lnOrg8V",
        "colab_type": "code",
        "colab": {}
      },
      "source": [
        "tokenizer = {\n",
        "    \"class_name\": \"deeppavlov.models.go_bot.wrapper:DialogComponentWrapper\",\n",
        "    \"component\": { \"class_name\": \"split_tokenizer\" },\n",
        "    \"in\": [\"x\"],\n",
        "    \"out\": [\"x_tokens\"]\n",
        "}\n",
        "token_vocabulary = {\n",
        "    \"id\": \"token_vocab\",\n",
        "    \"class_name\": \"simple_vocab\",\n",
        "    \"fit_on\": [\"x_tokens\"],\n",
        "    \"save_path\": \"{MODELS_PATH}/my_gobot/token.dict\",\n",
        "    \"load_path\": \"{MODELS_PATH}/my_gobot/token.dict\"\n",
        "}\n",
        "network = {\n",
        "    \"in\": [\"x\"],\n",
        "    \"in_y\": [\"y\"],\n",
        "    \"out\": [\"y_predicted\"],\n",
        "    \"main\": True,\n",
        "    \"class_name\": \"go_bot\",\n",
        "    \"load_path\": \"{MODELS_PATH}/my_gobot/model\",\n",
        "    \"save_path\": \"{MODELS_PATH}/my_gobot/model\",\n",
        "    \"debug\": False,\n",
        "    \"word_vocab\": \"#token_vocab\",\n",
        "    \"template_path\": \"{DOWNLOADS_PATH}/dstc2/dstc2-templates.txt\",\n",
        "    \"template_type\": \"DualTemplate\",\n",
        "    \"api_call_action\": \"api_call\",\n",
        "    \"use_action_mask\": False,\n",
        "    \"network_parameters\": {\n",
        "      \"learning_rate\": 0.005,\n",
        "      \"dropout_rate\": 0.5,\n",
        "      \"l2_reg_coef\": 7e-4,\n",
        "      \"hidden_size\": 128,\n",
        "      \"dense_size\": 160\n",
        "    },\n",
        "    \"slot_filler\": None,\n",
        "    \"intent_classifier\": None,\n",
        "    \"embedder\": None,\n",
        "    \"bow_embedder\": {\n",
        "      \"class_name\": \"bow\",\n",
        "      \"depth\": \"#token_vocab.__len__()\",\n",
        "      \"with_counts\": True\n",
        "    },\n",
        "    \"tokenizer\": {\n",
        "      \"class_name\": \"stream_spacy_tokenizer\",\n",
        "      \"lowercase\": False\n",
        "    },\n",
        "    \"tracker\": {\n",
        "      \"class_name\": \"featurized_tracker\",\n",
        "      \"slot_names\": []\n",
        "    }\n",
        "}\n",
        "\n",
        "\n",
        "basic_config = {\n",
        "  \"dataset_reader\": {\n",
        "    \"class_name\": \"dstc2_reader\",\n",
        "    \"data_path\": \"{DOWNLOADS_PATH}/dstc2\"\n",
        "  },\n",
        "  \"dataset_iterator\": {\n",
        "    \"class_name\": \"my_dialog_iterator\"\n",
        "  },\n",
        "  \"chainer\": {\n",
        "    \"in\": [\"x\"],\n",
        "    \"in_y\": [\"y\"],\n",
        "    \"out\": [\"y_predicted\"],\n",
        "    \"pipe\": [\n",
        "        tokenizer,\n",
        "        token_vocabulary,\n",
        "        network\n",
        "    ]\n",
        "  },\n",
        "  \"train\": {\n",
        "    \"epochs\": 200,\n",
        "    \"batch_size\": 4,\n",
        "\n",
        "    \"metrics\": [\"per_item_dialog_accuracy\"],\n",
        "    \"validation_patience\": 10,\n",
        "    \n",
        "    \"val_every_n_batches\": 15,\n",
        "    \"val_every_n_epochs\": -1,\n",
        "\n",
        "    \"log_every_n_batches\": 15,\n",
        "    \"log_every_n_epochs\": -1,\n",
        "    \"show_examples\": False,\n",
        "    \"validate_best\": True,\n",
        "    \"test_best\": True\n",
        "  },\n",
        "  \"metadata\": {\n",
        "    \"variables\": {\n",
        "      \"ROOT_PATH\": \"~/.deeppavlov\",\n",
        "      \"DOWNLOADS_PATH\": \"{ROOT_PATH}/downloads\",\n",
        "      \"MODELS_PATH\": \"./models\",\n",
        "      \"CONFIGS_PATH\": \"./configs\"\n",
        "    },\n",
        "    \"requirements\": [\n",
        "      \"{DEEPPAVLOV_PATH}/requirements/tf.txt\",\n",
        "      \"{DEEPPAVLOV_PATH}/requirements/fasttext.txt\",\n",
        "      \"{DEEPPAVLOV_PATH}/requirements/spacy.txt\",\n",
        "      \"{DEEPPAVLOV_PATH}/requirements/en_core_web_sm.txt\"\n",
        "    ],\n",
        "    \"labels\": {\n",
        "      \"telegram_utils\": \"GoalOrientedBot\",\n",
        "      \"server_utils\": \"GoalOrientedBot\"\n",
        "    },\n",
        "    \"download\": [\n",
        "      {\n",
        "        \"url\": \"http://files.deeppavlov.ai/datasets/dstc2_v2.tar.gz\",\n",
        "        \"subdir\": \"{DOWNLOADS_PATH}/dstc2\"\n",
        "      }\n",
        "    ]\n",
        "  }\n",
        "}"
      ],
      "execution_count": 0,
      "outputs": []
    },
    {
      "cell_type": "code",
      "metadata": {
        "id": "H-urFF10rg8e",
        "colab_type": "code",
        "colab": {}
      },
      "source": [
        "from deeppavlov import train_model, build_model\n",
        "\n",
        "from copy import copy"
      ],
      "execution_count": 0,
      "outputs": []
    },
    {
      "cell_type": "code",
      "metadata": {
        "id": "jQAJR7Pfrg8k",
        "colab_type": "code",
        "colab": {},
        "outputId": "fff90e58-479f-4d5e-e114-6eb5916bdd77"
      },
      "source": [
        "bot = train_model(basic_config, download=True)"
      ],
      "execution_count": 0,
      "outputs": [
        {
          "output_type": "stream",
          "text": [
            "2018-11-28 16:44:45.590 DEBUG in 'urllib3.connectionpool'['connectionpool'] at line 205: Starting new HTTP connection (1): files.deeppavlov.ai:80\n",
            "2018-11-28 16:44:45.631 DEBUG in 'urllib3.connectionpool'['connectionpool'] at line 393: http://files.deeppavlov.ai:80 \"GET /datasets/dstc2_v2.tar.gz.md5 HTTP/1.1\" 200 260\n",
            "2018-11-28 16:44:45.678 INFO in 'deeppavlov.download'['download'] at line 115: Skipped http://files.deeppavlov.ai/datasets/dstc2_v2.tar.gz download because of matching hashes\n",
            "2018-11-28 16:44:45.679 INFO in 'deeppavlov.dataset_readers.dstc2_reader'['dstc2_reader'] at line 113: [loading dialogs from /home/vimary/.deeppavlov/downloads/dstc2/dstc2-trn.jsonlist]\n",
            "2018-11-28 16:44:45.906 INFO in 'deeppavlov.dataset_readers.dstc2_reader'['dstc2_reader'] at line 113: [loading dialogs from /home/vimary/.deeppavlov/downloads/dstc2/dstc2-val.jsonlist]\n",
            "2018-11-28 16:44:46.56 INFO in 'deeppavlov.dataset_readers.dstc2_reader'['dstc2_reader'] at line 113: [loading dialogs from /home/vimary/.deeppavlov/downloads/dstc2/dstc2-tst.jsonlist]\n",
            "[nltk_data] Downloading package punkt to /home/vimary/nltk_data...\n",
            "[nltk_data]   Package punkt is already up-to-date!\n",
            "[nltk_data] Downloading package stopwords to /home/vimary/nltk_data...\n",
            "[nltk_data]   Package stopwords is already up-to-date!\n",
            "[nltk_data] Downloading package perluniprops to\n",
            "[nltk_data]     /home/vimary/nltk_data...\n",
            "[nltk_data]   Package perluniprops is already up-to-date!\n",
            "[nltk_data] Downloading package nonbreaking_prefixes to\n",
            "[nltk_data]     /home/vimary/nltk_data...\n",
            "[nltk_data]   Package nonbreaking_prefixes is already up-to-date!\n",
            "2018-11-28 16:44:46.973 INFO in 'deeppavlov.core.data.simple_vocab'['simple_vocab'] at line 89: [saving vocabulary to /home/vimary/ipavlov/Pilot/examples/tutorials/models/my_gobot/token.dict]\n",
            "2018-11-28 16:44:52.821 INFO in 'deeppavlov.models.go_bot.bot'['bot'] at line 108: [loading templates from /home/vimary/.deeppavlov/downloads/dstc2/dstc2-templates.txt]\n",
            "2018-11-28 16:44:52.822 INFO in 'deeppavlov.models.go_bot.bot'['bot'] at line 111: 46 templates loaded\n",
            "2018-11-28 16:44:52.822 INFO in 'deeppavlov.models.go_bot.bot'['bot'] at line 139: Calculated input size for `GoalOrientedBotNetwork` is 496\n",
            "Using TensorFlow backend.\n",
            "2018-11-28 16:44:53.308 INFO in 'deeppavlov.models.go_bot.network'['network'] at line 123: [initializing `GoalOrientedBotNetwork` from scratch]\n",
            "2018-11-28 16:45:01.606 INFO in 'deeppavlov.core.commands.train'['train'] at line 363: New best per_item_dialog_accuracy of 0.0042\n",
            "2018-11-28 16:45:01.606 INFO in 'deeppavlov.core.commands.train'['train'] at line 365: Saving model\n",
            "2018-11-28 16:45:01.607 INFO in 'deeppavlov.core.models.tf_model'['tf_model'] at line 52: [saving model to /home/vimary/ipavlov/Pilot/examples/tutorials/models/my_gobot/model]\n",
            "2018-11-28 16:45:01.804 INFO in 'deeppavlov.models.go_bot.network'['network'] at line 354: [saving parameters to /home/vimary/ipavlov/Pilot/examples/tutorials/models/my_gobot/model.json]\n"
          ],
          "name": "stderr"
        },
        {
          "output_type": "stream",
          "text": [
            "{\"valid\": {\"eval_examples_count\": 575, \"metrics\": {\"per_item_dialog_accuracy\": 0.0042}, \"time_spent\": \"0:00:09\", \"epochs_done\": 0, \"batches_seen\": 0, \"train_examples_seen\": 0, \"impatience\": 0, \"patience_limit\": 10}}\n",
            "{\"train\": {\"epochs_done\": 0, \"batches_seen\": 15, \"examples_seen\": 60, \"metrics\": {\"per_item_dialog_accuracy\": 0.0898}, \"time_spent\": \"0:00:10\"}}\n"
          ],
          "name": "stdout"
        },
        {
          "output_type": "stream",
          "text": [
            "2018-11-28 16:45:10.688 INFO in 'deeppavlov.core.commands.train'['train'] at line 459: New best per_item_dialog_accuracy of 0.1436\n",
            "2018-11-28 16:45:10.688 INFO in 'deeppavlov.core.commands.train'['train'] at line 461: Saving model\n",
            "2018-11-28 16:45:10.689 INFO in 'deeppavlov.core.models.tf_model'['tf_model'] at line 52: [saving model to /home/vimary/ipavlov/Pilot/examples/tutorials/models/my_gobot/model]\n",
            "2018-11-28 16:45:10.749 INFO in 'deeppavlov.models.go_bot.network'['network'] at line 354: [saving parameters to /home/vimary/ipavlov/Pilot/examples/tutorials/models/my_gobot/model.json]\n"
          ],
          "name": "stderr"
        },
        {
          "output_type": "stream",
          "text": [
            "{\"valid\": {\"eval_examples_count\": 575, \"metrics\": {\"per_item_dialog_accuracy\": 0.1436}, \"time_spent\": \"0:00:18\", \"epochs_done\": 0, \"batches_seen\": 15, \"train_examples_seen\": 60, \"impatience\": 0, \"patience_limit\": 10}}\n",
            "{\"train\": {\"epochs_done\": 0, \"batches_seen\": 30, \"examples_seen\": 120, \"metrics\": {\"per_item_dialog_accuracy\": 0.211}, \"time_spent\": \"0:00:19\"}}\n"
          ],
          "name": "stdout"
        },
        {
          "output_type": "stream",
          "text": [
            "2018-11-28 16:45:19.548 INFO in 'deeppavlov.core.commands.train'['train'] at line 459: New best per_item_dialog_accuracy of 0.25\n",
            "2018-11-28 16:45:19.549 INFO in 'deeppavlov.core.commands.train'['train'] at line 461: Saving model\n",
            "2018-11-28 16:45:19.549 INFO in 'deeppavlov.core.models.tf_model'['tf_model'] at line 52: [saving model to /home/vimary/ipavlov/Pilot/examples/tutorials/models/my_gobot/model]\n",
            "2018-11-28 16:45:19.609 INFO in 'deeppavlov.models.go_bot.network'['network'] at line 354: [saving parameters to /home/vimary/ipavlov/Pilot/examples/tutorials/models/my_gobot/model.json]\n"
          ],
          "name": "stderr"
        },
        {
          "output_type": "stream",
          "text": [
            "{\"valid\": {\"eval_examples_count\": 575, \"metrics\": {\"per_item_dialog_accuracy\": 0.25}, \"time_spent\": \"0:00:27\", \"epochs_done\": 0, \"batches_seen\": 30, \"train_examples_seen\": 120, \"impatience\": 0, \"patience_limit\": 10}}\n",
            "{\"train\": {\"epochs_done\": 0, \"batches_seen\": 45, \"examples_seen\": 180, \"metrics\": {\"per_item_dialog_accuracy\": 0.3106}, \"time_spent\": \"0:00:28\"}}\n"
          ],
          "name": "stdout"
        },
        {
          "output_type": "stream",
          "text": [
            "2018-11-28 16:45:28.496 INFO in 'deeppavlov.core.commands.train'['train'] at line 466: Did not improve on the per_item_dialog_accuracy of 0.25\n"
          ],
          "name": "stderr"
        },
        {
          "output_type": "stream",
          "text": [
            "{\"valid\": {\"eval_examples_count\": 575, \"metrics\": {\"per_item_dialog_accuracy\": 0.2329}, \"time_spent\": \"0:00:36\", \"epochs_done\": 0, \"batches_seen\": 45, \"train_examples_seen\": 180, \"impatience\": 1, \"patience_limit\": 10}}\n",
            "{\"train\": {\"epochs_done\": 0, \"batches_seen\": 60, \"examples_seen\": 240, \"metrics\": {\"per_item_dialog_accuracy\": 0.3409}, \"time_spent\": \"0:00:37\"}}\n"
          ],
          "name": "stdout"
        },
        {
          "output_type": "stream",
          "text": [
            "2018-11-28 16:45:37.419 INFO in 'deeppavlov.core.commands.train'['train'] at line 459: New best per_item_dialog_accuracy of 0.2773\n",
            "2018-11-28 16:45:37.420 INFO in 'deeppavlov.core.commands.train'['train'] at line 461: Saving model\n",
            "2018-11-28 16:45:37.420 INFO in 'deeppavlov.core.models.tf_model'['tf_model'] at line 52: [saving model to /home/vimary/ipavlov/Pilot/examples/tutorials/models/my_gobot/model]\n",
            "2018-11-28 16:45:37.478 INFO in 'deeppavlov.models.go_bot.network'['network'] at line 354: [saving parameters to /home/vimary/ipavlov/Pilot/examples/tutorials/models/my_gobot/model.json]\n"
          ],
          "name": "stderr"
        },
        {
          "output_type": "stream",
          "text": [
            "{\"valid\": {\"eval_examples_count\": 575, \"metrics\": {\"per_item_dialog_accuracy\": 0.2773}, \"time_spent\": \"0:00:45\", \"epochs_done\": 0, \"batches_seen\": 60, \"train_examples_seen\": 240, \"impatience\": 0, \"patience_limit\": 10}}\n",
            "{\"train\": {\"epochs_done\": 0, \"batches_seen\": 75, \"examples_seen\": 300, \"metrics\": {\"per_item_dialog_accuracy\": 0.3657}, \"time_spent\": \"0:00:46\"}}\n"
          ],
          "name": "stdout"
        },
        {
          "output_type": "stream",
          "text": [
            "2018-11-28 16:45:46.819 INFO in 'deeppavlov.core.commands.train'['train'] at line 459: New best per_item_dialog_accuracy of 0.2905\n",
            "2018-11-28 16:45:46.820 INFO in 'deeppavlov.core.commands.train'['train'] at line 461: Saving model\n",
            "2018-11-28 16:45:46.821 INFO in 'deeppavlov.core.models.tf_model'['tf_model'] at line 52: [saving model to /home/vimary/ipavlov/Pilot/examples/tutorials/models/my_gobot/model]\n",
            "2018-11-28 16:45:46.881 INFO in 'deeppavlov.models.go_bot.network'['network'] at line 354: [saving parameters to /home/vimary/ipavlov/Pilot/examples/tutorials/models/my_gobot/model.json]\n"
          ],
          "name": "stderr"
        },
        {
          "output_type": "stream",
          "text": [
            "{\"valid\": {\"eval_examples_count\": 575, \"metrics\": {\"per_item_dialog_accuracy\": 0.2905}, \"time_spent\": \"0:00:54\", \"epochs_done\": 0, \"batches_seen\": 75, \"train_examples_seen\": 300, \"impatience\": 0, \"patience_limit\": 10}}\n",
            "{\"train\": {\"epochs_done\": 0, \"batches_seen\": 90, \"examples_seen\": 360, \"metrics\": {\"per_item_dialog_accuracy\": 0.3339}, \"time_spent\": \"0:00:55\"}}\n"
          ],
          "name": "stdout"
        },
        {
          "output_type": "stream",
          "text": [
            "2018-11-28 16:45:56.185 INFO in 'deeppavlov.core.commands.train'['train'] at line 466: Did not improve on the per_item_dialog_accuracy of 0.2905\n"
          ],
          "name": "stderr"
        },
        {
          "output_type": "stream",
          "text": [
            "{\"valid\": {\"eval_examples_count\": 575, \"metrics\": {\"per_item_dialog_accuracy\": 0.2868}, \"time_spent\": \"0:01:03\", \"epochs_done\": 0, \"batches_seen\": 90, \"train_examples_seen\": 360, \"impatience\": 1, \"patience_limit\": 10}}\n",
            "{\"train\": {\"epochs_done\": 0, \"batches_seen\": 105, \"examples_seen\": 420, \"metrics\": {\"per_item_dialog_accuracy\": 0.3656}, \"time_spent\": \"0:01:04\"}}\n"
          ],
          "name": "stdout"
        },
        {
          "output_type": "stream",
          "text": [
            "2018-11-28 16:46:05.99 INFO in 'deeppavlov.core.commands.train'['train'] at line 459: New best per_item_dialog_accuracy of 0.3004\n",
            "2018-11-28 16:46:05.100 INFO in 'deeppavlov.core.commands.train'['train'] at line 461: Saving model\n",
            "2018-11-28 16:46:05.100 INFO in 'deeppavlov.core.models.tf_model'['tf_model'] at line 52: [saving model to /home/vimary/ipavlov/Pilot/examples/tutorials/models/my_gobot/model]\n",
            "2018-11-28 16:46:05.158 INFO in 'deeppavlov.models.go_bot.network'['network'] at line 354: [saving parameters to /home/vimary/ipavlov/Pilot/examples/tutorials/models/my_gobot/model.json]\n"
          ],
          "name": "stderr"
        },
        {
          "output_type": "stream",
          "text": [
            "{\"valid\": {\"eval_examples_count\": 575, \"metrics\": {\"per_item_dialog_accuracy\": 0.3004}, \"time_spent\": \"0:01:12\", \"epochs_done\": 0, \"batches_seen\": 105, \"train_examples_seen\": 420, \"impatience\": 0, \"patience_limit\": 10}}\n",
            "{\"train\": {\"epochs_done\": 0, \"batches_seen\": 120, \"examples_seen\": 480, \"metrics\": {\"per_item_dialog_accuracy\": 0.359}, \"time_spent\": \"0:01:13\"}}\n"
          ],
          "name": "stdout"
        },
        {
          "output_type": "stream",
          "text": [
            "2018-11-28 16:46:13.972 INFO in 'deeppavlov.core.commands.train'['train'] at line 466: Did not improve on the per_item_dialog_accuracy of 0.3004\n"
          ],
          "name": "stderr"
        },
        {
          "output_type": "stream",
          "text": [
            "{\"valid\": {\"eval_examples_count\": 575, \"metrics\": {\"per_item_dialog_accuracy\": 0.2951}, \"time_spent\": \"0:01:21\", \"epochs_done\": 0, \"batches_seen\": 120, \"train_examples_seen\": 480, \"impatience\": 1, \"patience_limit\": 10}}\n",
            "{\"train\": {\"epochs_done\": 0, \"batches_seen\": 135, \"examples_seen\": 540, \"metrics\": {\"per_item_dialog_accuracy\": 0.3806}, \"time_spent\": \"0:01:22\"}}\n"
          ],
          "name": "stdout"
        },
        {
          "output_type": "stream",
          "text": [
            "2018-11-28 16:46:22.791 INFO in 'deeppavlov.core.commands.train'['train'] at line 459: New best per_item_dialog_accuracy of 0.3065\n",
            "2018-11-28 16:46:22.791 INFO in 'deeppavlov.core.commands.train'['train'] at line 461: Saving model\n",
            "2018-11-28 16:46:22.792 INFO in 'deeppavlov.core.models.tf_model'['tf_model'] at line 52: [saving model to /home/vimary/ipavlov/Pilot/examples/tutorials/models/my_gobot/model]\n",
            "2018-11-28 16:46:22.849 INFO in 'deeppavlov.models.go_bot.network'['network'] at line 354: [saving parameters to /home/vimary/ipavlov/Pilot/examples/tutorials/models/my_gobot/model.json]\n"
          ],
          "name": "stderr"
        },
        {
          "output_type": "stream",
          "text": [
            "{\"valid\": {\"eval_examples_count\": 575, \"metrics\": {\"per_item_dialog_accuracy\": 0.3065}, \"time_spent\": \"0:01:30\", \"epochs_done\": 0, \"batches_seen\": 135, \"train_examples_seen\": 540, \"impatience\": 0, \"patience_limit\": 10}}\n",
            "{\"train\": {\"epochs_done\": 0, \"batches_seen\": 150, \"examples_seen\": 600, \"metrics\": {\"per_item_dialog_accuracy\": 0.3644}, \"time_spent\": \"0:01:31\"}}\n"
          ],
          "name": "stdout"
        },
        {
          "output_type": "stream",
          "text": [
            "2018-11-28 16:46:31.773 INFO in 'deeppavlov.core.commands.train'['train'] at line 459: New best per_item_dialog_accuracy of 0.3088\n",
            "2018-11-28 16:46:31.773 INFO in 'deeppavlov.core.commands.train'['train'] at line 461: Saving model\n",
            "2018-11-28 16:46:31.774 INFO in 'deeppavlov.core.models.tf_model'['tf_model'] at line 52: [saving model to /home/vimary/ipavlov/Pilot/examples/tutorials/models/my_gobot/model]\n",
            "2018-11-28 16:46:31.831 INFO in 'deeppavlov.models.go_bot.network'['network'] at line 354: [saving parameters to /home/vimary/ipavlov/Pilot/examples/tutorials/models/my_gobot/model.json]\n"
          ],
          "name": "stderr"
        },
        {
          "output_type": "stream",
          "text": [
            "{\"valid\": {\"eval_examples_count\": 575, \"metrics\": {\"per_item_dialog_accuracy\": 0.3088}, \"time_spent\": \"0:01:39\", \"epochs_done\": 0, \"batches_seen\": 150, \"train_examples_seen\": 600, \"impatience\": 0, \"patience_limit\": 10}}\n",
            "{\"train\": {\"epochs_done\": 0, \"batches_seen\": 165, \"examples_seen\": 660, \"metrics\": {\"per_item_dialog_accuracy\": 0.3793}, \"time_spent\": \"0:01:40\"}}\n"
          ],
          "name": "stdout"
        },
        {
          "output_type": "stream",
          "text": [
            "2018-11-28 16:46:41.132 INFO in 'deeppavlov.core.commands.train'['train'] at line 459: New best per_item_dialog_accuracy of 0.316\n",
            "2018-11-28 16:46:41.133 INFO in 'deeppavlov.core.commands.train'['train'] at line 461: Saving model\n",
            "2018-11-28 16:46:41.134 INFO in 'deeppavlov.core.models.tf_model'['tf_model'] at line 52: [saving model to /home/vimary/ipavlov/Pilot/examples/tutorials/models/my_gobot/model]\n",
            "2018-11-28 16:46:41.195 INFO in 'deeppavlov.models.go_bot.network'['network'] at line 354: [saving parameters to /home/vimary/ipavlov/Pilot/examples/tutorials/models/my_gobot/model.json]\n"
          ],
          "name": "stderr"
        },
        {
          "output_type": "stream",
          "text": [
            "{\"valid\": {\"eval_examples_count\": 575, \"metrics\": {\"per_item_dialog_accuracy\": 0.316}, \"time_spent\": \"0:01:48\", \"epochs_done\": 0, \"batches_seen\": 165, \"train_examples_seen\": 660, \"impatience\": 0, \"patience_limit\": 10}}\n",
            "{\"train\": {\"epochs_done\": 0, \"batches_seen\": 180, \"examples_seen\": 720, \"metrics\": {\"per_item_dialog_accuracy\": 0.4218}, \"time_spent\": \"0:01:49\"}}\n"
          ],
          "name": "stdout"
        },
        {
          "output_type": "stream",
          "text": [
            "2018-11-28 16:46:50.4 INFO in 'deeppavlov.core.commands.train'['train'] at line 466: Did not improve on the per_item_dialog_accuracy of 0.316\n"
          ],
          "name": "stderr"
        },
        {
          "output_type": "stream",
          "text": [
            "{\"valid\": {\"eval_examples_count\": 575, \"metrics\": {\"per_item_dialog_accuracy\": 0.3117}, \"time_spent\": \"0:01:57\", \"epochs_done\": 0, \"batches_seen\": 180, \"train_examples_seen\": 720, \"impatience\": 1, \"patience_limit\": 10}}\n",
            "{\"train\": {\"epochs_done\": 0, \"batches_seen\": 195, \"examples_seen\": 780, \"metrics\": {\"per_item_dialog_accuracy\": 0.3911}, \"time_spent\": \"0:01:58\"}}\n"
          ],
          "name": "stdout"
        },
        {
          "output_type": "stream",
          "text": [
            "2018-11-28 16:46:58.630 INFO in 'deeppavlov.core.commands.train'['train'] at line 466: Did not improve on the per_item_dialog_accuracy of 0.316\n"
          ],
          "name": "stderr"
        },
        {
          "output_type": "stream",
          "text": [
            "{\"valid\": {\"eval_examples_count\": 575, \"metrics\": {\"per_item_dialog_accuracy\": 0.3117}, \"time_spent\": \"0:02:06\", \"epochs_done\": 0, \"batches_seen\": 195, \"train_examples_seen\": 780, \"impatience\": 2, \"patience_limit\": 10}}\n",
            "{\"train\": {\"epochs_done\": 0, \"batches_seen\": 210, \"examples_seen\": 840, \"metrics\": {\"per_item_dialog_accuracy\": 0.383}, \"time_spent\": \"0:02:07\"}}\n"
          ],
          "name": "stdout"
        },
        {
          "output_type": "stream",
          "text": [
            "2018-11-28 16:47:07.305 INFO in 'deeppavlov.core.commands.train'['train'] at line 466: Did not improve on the per_item_dialog_accuracy of 0.316\n"
          ],
          "name": "stderr"
        },
        {
          "output_type": "stream",
          "text": [
            "{\"valid\": {\"eval_examples_count\": 575, \"metrics\": {\"per_item_dialog_accuracy\": 0.3131}, \"time_spent\": \"0:02:14\", \"epochs_done\": 0, \"batches_seen\": 210, \"train_examples_seen\": 840, \"impatience\": 3, \"patience_limit\": 10}}\n",
            "{\"train\": {\"epochs_done\": 0, \"batches_seen\": 225, \"examples_seen\": 900, \"metrics\": {\"per_item_dialog_accuracy\": 0.3801}, \"time_spent\": \"0:02:15\"}}\n"
          ],
          "name": "stdout"
        },
        {
          "output_type": "stream",
          "text": [
            "2018-11-28 16:47:15.954 INFO in 'deeppavlov.core.commands.train'['train'] at line 459: New best per_item_dialog_accuracy of 0.3231\n",
            "2018-11-28 16:47:15.954 INFO in 'deeppavlov.core.commands.train'['train'] at line 461: Saving model\n",
            "2018-11-28 16:47:15.955 INFO in 'deeppavlov.core.models.tf_model'['tf_model'] at line 52: [saving model to /home/vimary/ipavlov/Pilot/examples/tutorials/models/my_gobot/model]\n",
            "2018-11-28 16:47:16.12 INFO in 'deeppavlov.models.go_bot.network'['network'] at line 354: [saving parameters to /home/vimary/ipavlov/Pilot/examples/tutorials/models/my_gobot/model.json]\n"
          ],
          "name": "stderr"
        },
        {
          "output_type": "stream",
          "text": [
            "{\"valid\": {\"eval_examples_count\": 575, \"metrics\": {\"per_item_dialog_accuracy\": 0.3231}, \"time_spent\": \"0:02:23\", \"epochs_done\": 0, \"batches_seen\": 225, \"train_examples_seen\": 900, \"impatience\": 0, \"patience_limit\": 10}}\n",
            "{\"train\": {\"epochs_done\": 0, \"batches_seen\": 240, \"examples_seen\": 960, \"metrics\": {\"per_item_dialog_accuracy\": 0.3732}, \"time_spent\": \"0:02:24\"}}\n"
          ],
          "name": "stdout"
        },
        {
          "output_type": "stream",
          "text": [
            "2018-11-28 16:47:24.679 INFO in 'deeppavlov.core.commands.train'['train'] at line 466: Did not improve on the per_item_dialog_accuracy of 0.3231\n",
            "2018-11-28 16:47:24.771 INFO in 'deeppavlov.models.go_bot.network'['network'] at line 372: Updating global step, learning rate = 0.005000.\n"
          ],
          "name": "stderr"
        },
        {
          "output_type": "stream",
          "text": [
            "{\"valid\": {\"eval_examples_count\": 575, \"metrics\": {\"per_item_dialog_accuracy\": 0.3224}, \"time_spent\": \"0:02:32\", \"epochs_done\": 0, \"batches_seen\": 240, \"train_examples_seen\": 960, \"impatience\": 1, \"patience_limit\": 10}}\n",
            "{\"train\": {\"epochs_done\": 1, \"batches_seen\": 255, \"examples_seen\": 1019, \"metrics\": {\"per_item_dialog_accuracy\": 0.4174}, \"time_spent\": \"0:02:33\"}}\n"
          ],
          "name": "stdout"
        },
        {
          "output_type": "stream",
          "text": [
            "2018-11-28 16:47:33.322 INFO in 'deeppavlov.core.commands.train'['train'] at line 459: New best per_item_dialog_accuracy of 0.3277\n",
            "2018-11-28 16:47:33.322 INFO in 'deeppavlov.core.commands.train'['train'] at line 461: Saving model\n",
            "2018-11-28 16:47:33.323 INFO in 'deeppavlov.core.models.tf_model'['tf_model'] at line 52: [saving model to /home/vimary/ipavlov/Pilot/examples/tutorials/models/my_gobot/model]\n",
            "2018-11-28 16:47:33.381 INFO in 'deeppavlov.models.go_bot.network'['network'] at line 354: [saving parameters to /home/vimary/ipavlov/Pilot/examples/tutorials/models/my_gobot/model.json]\n"
          ],
          "name": "stderr"
        },
        {
          "output_type": "stream",
          "text": [
            "{\"valid\": {\"eval_examples_count\": 575, \"metrics\": {\"per_item_dialog_accuracy\": 0.3277}, \"time_spent\": \"0:02:41\", \"epochs_done\": 1, \"batches_seen\": 255, \"train_examples_seen\": 1019, \"impatience\": 0, \"patience_limit\": 10}}\n",
            "{\"train\": {\"epochs_done\": 1, \"batches_seen\": 270, \"examples_seen\": 1079, \"metrics\": {\"per_item_dialog_accuracy\": 0.4074}, \"time_spent\": \"0:02:41\"}}\n"
          ],
          "name": "stdout"
        },
        {
          "output_type": "stream",
          "text": [
            "2018-11-28 16:47:42.67 INFO in 'deeppavlov.core.commands.train'['train'] at line 466: Did not improve on the per_item_dialog_accuracy of 0.3277\n"
          ],
          "name": "stderr"
        },
        {
          "output_type": "stream",
          "text": [
            "{\"valid\": {\"eval_examples_count\": 575, \"metrics\": {\"per_item_dialog_accuracy\": 0.3255}, \"time_spent\": \"0:02:49\", \"epochs_done\": 1, \"batches_seen\": 270, \"train_examples_seen\": 1079, \"impatience\": 1, \"patience_limit\": 10}}\n",
            "{\"train\": {\"epochs_done\": 1, \"batches_seen\": 285, \"examples_seen\": 1139, \"metrics\": {\"per_item_dialog_accuracy\": 0.4772}, \"time_spent\": \"0:02:50\"}}\n"
          ],
          "name": "stdout"
        },
        {
          "output_type": "stream",
          "text": [
            "2018-11-28 16:47:50.802 INFO in 'deeppavlov.core.commands.train'['train'] at line 459: New best per_item_dialog_accuracy of 0.3489\n",
            "2018-11-28 16:47:50.803 INFO in 'deeppavlov.core.commands.train'['train'] at line 461: Saving model\n",
            "2018-11-28 16:47:50.803 INFO in 'deeppavlov.core.models.tf_model'['tf_model'] at line 52: [saving model to /home/vimary/ipavlov/Pilot/examples/tutorials/models/my_gobot/model]\n",
            "2018-11-28 16:47:50.862 INFO in 'deeppavlov.models.go_bot.network'['network'] at line 354: [saving parameters to /home/vimary/ipavlov/Pilot/examples/tutorials/models/my_gobot/model.json]\n"
          ],
          "name": "stderr"
        },
        {
          "output_type": "stream",
          "text": [
            "{\"valid\": {\"eval_examples_count\": 575, \"metrics\": {\"per_item_dialog_accuracy\": 0.3489}, \"time_spent\": \"0:02:58\", \"epochs_done\": 1, \"batches_seen\": 285, \"train_examples_seen\": 1139, \"impatience\": 0, \"patience_limit\": 10}}\n",
            "{\"train\": {\"epochs_done\": 1, \"batches_seen\": 300, \"examples_seen\": 1199, \"metrics\": {\"per_item_dialog_accuracy\": 0.4474}, \"time_spent\": \"0:02:59\"}}\n"
          ],
          "name": "stdout"
        },
        {
          "output_type": "stream",
          "text": [
            "2018-11-28 16:47:59.625 INFO in 'deeppavlov.core.commands.train'['train'] at line 466: Did not improve on the per_item_dialog_accuracy of 0.3489\n"
          ],
          "name": "stderr"
        },
        {
          "output_type": "stream",
          "text": [
            "{\"valid\": {\"eval_examples_count\": 575, \"metrics\": {\"per_item_dialog_accuracy\": 0.3346}, \"time_spent\": \"0:03:07\", \"epochs_done\": 1, \"batches_seen\": 300, \"train_examples_seen\": 1199, \"impatience\": 1, \"patience_limit\": 10}}\n",
            "{\"train\": {\"epochs_done\": 1, \"batches_seen\": 315, \"examples_seen\": 1259, \"metrics\": {\"per_item_dialog_accuracy\": 0.3623}, \"time_spent\": \"0:03:08\"}}\n"
          ],
          "name": "stdout"
        },
        {
          "output_type": "stream",
          "text": [
            "2018-11-28 16:48:08.369 INFO in 'deeppavlov.core.commands.train'['train'] at line 466: Did not improve on the per_item_dialog_accuracy of 0.3489\n"
          ],
          "name": "stderr"
        },
        {
          "output_type": "stream",
          "text": [
            "{\"valid\": {\"eval_examples_count\": 575, \"metrics\": {\"per_item_dialog_accuracy\": 0.3231}, \"time_spent\": \"0:03:16\", \"epochs_done\": 1, \"batches_seen\": 315, \"train_examples_seen\": 1259, \"impatience\": 2, \"patience_limit\": 10}}\n",
            "{\"train\": {\"epochs_done\": 1, \"batches_seen\": 330, \"examples_seen\": 1319, \"metrics\": {\"per_item_dialog_accuracy\": 0.3897}, \"time_spent\": \"0:03:16\"}}\n"
          ],
          "name": "stdout"
        },
        {
          "output_type": "stream",
          "text": [
            "2018-11-28 16:48:17.97 INFO in 'deeppavlov.core.commands.train'['train'] at line 466: Did not improve on the per_item_dialog_accuracy of 0.3489\n"
          ],
          "name": "stderr"
        },
        {
          "output_type": "stream",
          "text": [
            "{\"valid\": {\"eval_examples_count\": 575, \"metrics\": {\"per_item_dialog_accuracy\": 0.3415}, \"time_spent\": \"0:03:24\", \"epochs_done\": 1, \"batches_seen\": 330, \"train_examples_seen\": 1319, \"impatience\": 3, \"patience_limit\": 10}}\n",
            "{\"train\": {\"epochs_done\": 1, \"batches_seen\": 345, \"examples_seen\": 1379, \"metrics\": {\"per_item_dialog_accuracy\": 0.4191}, \"time_spent\": \"0:03:25\"}}\n"
          ],
          "name": "stdout"
        },
        {
          "output_type": "stream",
          "text": [
            "2018-11-28 16:48:26.81 INFO in 'deeppavlov.core.commands.train'['train'] at line 466: Did not improve on the per_item_dialog_accuracy of 0.3489\n"
          ],
          "name": "stderr"
        },
        {
          "output_type": "stream",
          "text": [
            "{\"valid\": {\"eval_examples_count\": 575, \"metrics\": {\"per_item_dialog_accuracy\": 0.3479}, \"time_spent\": \"0:03:33\", \"epochs_done\": 1, \"batches_seen\": 345, \"train_examples_seen\": 1379, \"impatience\": 4, \"patience_limit\": 10}}\n",
            "{\"train\": {\"epochs_done\": 1, \"batches_seen\": 360, \"examples_seen\": 1439, \"metrics\": {\"per_item_dialog_accuracy\": 0.3779}, \"time_spent\": \"0:03:34\"}}\n"
          ],
          "name": "stdout"
        },
        {
          "output_type": "stream",
          "text": [
            "2018-11-28 16:48:34.827 INFO in 'deeppavlov.core.commands.train'['train'] at line 466: Did not improve on the per_item_dialog_accuracy of 0.3489\n"
          ],
          "name": "stderr"
        },
        {
          "output_type": "stream",
          "text": [
            "{\"valid\": {\"eval_examples_count\": 575, \"metrics\": {\"per_item_dialog_accuracy\": 0.3479}, \"time_spent\": \"0:03:42\", \"epochs_done\": 1, \"batches_seen\": 360, \"train_examples_seen\": 1439, \"impatience\": 5, \"patience_limit\": 10}}\n",
            "{\"train\": {\"epochs_done\": 1, \"batches_seen\": 375, \"examples_seen\": 1499, \"metrics\": {\"per_item_dialog_accuracy\": 0.4409}, \"time_spent\": \"0:03:43\"}}\n"
          ],
          "name": "stdout"
        },
        {
          "output_type": "stream",
          "text": [
            "2018-11-28 16:48:43.631 INFO in 'deeppavlov.core.commands.train'['train'] at line 466: Did not improve on the per_item_dialog_accuracy of 0.3489\n"
          ],
          "name": "stderr"
        },
        {
          "output_type": "stream",
          "text": [
            "{\"valid\": {\"eval_examples_count\": 575, \"metrics\": {\"per_item_dialog_accuracy\": 0.3428}, \"time_spent\": \"0:03:51\", \"epochs_done\": 1, \"batches_seen\": 375, \"train_examples_seen\": 1499, \"impatience\": 6, \"patience_limit\": 10}}\n",
            "{\"train\": {\"epochs_done\": 1, \"batches_seen\": 390, \"examples_seen\": 1559, \"metrics\": {\"per_item_dialog_accuracy\": 0.4048}, \"time_spent\": \"0:03:52\"}}\n"
          ],
          "name": "stdout"
        },
        {
          "output_type": "stream",
          "text": [
            "2018-11-28 16:48:52.522 INFO in 'deeppavlov.core.commands.train'['train'] at line 466: Did not improve on the per_item_dialog_accuracy of 0.3489\n"
          ],
          "name": "stderr"
        },
        {
          "output_type": "stream",
          "text": [
            "{\"valid\": {\"eval_examples_count\": 575, \"metrics\": {\"per_item_dialog_accuracy\": 0.347}, \"time_spent\": \"0:04:00\", \"epochs_done\": 1, \"batches_seen\": 390, \"train_examples_seen\": 1559, \"impatience\": 7, \"patience_limit\": 10}}\n",
            "{\"train\": {\"epochs_done\": 1, \"batches_seen\": 405, \"examples_seen\": 1619, \"metrics\": {\"per_item_dialog_accuracy\": 0.4164}, \"time_spent\": \"0:04:01\"}}\n"
          ],
          "name": "stdout"
        },
        {
          "output_type": "stream",
          "text": [
            "2018-11-28 16:49:01.719 INFO in 'deeppavlov.core.commands.train'['train'] at line 466: Did not improve on the per_item_dialog_accuracy of 0.3489\n"
          ],
          "name": "stderr"
        },
        {
          "output_type": "stream",
          "text": [
            "{\"valid\": {\"eval_examples_count\": 575, \"metrics\": {\"per_item_dialog_accuracy\": 0.3324}, \"time_spent\": \"0:04:09\", \"epochs_done\": 1, \"batches_seen\": 405, \"train_examples_seen\": 1619, \"impatience\": 8, \"patience_limit\": 10}}\n",
            "{\"train\": {\"epochs_done\": 1, \"batches_seen\": 420, \"examples_seen\": 1679, \"metrics\": {\"per_item_dialog_accuracy\": 0.4105}, \"time_spent\": \"0:04:10\"}}\n"
          ],
          "name": "stdout"
        },
        {
          "output_type": "stream",
          "text": [
            "2018-11-28 16:49:10.694 INFO in 'deeppavlov.core.commands.train'['train'] at line 459: New best per_item_dialog_accuracy of 0.3542\n",
            "2018-11-28 16:49:10.694 INFO in 'deeppavlov.core.commands.train'['train'] at line 461: Saving model\n",
            "2018-11-28 16:49:10.695 INFO in 'deeppavlov.core.models.tf_model'['tf_model'] at line 52: [saving model to /home/vimary/ipavlov/Pilot/examples/tutorials/models/my_gobot/model]\n",
            "2018-11-28 16:49:10.758 INFO in 'deeppavlov.models.go_bot.network'['network'] at line 354: [saving parameters to /home/vimary/ipavlov/Pilot/examples/tutorials/models/my_gobot/model.json]\n"
          ],
          "name": "stderr"
        },
        {
          "output_type": "stream",
          "text": [
            "{\"valid\": {\"eval_examples_count\": 575, \"metrics\": {\"per_item_dialog_accuracy\": 0.3542}, \"time_spent\": \"0:04:18\", \"epochs_done\": 1, \"batches_seen\": 420, \"train_examples_seen\": 1679, \"impatience\": 0, \"patience_limit\": 10}}\n",
            "{\"train\": {\"epochs_done\": 1, \"batches_seen\": 435, \"examples_seen\": 1739, \"metrics\": {\"per_item_dialog_accuracy\": 0.4283}, \"time_spent\": \"0:04:19\"}}\n"
          ],
          "name": "stdout"
        },
        {
          "output_type": "stream",
          "text": [
            "2018-11-28 16:49:19.636 INFO in 'deeppavlov.core.commands.train'['train'] at line 466: Did not improve on the per_item_dialog_accuracy of 0.3542\n"
          ],
          "name": "stderr"
        },
        {
          "output_type": "stream",
          "text": [
            "{\"valid\": {\"eval_examples_count\": 575, \"metrics\": {\"per_item_dialog_accuracy\": 0.3503}, \"time_spent\": \"0:04:27\", \"epochs_done\": 1, \"batches_seen\": 435, \"train_examples_seen\": 1739, \"impatience\": 1, \"patience_limit\": 10}}\n",
            "{\"train\": {\"epochs_done\": 1, \"batches_seen\": 450, \"examples_seen\": 1799, \"metrics\": {\"per_item_dialog_accuracy\": 0.4489}, \"time_spent\": \"0:04:28\"}}\n"
          ],
          "name": "stdout"
        },
        {
          "output_type": "stream",
          "text": [
            "2018-11-28 16:49:28.397 INFO in 'deeppavlov.core.commands.train'['train'] at line 466: Did not improve on the per_item_dialog_accuracy of 0.3542\n"
          ],
          "name": "stderr"
        },
        {
          "output_type": "stream",
          "text": [
            "{\"valid\": {\"eval_examples_count\": 575, \"metrics\": {\"per_item_dialog_accuracy\": 0.3353}, \"time_spent\": \"0:04:36\", \"epochs_done\": 1, \"batches_seen\": 450, \"train_examples_seen\": 1799, \"impatience\": 2, \"patience_limit\": 10}}\n",
            "{\"train\": {\"epochs_done\": 1, \"batches_seen\": 465, \"examples_seen\": 1859, \"metrics\": {\"per_item_dialog_accuracy\": 0.3576}, \"time_spent\": \"0:04:37\"}}\n"
          ],
          "name": "stdout"
        },
        {
          "output_type": "stream",
          "text": [
            "2018-11-28 16:49:37.288 INFO in 'deeppavlov.core.commands.train'['train'] at line 466: Did not improve on the per_item_dialog_accuracy of 0.3542\n"
          ],
          "name": "stderr"
        },
        {
          "output_type": "stream",
          "text": [
            "{\"valid\": {\"eval_examples_count\": 575, \"metrics\": {\"per_item_dialog_accuracy\": 0.3295}, \"time_spent\": \"0:04:44\", \"epochs_done\": 1, \"batches_seen\": 465, \"train_examples_seen\": 1859, \"impatience\": 3, \"patience_limit\": 10}}\n",
            "{\"train\": {\"epochs_done\": 1, \"batches_seen\": 480, \"examples_seen\": 1919, \"metrics\": {\"per_item_dialog_accuracy\": 0.4412}, \"time_spent\": \"0:04:45\"}}\n"
          ],
          "name": "stdout"
        },
        {
          "output_type": "stream",
          "text": [
            "2018-11-28 16:49:46.104 INFO in 'deeppavlov.core.commands.train'['train'] at line 466: Did not improve on the per_item_dialog_accuracy of 0.3542\n"
          ],
          "name": "stderr"
        },
        {
          "output_type": "stream",
          "text": [
            "{\"valid\": {\"eval_examples_count\": 575, \"metrics\": {\"per_item_dialog_accuracy\": 0.3285}, \"time_spent\": \"0:04:53\", \"epochs_done\": 1, \"batches_seen\": 480, \"train_examples_seen\": 1919, \"impatience\": 4, \"patience_limit\": 10}}\n"
          ],
          "name": "stdout"
        },
        {
          "output_type": "stream",
          "text": [
            "2018-11-28 16:49:46.342 INFO in 'deeppavlov.models.go_bot.network'['network'] at line 372: Updating global step, learning rate = 0.005000.\n"
          ],
          "name": "stderr"
        },
        {
          "output_type": "stream",
          "text": [
            "{\"train\": {\"epochs_done\": 2, \"batches_seen\": 495, \"examples_seen\": 1978, \"metrics\": {\"per_item_dialog_accuracy\": 0.3868}, \"time_spent\": \"0:04:54\"}}\n"
          ],
          "name": "stdout"
        },
        {
          "output_type": "stream",
          "text": [
            "2018-11-28 16:49:55.270 INFO in 'deeppavlov.core.commands.train'['train'] at line 466: Did not improve on the per_item_dialog_accuracy of 0.3542\n"
          ],
          "name": "stderr"
        },
        {
          "output_type": "stream",
          "text": [
            "{\"valid\": {\"eval_examples_count\": 575, \"metrics\": {\"per_item_dialog_accuracy\": 0.3314}, \"time_spent\": \"0:05:02\", \"epochs_done\": 2, \"batches_seen\": 495, \"train_examples_seen\": 1978, \"impatience\": 5, \"patience_limit\": 10}}\n",
            "{\"train\": {\"epochs_done\": 2, \"batches_seen\": 510, \"examples_seen\": 2038, \"metrics\": {\"per_item_dialog_accuracy\": 0.4198}, \"time_spent\": \"0:05:03\"}}\n"
          ],
          "name": "stdout"
        },
        {
          "output_type": "stream",
          "text": [
            "2018-11-28 16:50:04.350 INFO in 'deeppavlov.core.commands.train'['train'] at line 466: Did not improve on the per_item_dialog_accuracy of 0.3542\n"
          ],
          "name": "stderr"
        },
        {
          "output_type": "stream",
          "text": [
            "{\"valid\": {\"eval_examples_count\": 575, \"metrics\": {\"per_item_dialog_accuracy\": 0.3317}, \"time_spent\": \"0:05:12\", \"epochs_done\": 2, \"batches_seen\": 510, \"train_examples_seen\": 2038, \"impatience\": 6, \"patience_limit\": 10}}\n",
            "{\"train\": {\"epochs_done\": 2, \"batches_seen\": 525, \"examples_seen\": 2098, \"metrics\": {\"per_item_dialog_accuracy\": 0.4291}, \"time_spent\": \"0:05:12\"}}\n"
          ],
          "name": "stdout"
        },
        {
          "output_type": "stream",
          "text": [
            "2018-11-28 16:50:13.152 INFO in 'deeppavlov.core.commands.train'['train'] at line 466: Did not improve on the per_item_dialog_accuracy of 0.3542\n"
          ],
          "name": "stderr"
        },
        {
          "output_type": "stream",
          "text": [
            "{\"valid\": {\"eval_examples_count\": 575, \"metrics\": {\"per_item_dialog_accuracy\": 0.3455}, \"time_spent\": \"0:05:20\", \"epochs_done\": 2, \"batches_seen\": 525, \"train_examples_seen\": 2098, \"impatience\": 7, \"patience_limit\": 10}}\n",
            "{\"train\": {\"epochs_done\": 2, \"batches_seen\": 540, \"examples_seen\": 2158, \"metrics\": {\"per_item_dialog_accuracy\": 0.4339}, \"time_spent\": \"0:05:21\"}}\n"
          ],
          "name": "stdout"
        },
        {
          "output_type": "stream",
          "text": [
            "2018-11-28 16:50:22.4 INFO in 'deeppavlov.core.commands.train'['train'] at line 466: Did not improve on the per_item_dialog_accuracy of 0.3542\n"
          ],
          "name": "stderr"
        },
        {
          "output_type": "stream",
          "text": [
            "{\"valid\": {\"eval_examples_count\": 575, \"metrics\": {\"per_item_dialog_accuracy\": 0.3383}, \"time_spent\": \"0:05:29\", \"epochs_done\": 2, \"batches_seen\": 540, \"train_examples_seen\": 2158, \"impatience\": 8, \"patience_limit\": 10}}\n",
            "{\"train\": {\"epochs_done\": 2, \"batches_seen\": 555, \"examples_seen\": 2218, \"metrics\": {\"per_item_dialog_accuracy\": 0.4201}, \"time_spent\": \"0:05:30\"}}\n"
          ],
          "name": "stdout"
        },
        {
          "output_type": "stream",
          "text": [
            "2018-11-28 16:50:30.874 INFO in 'deeppavlov.core.commands.train'['train'] at line 466: Did not improve on the per_item_dialog_accuracy of 0.3542\n"
          ],
          "name": "stderr"
        },
        {
          "output_type": "stream",
          "text": [
            "{\"valid\": {\"eval_examples_count\": 575, \"metrics\": {\"per_item_dialog_accuracy\": 0.3494}, \"time_spent\": \"0:05:38\", \"epochs_done\": 2, \"batches_seen\": 555, \"train_examples_seen\": 2218, \"impatience\": 9, \"patience_limit\": 10}}\n",
            "{\"train\": {\"epochs_done\": 2, \"batches_seen\": 570, \"examples_seen\": 2278, \"metrics\": {\"per_item_dialog_accuracy\": 0.4462}, \"time_spent\": \"0:05:39\"}}\n"
          ],
          "name": "stdout"
        },
        {
          "output_type": "stream",
          "text": [
            "2018-11-28 16:50:40.183 INFO in 'deeppavlov.core.commands.train'['train'] at line 466: Did not improve on the per_item_dialog_accuracy of 0.3542\n",
            "2018-11-28 16:50:40.184 INFO in 'deeppavlov.core.commands.train'['train'] at line 477: Ran out of patience\n",
            "2018-11-28 16:50:40.185 INFO in 'deeppavlov.core.data.simple_vocab'['simple_vocab'] at line 100: [loading vocabulary from /home/vimary/ipavlov/Pilot/examples/tutorials/models/my_gobot/token.dict]\n"
          ],
          "name": "stderr"
        },
        {
          "output_type": "stream",
          "text": [
            "{\"valid\": {\"eval_examples_count\": 575, \"metrics\": {\"per_item_dialog_accuracy\": 0.3471}, \"time_spent\": \"0:05:47\", \"epochs_done\": 2, \"batches_seen\": 570, \"train_examples_seen\": 2278, \"impatience\": 10, \"patience_limit\": 10}}\n"
          ],
          "name": "stdout"
        },
        {
          "output_type": "stream",
          "text": [
            "2018-11-28 16:50:40.428 INFO in 'deeppavlov.models.go_bot.bot'['bot'] at line 108: [loading templates from /home/vimary/.deeppavlov/downloads/dstc2/dstc2-templates.txt]\n",
            "2018-11-28 16:50:40.429 INFO in 'deeppavlov.models.go_bot.bot'['bot'] at line 111: 46 templates loaded\n",
            "2018-11-28 16:50:40.429 INFO in 'deeppavlov.models.go_bot.bot'['bot'] at line 139: Calculated input size for `GoalOrientedBotNetwork` is 496\n",
            "2018-11-28 16:50:40.883 INFO in 'deeppavlov.models.go_bot.network'['network'] at line 120: [initializing `GoalOrientedBotNetwork` from saved]\n",
            "2018-11-28 16:50:40.884 INFO in 'deeppavlov.models.go_bot.network'['network'] at line 360: [loading parameters from /home/vimary/ipavlov/Pilot/examples/tutorials/models/my_gobot/model.json]\n",
            "2018-11-28 16:50:40.885 INFO in 'deeppavlov.core.models.tf_model'['tf_model'] at line 43: [loading model from /home/vimary/ipavlov/Pilot/examples/tutorials/models/my_gobot/model]\n",
            "2018-11-28 16:50:40.894 INFO in 'tensorflow'['tf_logging'] at line 115: Restoring parameters from /home/vimary/ipavlov/Pilot/examples/tutorials/models/my_gobot/model\n",
            "2018-11-28 16:50:40.908 INFO in 'deeppavlov.core.commands.train'['train'] at line 217: Testing the best saved model\n"
          ],
          "name": "stderr"
        },
        {
          "output_type": "stream",
          "text": [
            "{\"valid\": {\"eval_examples_count\": 575, \"metrics\": {\"per_item_dialog_accuracy\": 0.3542}, \"time_spent\": \"0:00:09\"}}\n"
          ],
          "name": "stdout"
        },
        {
          "output_type": "stream",
          "text": [
            "2018-11-28 16:50:57.30 INFO in 'deeppavlov.core.data.simple_vocab'['simple_vocab'] at line 100: [loading vocabulary from /home/vimary/ipavlov/Pilot/examples/tutorials/models/my_gobot/token.dict]\n"
          ],
          "name": "stderr"
        },
        {
          "output_type": "stream",
          "text": [
            "{\"test\": {\"eval_examples_count\": 576, \"metrics\": {\"per_item_dialog_accuracy\": 0.3595}, \"time_spent\": \"0:00:09\"}}\n"
          ],
          "name": "stdout"
        },
        {
          "output_type": "stream",
          "text": [
            "2018-11-28 16:50:57.273 INFO in 'deeppavlov.models.go_bot.bot'['bot'] at line 108: [loading templates from /home/vimary/.deeppavlov/downloads/dstc2/dstc2-templates.txt]\n",
            "2018-11-28 16:50:57.273 INFO in 'deeppavlov.models.go_bot.bot'['bot'] at line 111: 46 templates loaded\n",
            "2018-11-28 16:50:57.274 INFO in 'deeppavlov.models.go_bot.bot'['bot'] at line 139: Calculated input size for `GoalOrientedBotNetwork` is 496\n",
            "2018-11-28 16:50:57.878 INFO in 'deeppavlov.models.go_bot.network'['network'] at line 120: [initializing `GoalOrientedBotNetwork` from saved]\n",
            "2018-11-28 16:50:57.879 INFO in 'deeppavlov.models.go_bot.network'['network'] at line 360: [loading parameters from /home/vimary/ipavlov/Pilot/examples/tutorials/models/my_gobot/model.json]\n",
            "2018-11-28 16:50:57.880 INFO in 'deeppavlov.core.models.tf_model'['tf_model'] at line 43: [loading model from /home/vimary/ipavlov/Pilot/examples/tutorials/models/my_gobot/model]\n",
            "2018-11-28 16:50:57.891 INFO in 'tensorflow'['tf_logging'] at line 115: Restoring parameters from /home/vimary/ipavlov/Pilot/examples/tutorials/models/my_gobot/model\n"
          ],
          "name": "stderr"
        }
      ]
    },
    {
      "cell_type": "code",
      "metadata": {
        "id": "sn1qLuKorg8t",
        "colab_type": "code",
        "colab": {}
      },
      "source": [
        "# or load trained bot from disk\n",
        "bot = build_model(basic_config)"
      ],
      "execution_count": 0,
      "outputs": []
    },
    {
      "cell_type": "code",
      "metadata": {
        "id": "XwENaEq1rg8z",
        "colab_type": "code",
        "colab": {},
        "outputId": "0fbe1656-755f-4d4e-dbb6-97ff1ee22435"
      },
      "source": [
        "bot(['hi, i want some cheap food'])"
      ],
      "execution_count": 0,
      "outputs": [
        {
          "output_type": "execute_result",
          "data": {
            "text/plain": [
              "['Hello, welcome to the Cambridge restaurant system. You can ask for restaurants by area, price range or food type. How may I help you?']"
            ]
          },
          "metadata": {
            "tags": []
          },
          "execution_count": 20
        }
      ]
    },
    {
      "cell_type": "code",
      "metadata": {
        "id": "-qwIiH6Brg88",
        "colab_type": "code",
        "colab": {},
        "outputId": "76f49c40-48a0-455b-bef2-c5c628892843"
      },
      "source": [
        "bot(['bye'])"
      ],
      "execution_count": 0,
      "outputs": [
        {
          "output_type": "execute_result",
          "data": {
            "text/plain": [
              "['Hello, welcome to the Cambridge restaurant system. You can ask for restaurants by area, price range or food type. How may I help you?']"
            ]
          },
          "metadata": {
            "tags": []
          },
          "execution_count": 21
        }
      ]
    },
    {
      "cell_type": "code",
      "metadata": {
        "id": "KxZcVfLhrg9K",
        "colab_type": "code",
        "colab": {}
      },
      "source": [
        "# free memory\n",
        "del bot"
      ],
      "execution_count": 0,
      "outputs": []
    },
    {
      "cell_type": "markdown",
      "metadata": {
        "id": "FPqrY_Murg9X",
        "colab_type": "text"
      },
      "source": [
        "## Adding embeddings"
      ]
    },
    {
      "cell_type": "code",
      "metadata": {
        "id": "V8OiBC4brg9a",
        "colab_type": "code",
        "colab": {},
        "outputId": "4f3e1715-4aaa-4a95-b3d3-fb52a29994fc"
      },
      "source": [
        "tokenizer"
      ],
      "execution_count": 0,
      "outputs": [
        {
          "output_type": "execute_result",
          "data": {
            "text/plain": [
              "{'class_name': 'deeppavlov.models.go_bot.wrapper:DialogComponentWrapper',\n",
              " 'component': {'class_name': 'split_tokenizer'},\n",
              " 'in': ['x'],\n",
              " 'out': ['x_tokens']}"
            ]
          },
          "metadata": {
            "tags": []
          },
          "execution_count": 22
        }
      ]
    },
    {
      "cell_type": "code",
      "metadata": {
        "id": "LsNGSSATrg9n",
        "colab_type": "code",
        "colab": {}
      },
      "source": [
        "token_vocabulary_emb = copy(token_vocabulary)\n",
        "\n",
        "token_vocabulary_emb['save_path'] = '{MODELS_PATH}/my_gobot_emb/token.dict'\n",
        "token_vocabulary_emb['load_path'] = '{MODELS_PATH}/my_gobot_emb/token.dict'"
      ],
      "execution_count": 0,
      "outputs": []
    },
    {
      "cell_type": "code",
      "metadata": {
        "id": "ZHxTIA7Urg9v",
        "colab_type": "code",
        "colab": {},
        "outputId": "1ef7b1b6-53bb-4b49-a8b6-af0b7c858dad"
      },
      "source": [
        "print(network['embedder'])"
      ],
      "execution_count": 0,
      "outputs": [
        {
          "output_type": "stream",
          "text": [
            "None\n"
          ],
          "name": "stdout"
        }
      ]
    },
    {
      "cell_type": "code",
      "metadata": {
        "id": "587YJDFurg98",
        "colab_type": "code",
        "colab": {}
      },
      "source": [
        "emb_file = \"wiki.en.bin\" # эмбеддинги для английского, 8 Gb\n",
        "#emb_file = \"wiki.ru.bin\" # эмбеддинги для русского, 8 Gb\n",
        "#emb_file = \"lenta_lower_100.bin\" # легкие эмбеддинги для русского, 1 Gb"
      ],
      "execution_count": 0,
      "outputs": []
    },
    {
      "cell_type": "code",
      "metadata": {
        "id": "WNRMdqCsrg-F",
        "colab_type": "code",
        "colab": {}
      },
      "source": [
        "network_emb = copy(network)\n",
        "network_emb['embedder'] = {\n",
        "    \"class_name\": \"fasttext\",\n",
        "    \"load_path\": \"{DOWNLOADS_PATH}/embeddings/\" + emb_file\n",
        "}\n",
        "network_emb['load_path'] = \"{MODELS_PATH}/my_gobot_emb/model\"\n",
        "network_emb['save_path'] = \"{MODELS_PATH}/my_gobot_emb/model\""
      ],
      "execution_count": 0,
      "outputs": []
    },
    {
      "cell_type": "code",
      "metadata": {
        "id": "icRhjKshrg-L",
        "colab_type": "code",
        "colab": {},
        "outputId": "3d17dea0-f9a0-4e6d-cbc8-aa4320194129"
      },
      "source": [
        "print(basic_config['metadata']['download'])"
      ],
      "execution_count": 0,
      "outputs": [
        {
          "output_type": "stream",
          "text": [
            "[{'url': 'http://files.deeppavlov.ai/datasets/dstc2_v2.tar.gz', 'subdir': '{DOWNLOADS_PATH}/dstc2'}]\n"
          ],
          "name": "stdout"
        }
      ]
    },
    {
      "cell_type": "code",
      "metadata": {
        "id": "0kLllyXJrg-X",
        "colab_type": "code",
        "colab": {}
      },
      "source": [
        "config_emb = copy(basic_config)\n",
        "\n",
        "config_emb['metadata']['download'].append({\n",
        "    \"url\": \"http://files.deeppavlov.ai/deeppavlov_data/embeddings/\" + emb_file,\n",
        "    \"subdir\": \"{DOWNLOADS_PATH}/embeddings\"\n",
        "})"
      ],
      "execution_count": 0,
      "outputs": []
    },
    {
      "cell_type": "code",
      "metadata": {
        "id": "7gbS6ijCrg-d",
        "colab_type": "code",
        "colab": {}
      },
      "source": [
        "###"
      ],
      "execution_count": 0,
      "outputs": []
    },
    {
      "cell_type": "code",
      "metadata": {
        "id": "Q7PWrO5Grg-i",
        "colab_type": "code",
        "colab": {}
      },
      "source": [
        "config_emb['chainer']['pipe'] = [\n",
        "    tokenizer,\n",
        "    token_vocabulary_emb,\n",
        "    network_emb\n",
        "]"
      ],
      "execution_count": 0,
      "outputs": []
    },
    {
      "cell_type": "code",
      "metadata": {
        "id": "ELBOlISZrg-n",
        "colab_type": "code",
        "colab": {},
        "outputId": "da85298a-e497-458d-b4fe-7fd0e7242321"
      },
      "source": [
        "bot_emb = train_model(config_emb, download=True)\n",
        "# bot_emb = build_model(config_emb)"
      ],
      "execution_count": 0,
      "outputs": [
        {
          "output_type": "stream",
          "text": [
            "2018-11-28 16:52:45.690 DEBUG in 'urllib3.connectionpool'['connectionpool'] at line 205: Starting new HTTP connection (1): files.deeppavlov.ai:80\n",
            "2018-11-28 16:52:45.726 DEBUG in 'urllib3.connectionpool'['connectionpool'] at line 393: http://files.deeppavlov.ai:80 \"GET /datasets/dstc2_v2.tar.gz.md5 HTTP/1.1\" 200 260\n",
            "2018-11-28 16:52:45.737 INFO in 'deeppavlov.download'['download'] at line 115: Skipped http://files.deeppavlov.ai/datasets/dstc2_v2.tar.gz download because of matching hashes\n",
            "2018-11-28 16:52:45.738 DEBUG in 'urllib3.connectionpool'['connectionpool'] at line 205: Starting new HTTP connection (1): files.deeppavlov.ai:80\n",
            "2018-11-28 16:52:45.774 DEBUG in 'urllib3.connectionpool'['connectionpool'] at line 393: http://files.deeppavlov.ai:80 \"GET /deeppavlov_data/embeddings/wiki.en.bin.md5 HTTP/1.1\" 200 46\n",
            "2018-11-28 16:53:01.910 INFO in 'deeppavlov.download'['download'] at line 115: Skipped http://files.deeppavlov.ai/deeppavlov_data/embeddings/wiki.en.bin download because of matching hashes\n",
            "2018-11-28 16:53:01.911 INFO in 'deeppavlov.dataset_readers.dstc2_reader'['dstc2_reader'] at line 113: [loading dialogs from /home/vimary/.deeppavlov/downloads/dstc2/dstc2-trn.jsonlist]\n",
            "2018-11-28 16:53:02.23 INFO in 'deeppavlov.dataset_readers.dstc2_reader'['dstc2_reader'] at line 113: [loading dialogs from /home/vimary/.deeppavlov/downloads/dstc2/dstc2-val.jsonlist]\n",
            "2018-11-28 16:53:02.265 INFO in 'deeppavlov.dataset_readers.dstc2_reader'['dstc2_reader'] at line 113: [loading dialogs from /home/vimary/.deeppavlov/downloads/dstc2/dstc2-tst.jsonlist]\n",
            "2018-11-28 16:53:02.386 INFO in 'deeppavlov.core.data.simple_vocab'['simple_vocab'] at line 89: [saving vocabulary to /home/vimary/ipavlov/Pilot/examples/tutorials/models/my_gobot_emb/token.dict]\n",
            "2018-11-28 16:53:02.393 INFO in 'deeppavlov.models.embedders.fasttext_embedder'['fasttext_embedder'] at line 52: [loading fastText embeddings from `/home/vimary/.deeppavlov/downloads/embeddings/wiki.en.bin`]\n",
            "2018-11-28 16:53:08.749 INFO in 'deeppavlov.models.go_bot.bot'['bot'] at line 108: [loading templates from /home/vimary/.deeppavlov/downloads/dstc2/dstc2-templates.txt]\n",
            "2018-11-28 16:53:08.750 INFO in 'deeppavlov.models.go_bot.bot'['bot'] at line 111: 46 templates loaded\n",
            "2018-11-28 16:53:08.750 INFO in 'deeppavlov.models.go_bot.bot'['bot'] at line 139: Calculated input size for `GoalOrientedBotNetwork` is 796\n",
            "2018-11-28 16:53:09.415 INFO in 'deeppavlov.models.go_bot.network'['network'] at line 123: [initializing `GoalOrientedBotNetwork` from scratch]\n",
            "2018-11-28 16:53:17.774 INFO in 'deeppavlov.core.commands.train'['train'] at line 363: New best per_item_dialog_accuracy of 0.0029\n",
            "2018-11-28 16:53:17.775 INFO in 'deeppavlov.core.commands.train'['train'] at line 365: Saving model\n",
            "2018-11-28 16:53:17.775 INFO in 'deeppavlov.core.models.tf_model'['tf_model'] at line 52: [saving model to /home/vimary/ipavlov/Pilot/examples/tutorials/models/my_gobot_emb/model]\n",
            "2018-11-28 16:53:17.841 INFO in 'deeppavlov.models.go_bot.network'['network'] at line 354: [saving parameters to /home/vimary/ipavlov/Pilot/examples/tutorials/models/my_gobot_emb/model.json]\n"
          ],
          "name": "stderr"
        },
        {
          "output_type": "stream",
          "text": [
            "{\"valid\": {\"eval_examples_count\": 575, \"metrics\": {\"per_item_dialog_accuracy\": 0.0029}, \"time_spent\": \"0:00:09\", \"epochs_done\": 0, \"batches_seen\": 0, \"train_examples_seen\": 0, \"impatience\": 0, \"patience_limit\": 10}}\n",
            "{\"train\": {\"epochs_done\": 0, \"batches_seen\": 15, \"examples_seen\": 60, \"metrics\": {\"per_item_dialog_accuracy\": 0.0857}, \"time_spent\": \"0:00:10\"}}\n"
          ],
          "name": "stdout"
        },
        {
          "output_type": "stream",
          "text": [
            "2018-11-28 16:53:27.247 INFO in 'deeppavlov.core.commands.train'['train'] at line 459: New best per_item_dialog_accuracy of 0.094\n",
            "2018-11-28 16:53:27.247 INFO in 'deeppavlov.core.commands.train'['train'] at line 461: Saving model\n",
            "2018-11-28 16:53:27.248 INFO in 'deeppavlov.core.models.tf_model'['tf_model'] at line 52: [saving model to /home/vimary/ipavlov/Pilot/examples/tutorials/models/my_gobot_emb/model]\n",
            "2018-11-28 16:53:27.306 INFO in 'deeppavlov.models.go_bot.network'['network'] at line 354: [saving parameters to /home/vimary/ipavlov/Pilot/examples/tutorials/models/my_gobot_emb/model.json]\n"
          ],
          "name": "stderr"
        },
        {
          "output_type": "stream",
          "text": [
            "{\"valid\": {\"eval_examples_count\": 575, \"metrics\": {\"per_item_dialog_accuracy\": 0.094}, \"time_spent\": \"0:00:18\", \"epochs_done\": 0, \"batches_seen\": 15, \"train_examples_seen\": 60, \"impatience\": 0, \"patience_limit\": 10}}\n",
            "{\"train\": {\"epochs_done\": 0, \"batches_seen\": 30, \"examples_seen\": 120, \"metrics\": {\"per_item_dialog_accuracy\": 0.147}, \"time_spent\": \"0:00:19\"}}\n"
          ],
          "name": "stdout"
        },
        {
          "output_type": "stream",
          "text": [
            "2018-11-28 16:53:36.610 INFO in 'deeppavlov.core.commands.train'['train'] at line 459: New best per_item_dialog_accuracy of 0.248\n",
            "2018-11-28 16:53:36.610 INFO in 'deeppavlov.core.commands.train'['train'] at line 461: Saving model\n",
            "2018-11-28 16:53:36.611 INFO in 'deeppavlov.core.models.tf_model'['tf_model'] at line 52: [saving model to /home/vimary/ipavlov/Pilot/examples/tutorials/models/my_gobot_emb/model]\n",
            "2018-11-28 16:53:36.672 INFO in 'deeppavlov.models.go_bot.network'['network'] at line 354: [saving parameters to /home/vimary/ipavlov/Pilot/examples/tutorials/models/my_gobot_emb/model.json]\n"
          ],
          "name": "stderr"
        },
        {
          "output_type": "stream",
          "text": [
            "{\"valid\": {\"eval_examples_count\": 575, \"metrics\": {\"per_item_dialog_accuracy\": 0.248}, \"time_spent\": \"0:00:28\", \"epochs_done\": 0, \"batches_seen\": 30, \"train_examples_seen\": 120, \"impatience\": 0, \"patience_limit\": 10}}\n",
            "{\"train\": {\"epochs_done\": 0, \"batches_seen\": 45, \"examples_seen\": 180, \"metrics\": {\"per_item_dialog_accuracy\": 0.2691}, \"time_spent\": \"0:00:29\"}}\n"
          ],
          "name": "stdout"
        },
        {
          "output_type": "stream",
          "text": [
            "2018-11-28 16:53:46.26 INFO in 'deeppavlov.core.commands.train'['train'] at line 459: New best per_item_dialog_accuracy of 0.2643\n",
            "2018-11-28 16:53:46.26 INFO in 'deeppavlov.core.commands.train'['train'] at line 461: Saving model\n",
            "2018-11-28 16:53:46.26 INFO in 'deeppavlov.core.models.tf_model'['tf_model'] at line 52: [saving model to /home/vimary/ipavlov/Pilot/examples/tutorials/models/my_gobot_emb/model]\n",
            "2018-11-28 16:53:46.85 INFO in 'deeppavlov.models.go_bot.network'['network'] at line 354: [saving parameters to /home/vimary/ipavlov/Pilot/examples/tutorials/models/my_gobot_emb/model.json]\n"
          ],
          "name": "stderr"
        },
        {
          "output_type": "stream",
          "text": [
            "{\"valid\": {\"eval_examples_count\": 575, \"metrics\": {\"per_item_dialog_accuracy\": 0.2643}, \"time_spent\": \"0:00:37\", \"epochs_done\": 0, \"batches_seen\": 45, \"train_examples_seen\": 180, \"impatience\": 0, \"patience_limit\": 10}}\n",
            "{\"train\": {\"epochs_done\": 0, \"batches_seen\": 60, \"examples_seen\": 240, \"metrics\": {\"per_item_dialog_accuracy\": 0.3214}, \"time_spent\": \"0:00:38\"}}\n"
          ],
          "name": "stdout"
        },
        {
          "output_type": "stream",
          "text": [
            "2018-11-28 16:53:55.366 INFO in 'deeppavlov.core.commands.train'['train'] at line 459: New best per_item_dialog_accuracy of 0.2751\n",
            "2018-11-28 16:53:55.366 INFO in 'deeppavlov.core.commands.train'['train'] at line 461: Saving model\n",
            "2018-11-28 16:53:55.367 INFO in 'deeppavlov.core.models.tf_model'['tf_model'] at line 52: [saving model to /home/vimary/ipavlov/Pilot/examples/tutorials/models/my_gobot_emb/model]\n",
            "2018-11-28 16:53:55.426 INFO in 'deeppavlov.models.go_bot.network'['network'] at line 354: [saving parameters to /home/vimary/ipavlov/Pilot/examples/tutorials/models/my_gobot_emb/model.json]\n"
          ],
          "name": "stderr"
        },
        {
          "output_type": "stream",
          "text": [
            "{\"valid\": {\"eval_examples_count\": 575, \"metrics\": {\"per_item_dialog_accuracy\": 0.2751}, \"time_spent\": \"0:00:46\", \"epochs_done\": 0, \"batches_seen\": 60, \"train_examples_seen\": 240, \"impatience\": 0, \"patience_limit\": 10}}\n",
            "{\"train\": {\"epochs_done\": 0, \"batches_seen\": 75, \"examples_seen\": 300, \"metrics\": {\"per_item_dialog_accuracy\": 0.3541}, \"time_spent\": \"0:00:47\"}}\n"
          ],
          "name": "stdout"
        },
        {
          "output_type": "stream",
          "text": [
            "2018-11-28 16:54:04.720 INFO in 'deeppavlov.core.commands.train'['train'] at line 459: New best per_item_dialog_accuracy of 0.2892\n",
            "2018-11-28 16:54:04.721 INFO in 'deeppavlov.core.commands.train'['train'] at line 461: Saving model\n",
            "2018-11-28 16:54:04.721 INFO in 'deeppavlov.core.models.tf_model'['tf_model'] at line 52: [saving model to /home/vimary/ipavlov/Pilot/examples/tutorials/models/my_gobot_emb/model]\n",
            "2018-11-28 16:54:04.785 INFO in 'deeppavlov.models.go_bot.network'['network'] at line 354: [saving parameters to /home/vimary/ipavlov/Pilot/examples/tutorials/models/my_gobot_emb/model.json]\n"
          ],
          "name": "stderr"
        },
        {
          "output_type": "stream",
          "text": [
            "{\"valid\": {\"eval_examples_count\": 575, \"metrics\": {\"per_item_dialog_accuracy\": 0.2892}, \"time_spent\": \"0:00:56\", \"epochs_done\": 0, \"batches_seen\": 75, \"train_examples_seen\": 300, \"impatience\": 0, \"patience_limit\": 10}}\n",
            "{\"train\": {\"epochs_done\": 0, \"batches_seen\": 90, \"examples_seen\": 360, \"metrics\": {\"per_item_dialog_accuracy\": 0.358}, \"time_spent\": \"0:00:57\"}}\n"
          ],
          "name": "stdout"
        },
        {
          "output_type": "stream",
          "text": [
            "2018-11-28 16:54:13.917 INFO in 'deeppavlov.core.commands.train'['train'] at line 459: New best per_item_dialog_accuracy of 0.2906\n",
            "2018-11-28 16:54:13.918 INFO in 'deeppavlov.core.commands.train'['train'] at line 461: Saving model\n",
            "2018-11-28 16:54:13.918 INFO in 'deeppavlov.core.models.tf_model'['tf_model'] at line 52: [saving model to /home/vimary/ipavlov/Pilot/examples/tutorials/models/my_gobot_emb/model]\n",
            "2018-11-28 16:54:13.979 INFO in 'deeppavlov.models.go_bot.network'['network'] at line 354: [saving parameters to /home/vimary/ipavlov/Pilot/examples/tutorials/models/my_gobot_emb/model.json]\n"
          ],
          "name": "stderr"
        },
        {
          "output_type": "stream",
          "text": [
            "{\"valid\": {\"eval_examples_count\": 575, \"metrics\": {\"per_item_dialog_accuracy\": 0.2906}, \"time_spent\": \"0:01:05\", \"epochs_done\": 0, \"batches_seen\": 90, \"train_examples_seen\": 360, \"impatience\": 0, \"patience_limit\": 10}}\n",
            "{\"train\": {\"epochs_done\": 0, \"batches_seen\": 105, \"examples_seen\": 420, \"metrics\": {\"per_item_dialog_accuracy\": 0.3792}, \"time_spent\": \"0:01:06\"}}\n"
          ],
          "name": "stdout"
        },
        {
          "output_type": "stream",
          "text": [
            "2018-11-28 16:54:23.107 INFO in 'deeppavlov.core.commands.train'['train'] at line 466: Did not improve on the per_item_dialog_accuracy of 0.2906\n"
          ],
          "name": "stderr"
        },
        {
          "output_type": "stream",
          "text": [
            "{\"valid\": {\"eval_examples_count\": 575, \"metrics\": {\"per_item_dialog_accuracy\": 0.29}, \"time_spent\": \"0:01:14\", \"epochs_done\": 0, \"batches_seen\": 105, \"train_examples_seen\": 420, \"impatience\": 1, \"patience_limit\": 10}}\n",
            "{\"train\": {\"epochs_done\": 0, \"batches_seen\": 120, \"examples_seen\": 480, \"metrics\": {\"per_item_dialog_accuracy\": 0.4058}, \"time_spent\": \"0:01:15\"}}\n"
          ],
          "name": "stdout"
        },
        {
          "output_type": "stream",
          "text": [
            "2018-11-28 16:54:32.827 INFO in 'deeppavlov.core.commands.train'['train'] at line 466: Did not improve on the per_item_dialog_accuracy of 0.2906\n"
          ],
          "name": "stderr"
        },
        {
          "output_type": "stream",
          "text": [
            "{\"valid\": {\"eval_examples_count\": 575, \"metrics\": {\"per_item_dialog_accuracy\": 0.2839}, \"time_spent\": \"0:01:24\", \"epochs_done\": 0, \"batches_seen\": 120, \"train_examples_seen\": 480, \"impatience\": 2, \"patience_limit\": 10}}\n",
            "{\"train\": {\"epochs_done\": 0, \"batches_seen\": 135, \"examples_seen\": 540, \"metrics\": {\"per_item_dialog_accuracy\": 0.3581}, \"time_spent\": \"0:01:25\"}}\n"
          ],
          "name": "stdout"
        },
        {
          "output_type": "stream",
          "text": [
            "2018-11-28 16:54:43.545 INFO in 'deeppavlov.core.commands.train'['train'] at line 459: New best per_item_dialog_accuracy of 0.3085\n",
            "2018-11-28 16:54:43.545 INFO in 'deeppavlov.core.commands.train'['train'] at line 461: Saving model\n",
            "2018-11-28 16:54:43.546 INFO in 'deeppavlov.core.models.tf_model'['tf_model'] at line 52: [saving model to /home/vimary/ipavlov/Pilot/examples/tutorials/models/my_gobot_emb/model]\n",
            "2018-11-28 16:54:43.608 INFO in 'deeppavlov.models.go_bot.network'['network'] at line 354: [saving parameters to /home/vimary/ipavlov/Pilot/examples/tutorials/models/my_gobot_emb/model.json]\n"
          ],
          "name": "stderr"
        },
        {
          "output_type": "stream",
          "text": [
            "{\"valid\": {\"eval_examples_count\": 575, \"metrics\": {\"per_item_dialog_accuracy\": 0.3085}, \"time_spent\": \"0:01:35\", \"epochs_done\": 0, \"batches_seen\": 135, \"train_examples_seen\": 540, \"impatience\": 0, \"patience_limit\": 10}}\n",
            "{\"train\": {\"epochs_done\": 0, \"batches_seen\": 150, \"examples_seen\": 600, \"metrics\": {\"per_item_dialog_accuracy\": 0.4067}, \"time_spent\": \"0:01:36\"}}\n"
          ],
          "name": "stdout"
        },
        {
          "output_type": "stream",
          "text": [
            "2018-11-28 16:54:53.733 INFO in 'deeppavlov.core.commands.train'['train'] at line 459: New best per_item_dialog_accuracy of 0.3329\n",
            "2018-11-28 16:54:53.734 INFO in 'deeppavlov.core.commands.train'['train'] at line 461: Saving model\n",
            "2018-11-28 16:54:53.734 INFO in 'deeppavlov.core.models.tf_model'['tf_model'] at line 52: [saving model to /home/vimary/ipavlov/Pilot/examples/tutorials/models/my_gobot_emb/model]\n",
            "2018-11-28 16:54:53.796 INFO in 'deeppavlov.models.go_bot.network'['network'] at line 354: [saving parameters to /home/vimary/ipavlov/Pilot/examples/tutorials/models/my_gobot_emb/model.json]\n"
          ],
          "name": "stderr"
        },
        {
          "output_type": "stream",
          "text": [
            "{\"valid\": {\"eval_examples_count\": 575, \"metrics\": {\"per_item_dialog_accuracy\": 0.3329}, \"time_spent\": \"0:01:45\", \"epochs_done\": 0, \"batches_seen\": 150, \"train_examples_seen\": 600, \"impatience\": 0, \"patience_limit\": 10}}\n",
            "{\"train\": {\"epochs_done\": 0, \"batches_seen\": 165, \"examples_seen\": 660, \"metrics\": {\"per_item_dialog_accuracy\": 0.4202}, \"time_spent\": \"0:01:46\"}}\n"
          ],
          "name": "stdout"
        },
        {
          "output_type": "stream",
          "text": [
            "2018-11-28 16:55:03.39 INFO in 'deeppavlov.core.commands.train'['train'] at line 459: New best per_item_dialog_accuracy of 0.3381\n",
            "2018-11-28 16:55:03.40 INFO in 'deeppavlov.core.commands.train'['train'] at line 461: Saving model\n",
            "2018-11-28 16:55:03.40 INFO in 'deeppavlov.core.models.tf_model'['tf_model'] at line 52: [saving model to /home/vimary/ipavlov/Pilot/examples/tutorials/models/my_gobot_emb/model]\n",
            "2018-11-28 16:55:03.98 INFO in 'deeppavlov.models.go_bot.network'['network'] at line 354: [saving parameters to /home/vimary/ipavlov/Pilot/examples/tutorials/models/my_gobot_emb/model.json]\n"
          ],
          "name": "stderr"
        },
        {
          "output_type": "stream",
          "text": [
            "{\"valid\": {\"eval_examples_count\": 575, \"metrics\": {\"per_item_dialog_accuracy\": 0.3381}, \"time_spent\": \"0:01:54\", \"epochs_done\": 0, \"batches_seen\": 165, \"train_examples_seen\": 660, \"impatience\": 0, \"patience_limit\": 10}}\n",
            "{\"train\": {\"epochs_done\": 0, \"batches_seen\": 180, \"examples_seen\": 720, \"metrics\": {\"per_item_dialog_accuracy\": 0.4159}, \"time_spent\": \"0:01:55\"}}\n"
          ],
          "name": "stdout"
        },
        {
          "output_type": "stream",
          "text": [
            "2018-11-28 16:55:12.442 INFO in 'deeppavlov.core.commands.train'['train'] at line 466: Did not improve on the per_item_dialog_accuracy of 0.3381\n"
          ],
          "name": "stderr"
        },
        {
          "output_type": "stream",
          "text": [
            "{\"valid\": {\"eval_examples_count\": 575, \"metrics\": {\"per_item_dialog_accuracy\": 0.3375}, \"time_spent\": \"0:02:04\", \"epochs_done\": 0, \"batches_seen\": 180, \"train_examples_seen\": 720, \"impatience\": 1, \"patience_limit\": 10}}\n",
            "{\"train\": {\"epochs_done\": 0, \"batches_seen\": 195, \"examples_seen\": 780, \"metrics\": {\"per_item_dialog_accuracy\": 0.4017}, \"time_spent\": \"0:02:05\"}}\n"
          ],
          "name": "stdout"
        },
        {
          "output_type": "stream",
          "text": [
            "2018-11-28 16:55:22.121 INFO in 'deeppavlov.core.commands.train'['train'] at line 459: New best per_item_dialog_accuracy of 0.3407\n",
            "2018-11-28 16:55:22.121 INFO in 'deeppavlov.core.commands.train'['train'] at line 461: Saving model\n",
            "2018-11-28 16:55:22.122 INFO in 'deeppavlov.core.models.tf_model'['tf_model'] at line 52: [saving model to /home/vimary/ipavlov/Pilot/examples/tutorials/models/my_gobot_emb/model]\n",
            "2018-11-28 16:55:22.183 INFO in 'deeppavlov.models.go_bot.network'['network'] at line 354: [saving parameters to /home/vimary/ipavlov/Pilot/examples/tutorials/models/my_gobot_emb/model.json]\n"
          ],
          "name": "stderr"
        },
        {
          "output_type": "stream",
          "text": [
            "{\"valid\": {\"eval_examples_count\": 575, \"metrics\": {\"per_item_dialog_accuracy\": 0.3407}, \"time_spent\": \"0:02:13\", \"epochs_done\": 0, \"batches_seen\": 195, \"train_examples_seen\": 780, \"impatience\": 0, \"patience_limit\": 10}}\n",
            "{\"train\": {\"epochs_done\": 0, \"batches_seen\": 210, \"examples_seen\": 840, \"metrics\": {\"per_item_dialog_accuracy\": 0.4185}, \"time_spent\": \"0:02:14\"}}\n"
          ],
          "name": "stdout"
        },
        {
          "output_type": "stream",
          "text": [
            "2018-11-28 16:55:33.230 INFO in 'deeppavlov.core.commands.train'['train'] at line 459: New best per_item_dialog_accuracy of 0.3475\n",
            "2018-11-28 16:55:33.230 INFO in 'deeppavlov.core.commands.train'['train'] at line 461: Saving model\n",
            "2018-11-28 16:55:33.231 INFO in 'deeppavlov.core.models.tf_model'['tf_model'] at line 52: [saving model to /home/vimary/ipavlov/Pilot/examples/tutorials/models/my_gobot_emb/model]\n",
            "2018-11-28 16:55:33.293 INFO in 'deeppavlov.models.go_bot.network'['network'] at line 354: [saving parameters to /home/vimary/ipavlov/Pilot/examples/tutorials/models/my_gobot_emb/model.json]\n"
          ],
          "name": "stderr"
        },
        {
          "output_type": "stream",
          "text": [
            "{\"valid\": {\"eval_examples_count\": 575, \"metrics\": {\"per_item_dialog_accuracy\": 0.3475}, \"time_spent\": \"0:02:24\", \"epochs_done\": 0, \"batches_seen\": 210, \"train_examples_seen\": 840, \"impatience\": 0, \"patience_limit\": 10}}\n",
            "{\"train\": {\"epochs_done\": 0, \"batches_seen\": 225, \"examples_seen\": 900, \"metrics\": {\"per_item_dialog_accuracy\": 0.4336}, \"time_spent\": \"0:02:25\"}}\n"
          ],
          "name": "stdout"
        },
        {
          "output_type": "stream",
          "text": [
            "2018-11-28 16:55:43.13 INFO in 'deeppavlov.core.commands.train'['train'] at line 459: New best per_item_dialog_accuracy of 0.3494\n",
            "2018-11-28 16:55:43.14 INFO in 'deeppavlov.core.commands.train'['train'] at line 461: Saving model\n",
            "2018-11-28 16:55:43.15 INFO in 'deeppavlov.core.models.tf_model'['tf_model'] at line 52: [saving model to /home/vimary/ipavlov/Pilot/examples/tutorials/models/my_gobot_emb/model]\n",
            "2018-11-28 16:55:43.76 INFO in 'deeppavlov.models.go_bot.network'['network'] at line 354: [saving parameters to /home/vimary/ipavlov/Pilot/examples/tutorials/models/my_gobot_emb/model.json]\n"
          ],
          "name": "stderr"
        },
        {
          "output_type": "stream",
          "text": [
            "{\"valid\": {\"eval_examples_count\": 575, \"metrics\": {\"per_item_dialog_accuracy\": 0.3494}, \"time_spent\": \"0:02:34\", \"epochs_done\": 0, \"batches_seen\": 225, \"train_examples_seen\": 900, \"impatience\": 0, \"patience_limit\": 10}}\n",
            "{\"train\": {\"epochs_done\": 0, \"batches_seen\": 240, \"examples_seen\": 960, \"metrics\": {\"per_item_dialog_accuracy\": 0.4399}, \"time_spent\": \"0:02:35\"}}\n"
          ],
          "name": "stdout"
        },
        {
          "output_type": "stream",
          "text": [
            "2018-11-28 16:55:52.338 INFO in 'deeppavlov.core.commands.train'['train'] at line 459: New best per_item_dialog_accuracy of 0.3536\n",
            "2018-11-28 16:55:52.339 INFO in 'deeppavlov.core.commands.train'['train'] at line 461: Saving model\n",
            "2018-11-28 16:55:52.339 INFO in 'deeppavlov.core.models.tf_model'['tf_model'] at line 52: [saving model to /home/vimary/ipavlov/Pilot/examples/tutorials/models/my_gobot_emb/model]\n",
            "2018-11-28 16:55:52.400 INFO in 'deeppavlov.models.go_bot.network'['network'] at line 354: [saving parameters to /home/vimary/ipavlov/Pilot/examples/tutorials/models/my_gobot_emb/model.json]\n",
            "2018-11-28 16:55:52.508 INFO in 'deeppavlov.models.go_bot.network'['network'] at line 372: Updating global step, learning rate = 0.005000.\n"
          ],
          "name": "stderr"
        },
        {
          "output_type": "stream",
          "text": [
            "{\"valid\": {\"eval_examples_count\": 575, \"metrics\": {\"per_item_dialog_accuracy\": 0.3536}, \"time_spent\": \"0:02:43\", \"epochs_done\": 0, \"batches_seen\": 240, \"train_examples_seen\": 960, \"impatience\": 0, \"patience_limit\": 10}}\n",
            "{\"train\": {\"epochs_done\": 1, \"batches_seen\": 255, \"examples_seen\": 1019, \"metrics\": {\"per_item_dialog_accuracy\": 0.3907}, \"time_spent\": \"0:02:45\"}}\n"
          ],
          "name": "stdout"
        },
        {
          "output_type": "stream",
          "text": [
            "2018-11-28 16:56:01.746 INFO in 'deeppavlov.core.commands.train'['train'] at line 466: Did not improve on the per_item_dialog_accuracy of 0.3536\n"
          ],
          "name": "stderr"
        },
        {
          "output_type": "stream",
          "text": [
            "{\"valid\": {\"eval_examples_count\": 575, \"metrics\": {\"per_item_dialog_accuracy\": 0.3478}, \"time_spent\": \"0:02:53\", \"epochs_done\": 1, \"batches_seen\": 255, \"train_examples_seen\": 1019, \"impatience\": 1, \"patience_limit\": 10}}\n",
            "{\"train\": {\"epochs_done\": 1, \"batches_seen\": 270, \"examples_seen\": 1079, \"metrics\": {\"per_item_dialog_accuracy\": 0.4038}, \"time_spent\": \"0:02:54\"}}\n"
          ],
          "name": "stdout"
        },
        {
          "output_type": "stream",
          "text": [
            "2018-11-28 16:56:11.246 INFO in 'deeppavlov.core.commands.train'['train'] at line 466: Did not improve on the per_item_dialog_accuracy of 0.3536\n"
          ],
          "name": "stderr"
        },
        {
          "output_type": "stream",
          "text": [
            "{\"valid\": {\"eval_examples_count\": 575, \"metrics\": {\"per_item_dialog_accuracy\": 0.3471}, \"time_spent\": \"0:03:02\", \"epochs_done\": 1, \"batches_seen\": 270, \"train_examples_seen\": 1079, \"impatience\": 2, \"patience_limit\": 10}}\n",
            "{\"train\": {\"epochs_done\": 1, \"batches_seen\": 285, \"examples_seen\": 1139, \"metrics\": {\"per_item_dialog_accuracy\": 0.442}, \"time_spent\": \"0:03:03\"}}\n"
          ],
          "name": "stdout"
        },
        {
          "output_type": "stream",
          "text": [
            "2018-11-28 16:56:21.439 INFO in 'deeppavlov.core.commands.train'['train'] at line 466: Did not improve on the per_item_dialog_accuracy of 0.3536\n"
          ],
          "name": "stderr"
        },
        {
          "output_type": "stream",
          "text": [
            "{\"valid\": {\"eval_examples_count\": 575, \"metrics\": {\"per_item_dialog_accuracy\": 0.3431}, \"time_spent\": \"0:03:13\", \"epochs_done\": 1, \"batches_seen\": 285, \"train_examples_seen\": 1139, \"impatience\": 3, \"patience_limit\": 10}}\n",
            "{\"train\": {\"epochs_done\": 1, \"batches_seen\": 300, \"examples_seen\": 1199, \"metrics\": {\"per_item_dialog_accuracy\": 0.4288}, \"time_spent\": \"0:03:14\"}}\n"
          ],
          "name": "stdout"
        },
        {
          "output_type": "stream",
          "text": [
            "2018-11-28 16:56:31.873 INFO in 'deeppavlov.core.commands.train'['train'] at line 466: Did not improve on the per_item_dialog_accuracy of 0.3536\n"
          ],
          "name": "stderr"
        },
        {
          "output_type": "stream",
          "text": [
            "{\"valid\": {\"eval_examples_count\": 575, \"metrics\": {\"per_item_dialog_accuracy\": 0.3492}, \"time_spent\": \"0:03:23\", \"epochs_done\": 1, \"batches_seen\": 300, \"train_examples_seen\": 1199, \"impatience\": 4, \"patience_limit\": 10}}\n",
            "{\"train\": {\"epochs_done\": 1, \"batches_seen\": 315, \"examples_seen\": 1259, \"metrics\": {\"per_item_dialog_accuracy\": 0.4061}, \"time_spent\": \"0:03:24\"}}\n"
          ],
          "name": "stdout"
        },
        {
          "output_type": "stream",
          "text": [
            "2018-11-28 16:56:42.840 INFO in 'deeppavlov.core.commands.train'['train'] at line 466: Did not improve on the per_item_dialog_accuracy of 0.3536\n"
          ],
          "name": "stderr"
        },
        {
          "output_type": "stream",
          "text": [
            "{\"valid\": {\"eval_examples_count\": 575, \"metrics\": {\"per_item_dialog_accuracy\": 0.3422}, \"time_spent\": \"0:03:34\", \"epochs_done\": 1, \"batches_seen\": 315, \"train_examples_seen\": 1259, \"impatience\": 5, \"patience_limit\": 10}}\n",
            "{\"train\": {\"epochs_done\": 1, \"batches_seen\": 330, \"examples_seen\": 1319, \"metrics\": {\"per_item_dialog_accuracy\": 0.4309}, \"time_spent\": \"0:03:35\"}}\n"
          ],
          "name": "stdout"
        },
        {
          "output_type": "stream",
          "text": [
            "2018-11-28 16:56:52.654 INFO in 'deeppavlov.core.commands.train'['train'] at line 466: Did not improve on the per_item_dialog_accuracy of 0.3536\n"
          ],
          "name": "stderr"
        },
        {
          "output_type": "stream",
          "text": [
            "{\"valid\": {\"eval_examples_count\": 575, \"metrics\": {\"per_item_dialog_accuracy\": 0.32}, \"time_spent\": \"0:03:44\", \"epochs_done\": 1, \"batches_seen\": 330, \"train_examples_seen\": 1319, \"impatience\": 6, \"patience_limit\": 10}}\n",
            "{\"train\": {\"epochs_done\": 1, \"batches_seen\": 345, \"examples_seen\": 1379, \"metrics\": {\"per_item_dialog_accuracy\": 0.4003}, \"time_spent\": \"0:03:45\"}}\n"
          ],
          "name": "stdout"
        },
        {
          "output_type": "stream",
          "text": [
            "2018-11-28 16:57:02.220 INFO in 'deeppavlov.core.commands.train'['train'] at line 466: Did not improve on the per_item_dialog_accuracy of 0.3536\n"
          ],
          "name": "stderr"
        },
        {
          "output_type": "stream",
          "text": [
            "{\"valid\": {\"eval_examples_count\": 575, \"metrics\": {\"per_item_dialog_accuracy\": 0.3476}, \"time_spent\": \"0:03:53\", \"epochs_done\": 1, \"batches_seen\": 345, \"train_examples_seen\": 1379, \"impatience\": 7, \"patience_limit\": 10}}\n",
            "{\"train\": {\"epochs_done\": 1, \"batches_seen\": 360, \"examples_seen\": 1439, \"metrics\": {\"per_item_dialog_accuracy\": 0.4389}, \"time_spent\": \"0:03:54\"}}\n"
          ],
          "name": "stdout"
        },
        {
          "output_type": "stream",
          "text": [
            "2018-11-28 16:57:11.452 INFO in 'deeppavlov.core.commands.train'['train'] at line 466: Did not improve on the per_item_dialog_accuracy of 0.3536\n"
          ],
          "name": "stderr"
        },
        {
          "output_type": "stream",
          "text": [
            "{\"valid\": {\"eval_examples_count\": 575, \"metrics\": {\"per_item_dialog_accuracy\": 0.3503}, \"time_spent\": \"0:04:03\", \"epochs_done\": 1, \"batches_seen\": 360, \"train_examples_seen\": 1439, \"impatience\": 8, \"patience_limit\": 10}}\n",
            "{\"train\": {\"epochs_done\": 1, \"batches_seen\": 375, \"examples_seen\": 1499, \"metrics\": {\"per_item_dialog_accuracy\": 0.3965}, \"time_spent\": \"0:04:03\"}}\n"
          ],
          "name": "stdout"
        },
        {
          "output_type": "stream",
          "text": [
            "2018-11-28 16:57:20.774 INFO in 'deeppavlov.core.commands.train'['train'] at line 459: New best per_item_dialog_accuracy of 0.3627\n",
            "2018-11-28 16:57:20.775 INFO in 'deeppavlov.core.commands.train'['train'] at line 461: Saving model\n",
            "2018-11-28 16:57:20.775 INFO in 'deeppavlov.core.models.tf_model'['tf_model'] at line 52: [saving model to /home/vimary/ipavlov/Pilot/examples/tutorials/models/my_gobot_emb/model]\n",
            "2018-11-28 16:57:20.837 INFO in 'deeppavlov.models.go_bot.network'['network'] at line 354: [saving parameters to /home/vimary/ipavlov/Pilot/examples/tutorials/models/my_gobot_emb/model.json]\n"
          ],
          "name": "stderr"
        },
        {
          "output_type": "stream",
          "text": [
            "{\"valid\": {\"eval_examples_count\": 575, \"metrics\": {\"per_item_dialog_accuracy\": 0.3627}, \"time_spent\": \"0:04:12\", \"epochs_done\": 1, \"batches_seen\": 375, \"train_examples_seen\": 1499, \"impatience\": 0, \"patience_limit\": 10}}\n",
            "{\"train\": {\"epochs_done\": 1, \"batches_seen\": 390, \"examples_seen\": 1559, \"metrics\": {\"per_item_dialog_accuracy\": 0.4298}, \"time_spent\": \"0:04:13\"}}\n"
          ],
          "name": "stdout"
        },
        {
          "output_type": "stream",
          "text": [
            "2018-11-28 16:57:30.308 INFO in 'deeppavlov.core.commands.train'['train'] at line 466: Did not improve on the per_item_dialog_accuracy of 0.3627\n"
          ],
          "name": "stderr"
        },
        {
          "output_type": "stream",
          "text": [
            "{\"valid\": {\"eval_examples_count\": 575, \"metrics\": {\"per_item_dialog_accuracy\": 0.3598}, \"time_spent\": \"0:04:21\", \"epochs_done\": 1, \"batches_seen\": 390, \"train_examples_seen\": 1559, \"impatience\": 1, \"patience_limit\": 10}}\n",
            "{\"train\": {\"epochs_done\": 1, \"batches_seen\": 405, \"examples_seen\": 1619, \"metrics\": {\"per_item_dialog_accuracy\": 0.4364}, \"time_spent\": \"0:04:22\"}}\n"
          ],
          "name": "stdout"
        },
        {
          "output_type": "stream",
          "text": [
            "2018-11-28 16:57:39.948 INFO in 'deeppavlov.core.commands.train'['train'] at line 466: Did not improve on the per_item_dialog_accuracy of 0.3627\n"
          ],
          "name": "stderr"
        },
        {
          "output_type": "stream",
          "text": [
            "{\"valid\": {\"eval_examples_count\": 575, \"metrics\": {\"per_item_dialog_accuracy\": 0.3293}, \"time_spent\": \"0:04:31\", \"epochs_done\": 1, \"batches_seen\": 405, \"train_examples_seen\": 1619, \"impatience\": 2, \"patience_limit\": 10}}\n",
            "{\"train\": {\"epochs_done\": 1, \"batches_seen\": 420, \"examples_seen\": 1679, \"metrics\": {\"per_item_dialog_accuracy\": 0.4651}, \"time_spent\": \"0:04:32\"}}\n"
          ],
          "name": "stdout"
        },
        {
          "output_type": "stream",
          "text": [
            "2018-11-28 16:57:50.665 INFO in 'deeppavlov.core.commands.train'['train'] at line 466: Did not improve on the per_item_dialog_accuracy of 0.3627\n"
          ],
          "name": "stderr"
        },
        {
          "output_type": "stream",
          "text": [
            "{\"valid\": {\"eval_examples_count\": 575, \"metrics\": {\"per_item_dialog_accuracy\": 0.3407}, \"time_spent\": \"0:04:42\", \"epochs_done\": 1, \"batches_seen\": 420, \"train_examples_seen\": 1679, \"impatience\": 3, \"patience_limit\": 10}}\n",
            "{\"train\": {\"epochs_done\": 1, \"batches_seen\": 435, \"examples_seen\": 1739, \"metrics\": {\"per_item_dialog_accuracy\": 0.4615}, \"time_spent\": \"0:04:43\"}}\n"
          ],
          "name": "stdout"
        },
        {
          "output_type": "stream",
          "text": [
            "2018-11-28 16:57:59.912 INFO in 'deeppavlov.core.commands.train'['train'] at line 466: Did not improve on the per_item_dialog_accuracy of 0.3627\n"
          ],
          "name": "stderr"
        },
        {
          "output_type": "stream",
          "text": [
            "{\"valid\": {\"eval_examples_count\": 575, \"metrics\": {\"per_item_dialog_accuracy\": 0.3365}, \"time_spent\": \"0:04:51\", \"epochs_done\": 1, \"batches_seen\": 435, \"train_examples_seen\": 1739, \"impatience\": 4, \"patience_limit\": 10}}\n",
            "{\"train\": {\"epochs_done\": 1, \"batches_seen\": 450, \"examples_seen\": 1799, \"metrics\": {\"per_item_dialog_accuracy\": 0.4041}, \"time_spent\": \"0:04:52\"}}\n"
          ],
          "name": "stdout"
        },
        {
          "output_type": "stream",
          "text": [
            "2018-11-28 16:58:09.572 INFO in 'deeppavlov.core.commands.train'['train'] at line 466: Did not improve on the per_item_dialog_accuracy of 0.3627\n"
          ],
          "name": "stderr"
        },
        {
          "output_type": "stream",
          "text": [
            "{\"valid\": {\"eval_examples_count\": 575, \"metrics\": {\"per_item_dialog_accuracy\": 0.3279}, \"time_spent\": \"0:05:01\", \"epochs_done\": 1, \"batches_seen\": 450, \"train_examples_seen\": 1799, \"impatience\": 5, \"patience_limit\": 10}}\n",
            "{\"train\": {\"epochs_done\": 1, \"batches_seen\": 465, \"examples_seen\": 1859, \"metrics\": {\"per_item_dialog_accuracy\": 0.419}, \"time_spent\": \"0:05:02\"}}\n"
          ],
          "name": "stdout"
        },
        {
          "output_type": "stream",
          "text": [
            "2018-11-28 16:58:19.955 INFO in 'deeppavlov.core.commands.train'['train'] at line 466: Did not improve on the per_item_dialog_accuracy of 0.3627\n"
          ],
          "name": "stderr"
        },
        {
          "output_type": "stream",
          "text": [
            "{\"valid\": {\"eval_examples_count\": 575, \"metrics\": {\"per_item_dialog_accuracy\": 0.346}, \"time_spent\": \"0:05:11\", \"epochs_done\": 1, \"batches_seen\": 465, \"train_examples_seen\": 1859, \"impatience\": 6, \"patience_limit\": 10}}\n",
            "{\"train\": {\"epochs_done\": 1, \"batches_seen\": 480, \"examples_seen\": 1919, \"metrics\": {\"per_item_dialog_accuracy\": 0.4544}, \"time_spent\": \"0:05:12\"}}\n"
          ],
          "name": "stdout"
        },
        {
          "output_type": "stream",
          "text": [
            "2018-11-28 16:58:30.959 INFO in 'deeppavlov.core.commands.train'['train'] at line 466: Did not improve on the per_item_dialog_accuracy of 0.3627\n"
          ],
          "name": "stderr"
        },
        {
          "output_type": "stream",
          "text": [
            "{\"valid\": {\"eval_examples_count\": 575, \"metrics\": {\"per_item_dialog_accuracy\": 0.3563}, \"time_spent\": \"0:05:22\", \"epochs_done\": 1, \"batches_seen\": 480, \"train_examples_seen\": 1919, \"impatience\": 7, \"patience_limit\": 10}}\n"
          ],
          "name": "stdout"
        },
        {
          "output_type": "stream",
          "text": [
            "2018-11-28 16:58:31.226 INFO in 'deeppavlov.models.go_bot.network'['network'] at line 372: Updating global step, learning rate = 0.005000.\n"
          ],
          "name": "stderr"
        },
        {
          "output_type": "stream",
          "text": [
            "{\"train\": {\"epochs_done\": 2, \"batches_seen\": 495, \"examples_seen\": 1978, \"metrics\": {\"per_item_dialog_accuracy\": 0.4456}, \"time_spent\": \"0:05:23\"}}\n"
          ],
          "name": "stdout"
        },
        {
          "output_type": "stream",
          "text": [
            "2018-11-28 16:58:40.766 INFO in 'deeppavlov.core.commands.train'['train'] at line 466: Did not improve on the per_item_dialog_accuracy of 0.3627\n"
          ],
          "name": "stderr"
        },
        {
          "output_type": "stream",
          "text": [
            "{\"valid\": {\"eval_examples_count\": 575, \"metrics\": {\"per_item_dialog_accuracy\": 0.3428}, \"time_spent\": \"0:05:32\", \"epochs_done\": 2, \"batches_seen\": 495, \"train_examples_seen\": 1978, \"impatience\": 8, \"patience_limit\": 10}}\n",
            "{\"train\": {\"epochs_done\": 2, \"batches_seen\": 510, \"examples_seen\": 2038, \"metrics\": {\"per_item_dialog_accuracy\": 0.4455}, \"time_spent\": \"0:05:33\"}}\n"
          ],
          "name": "stdout"
        },
        {
          "output_type": "stream",
          "text": [
            "2018-11-28 16:58:50.752 INFO in 'deeppavlov.core.commands.train'['train'] at line 466: Did not improve on the per_item_dialog_accuracy of 0.3627\n"
          ],
          "name": "stderr"
        },
        {
          "output_type": "stream",
          "text": [
            "{\"valid\": {\"eval_examples_count\": 575, \"metrics\": {\"per_item_dialog_accuracy\": 0.3422}, \"time_spent\": \"0:05:42\", \"epochs_done\": 2, \"batches_seen\": 510, \"train_examples_seen\": 2038, \"impatience\": 9, \"patience_limit\": 10}}\n",
            "{\"train\": {\"epochs_done\": 2, \"batches_seen\": 525, \"examples_seen\": 2098, \"metrics\": {\"per_item_dialog_accuracy\": 0.4209}, \"time_spent\": \"0:05:43\"}}\n"
          ],
          "name": "stdout"
        },
        {
          "output_type": "stream",
          "text": [
            "2018-11-28 16:59:00.219 INFO in 'deeppavlov.core.commands.train'['train'] at line 459: New best per_item_dialog_accuracy of 0.3735\n",
            "2018-11-28 16:59:00.220 INFO in 'deeppavlov.core.commands.train'['train'] at line 461: Saving model\n",
            "2018-11-28 16:59:00.220 INFO in 'deeppavlov.core.models.tf_model'['tf_model'] at line 52: [saving model to /home/vimary/ipavlov/Pilot/examples/tutorials/models/my_gobot_emb/model]\n",
            "2018-11-28 16:59:00.289 INFO in 'deeppavlov.models.go_bot.network'['network'] at line 354: [saving parameters to /home/vimary/ipavlov/Pilot/examples/tutorials/models/my_gobot_emb/model.json]\n"
          ],
          "name": "stderr"
        },
        {
          "output_type": "stream",
          "text": [
            "{\"valid\": {\"eval_examples_count\": 575, \"metrics\": {\"per_item_dialog_accuracy\": 0.3735}, \"time_spent\": \"0:05:51\", \"epochs_done\": 2, \"batches_seen\": 525, \"train_examples_seen\": 2098, \"impatience\": 0, \"patience_limit\": 10}}\n",
            "{\"train\": {\"epochs_done\": 2, \"batches_seen\": 540, \"examples_seen\": 2158, \"metrics\": {\"per_item_dialog_accuracy\": 0.5077}, \"time_spent\": \"0:05:52\"}}\n"
          ],
          "name": "stdout"
        },
        {
          "output_type": "stream",
          "text": [
            "2018-11-28 16:59:09.827 INFO in 'deeppavlov.core.commands.train'['train'] at line 466: Did not improve on the per_item_dialog_accuracy of 0.3735\n"
          ],
          "name": "stderr"
        },
        {
          "output_type": "stream",
          "text": [
            "{\"valid\": {\"eval_examples_count\": 575, \"metrics\": {\"per_item_dialog_accuracy\": 0.3592}, \"time_spent\": \"0:06:01\", \"epochs_done\": 2, \"batches_seen\": 540, \"train_examples_seen\": 2158, \"impatience\": 1, \"patience_limit\": 10}}\n",
            "{\"train\": {\"epochs_done\": 2, \"batches_seen\": 555, \"examples_seen\": 2218, \"metrics\": {\"per_item_dialog_accuracy\": 0.4381}, \"time_spent\": \"0:06:02\"}}\n"
          ],
          "name": "stdout"
        },
        {
          "output_type": "stream",
          "text": [
            "2018-11-28 16:59:19.18 INFO in 'deeppavlov.core.commands.train'['train'] at line 466: Did not improve on the per_item_dialog_accuracy of 0.3735\n"
          ],
          "name": "stderr"
        },
        {
          "output_type": "stream",
          "text": [
            "{\"valid\": {\"eval_examples_count\": 575, \"metrics\": {\"per_item_dialog_accuracy\": 0.3489}, \"time_spent\": \"0:06:10\", \"epochs_done\": 2, \"batches_seen\": 555, \"train_examples_seen\": 2218, \"impatience\": 2, \"patience_limit\": 10}}\n",
            "{\"train\": {\"epochs_done\": 2, \"batches_seen\": 570, \"examples_seen\": 2278, \"metrics\": {\"per_item_dialog_accuracy\": 0.4723}, \"time_spent\": \"0:06:11\"}}\n"
          ],
          "name": "stdout"
        },
        {
          "output_type": "stream",
          "text": [
            "2018-11-28 16:59:28.313 INFO in 'deeppavlov.core.commands.train'['train'] at line 466: Did not improve on the per_item_dialog_accuracy of 0.3735\n"
          ],
          "name": "stderr"
        },
        {
          "output_type": "stream",
          "text": [
            "{\"valid\": {\"eval_examples_count\": 575, \"metrics\": {\"per_item_dialog_accuracy\": 0.3484}, \"time_spent\": \"0:06:19\", \"epochs_done\": 2, \"batches_seen\": 570, \"train_examples_seen\": 2278, \"impatience\": 3, \"patience_limit\": 10}}\n",
            "{\"train\": {\"epochs_done\": 2, \"batches_seen\": 585, \"examples_seen\": 2338, \"metrics\": {\"per_item_dialog_accuracy\": 0.4695}, \"time_spent\": \"0:06:20\"}}\n"
          ],
          "name": "stdout"
        },
        {
          "output_type": "stream",
          "text": [
            "2018-11-28 16:59:38.858 INFO in 'deeppavlov.core.commands.train'['train'] at line 466: Did not improve on the per_item_dialog_accuracy of 0.3735\n"
          ],
          "name": "stderr"
        },
        {
          "output_type": "stream",
          "text": [
            "{\"valid\": {\"eval_examples_count\": 575, \"metrics\": {\"per_item_dialog_accuracy\": 0.3519}, \"time_spent\": \"0:06:30\", \"epochs_done\": 2, \"batches_seen\": 585, \"train_examples_seen\": 2338, \"impatience\": 4, \"patience_limit\": 10}}\n",
            "{\"train\": {\"epochs_done\": 2, \"batches_seen\": 600, \"examples_seen\": 2398, \"metrics\": {\"per_item_dialog_accuracy\": 0.4613}, \"time_spent\": \"0:06:31\"}}\n"
          ],
          "name": "stdout"
        },
        {
          "output_type": "stream",
          "text": [
            "2018-11-28 16:59:49.508 INFO in 'deeppavlov.core.commands.train'['train'] at line 459: New best per_item_dialog_accuracy of 0.3863\n",
            "2018-11-28 16:59:49.509 INFO in 'deeppavlov.core.commands.train'['train'] at line 461: Saving model\n",
            "2018-11-28 16:59:49.509 INFO in 'deeppavlov.core.models.tf_model'['tf_model'] at line 52: [saving model to /home/vimary/ipavlov/Pilot/examples/tutorials/models/my_gobot_emb/model]\n",
            "2018-11-28 16:59:49.575 INFO in 'deeppavlov.models.go_bot.network'['network'] at line 354: [saving parameters to /home/vimary/ipavlov/Pilot/examples/tutorials/models/my_gobot_emb/model.json]\n"
          ],
          "name": "stderr"
        },
        {
          "output_type": "stream",
          "text": [
            "{\"valid\": {\"eval_examples_count\": 575, \"metrics\": {\"per_item_dialog_accuracy\": 0.3863}, \"time_spent\": \"0:06:41\", \"epochs_done\": 2, \"batches_seen\": 600, \"train_examples_seen\": 2398, \"impatience\": 0, \"patience_limit\": 10}}\n",
            "{\"train\": {\"epochs_done\": 2, \"batches_seen\": 615, \"examples_seen\": 2458, \"metrics\": {\"per_item_dialog_accuracy\": 0.4327}, \"time_spent\": \"0:06:42\"}}\n"
          ],
          "name": "stdout"
        },
        {
          "output_type": "stream",
          "text": [
            "2018-11-28 16:59:59.363 INFO in 'deeppavlov.core.commands.train'['train'] at line 466: Did not improve on the per_item_dialog_accuracy of 0.3863\n"
          ],
          "name": "stderr"
        },
        {
          "output_type": "stream",
          "text": [
            "{\"valid\": {\"eval_examples_count\": 575, \"metrics\": {\"per_item_dialog_accuracy\": 0.3797}, \"time_spent\": \"0:06:50\", \"epochs_done\": 2, \"batches_seen\": 615, \"train_examples_seen\": 2458, \"impatience\": 1, \"patience_limit\": 10}}\n",
            "{\"train\": {\"epochs_done\": 2, \"batches_seen\": 630, \"examples_seen\": 2518, \"metrics\": {\"per_item_dialog_accuracy\": 0.4795}, \"time_spent\": \"0:06:51\"}}\n"
          ],
          "name": "stdout"
        },
        {
          "output_type": "stream",
          "text": [
            "2018-11-28 17:00:08.859 INFO in 'deeppavlov.core.commands.train'['train'] at line 466: Did not improve on the per_item_dialog_accuracy of 0.3863\n"
          ],
          "name": "stderr"
        },
        {
          "output_type": "stream",
          "text": [
            "{\"valid\": {\"eval_examples_count\": 575, \"metrics\": {\"per_item_dialog_accuracy\": 0.369}, \"time_spent\": \"0:07:00\", \"epochs_done\": 2, \"batches_seen\": 630, \"train_examples_seen\": 2518, \"impatience\": 2, \"patience_limit\": 10}}\n",
            "{\"train\": {\"epochs_done\": 2, \"batches_seen\": 645, \"examples_seen\": 2578, \"metrics\": {\"per_item_dialog_accuracy\": 0.4511}, \"time_spent\": \"0:07:01\"}}\n"
          ],
          "name": "stdout"
        },
        {
          "output_type": "stream",
          "text": [
            "2018-11-28 17:00:18.169 INFO in 'deeppavlov.core.commands.train'['train'] at line 466: Did not improve on the per_item_dialog_accuracy of 0.3863\n"
          ],
          "name": "stderr"
        },
        {
          "output_type": "stream",
          "text": [
            "{\"valid\": {\"eval_examples_count\": 575, \"metrics\": {\"per_item_dialog_accuracy\": 0.3828}, \"time_spent\": \"0:07:09\", \"epochs_done\": 2, \"batches_seen\": 645, \"train_examples_seen\": 2578, \"impatience\": 3, \"patience_limit\": 10}}\n",
            "{\"train\": {\"epochs_done\": 2, \"batches_seen\": 660, \"examples_seen\": 2638, \"metrics\": {\"per_item_dialog_accuracy\": 0.451}, \"time_spent\": \"0:07:10\"}}\n"
          ],
          "name": "stdout"
        },
        {
          "output_type": "stream",
          "text": [
            "2018-11-28 17:00:28.367 INFO in 'deeppavlov.core.commands.train'['train'] at line 466: Did not improve on the per_item_dialog_accuracy of 0.3863\n"
          ],
          "name": "stderr"
        },
        {
          "output_type": "stream",
          "text": [
            "{\"valid\": {\"eval_examples_count\": 575, \"metrics\": {\"per_item_dialog_accuracy\": 0.3398}, \"time_spent\": \"0:07:19\", \"epochs_done\": 2, \"batches_seen\": 660, \"train_examples_seen\": 2638, \"impatience\": 4, \"patience_limit\": 10}}\n",
            "{\"train\": {\"epochs_done\": 2, \"batches_seen\": 675, \"examples_seen\": 2698, \"metrics\": {\"per_item_dialog_accuracy\": 0.4664}, \"time_spent\": \"0:07:21\"}}\n"
          ],
          "name": "stdout"
        },
        {
          "output_type": "stream",
          "text": [
            "2018-11-28 17:00:39.104 INFO in 'deeppavlov.core.commands.train'['train'] at line 466: Did not improve on the per_item_dialog_accuracy of 0.3863\n"
          ],
          "name": "stderr"
        },
        {
          "output_type": "stream",
          "text": [
            "{\"valid\": {\"eval_examples_count\": 575, \"metrics\": {\"per_item_dialog_accuracy\": 0.3577}, \"time_spent\": \"0:07:30\", \"epochs_done\": 2, \"batches_seen\": 675, \"train_examples_seen\": 2698, \"impatience\": 5, \"patience_limit\": 10}}\n",
            "{\"train\": {\"epochs_done\": 2, \"batches_seen\": 690, \"examples_seen\": 2758, \"metrics\": {\"per_item_dialog_accuracy\": 0.5164}, \"time_spent\": \"0:07:31\"}}\n"
          ],
          "name": "stdout"
        },
        {
          "output_type": "stream",
          "text": [
            "2018-11-28 17:00:48.433 INFO in 'deeppavlov.core.commands.train'['train'] at line 466: Did not improve on the per_item_dialog_accuracy of 0.3863\n"
          ],
          "name": "stderr"
        },
        {
          "output_type": "stream",
          "text": [
            "{\"valid\": {\"eval_examples_count\": 575, \"metrics\": {\"per_item_dialog_accuracy\": 0.3613}, \"time_spent\": \"0:07:40\", \"epochs_done\": 2, \"batches_seen\": 690, \"train_examples_seen\": 2758, \"impatience\": 6, \"patience_limit\": 10}}\n",
            "{\"train\": {\"epochs_done\": 2, \"batches_seen\": 705, \"examples_seen\": 2818, \"metrics\": {\"per_item_dialog_accuracy\": 0.4652}, \"time_spent\": \"0:07:40\"}}\n"
          ],
          "name": "stdout"
        },
        {
          "output_type": "stream",
          "text": [
            "2018-11-28 17:00:58.3 INFO in 'deeppavlov.core.commands.train'['train'] at line 466: Did not improve on the per_item_dialog_accuracy of 0.3863\n"
          ],
          "name": "stderr"
        },
        {
          "output_type": "stream",
          "text": [
            "{\"valid\": {\"eval_examples_count\": 575, \"metrics\": {\"per_item_dialog_accuracy\": 0.3654}, \"time_spent\": \"0:07:49\", \"epochs_done\": 2, \"batches_seen\": 705, \"train_examples_seen\": 2818, \"impatience\": 7, \"patience_limit\": 10}}\n",
            "{\"train\": {\"epochs_done\": 2, \"batches_seen\": 720, \"examples_seen\": 2878, \"metrics\": {\"per_item_dialog_accuracy\": 0.4497}, \"time_spent\": \"0:07:50\"}}\n"
          ],
          "name": "stdout"
        },
        {
          "output_type": "stream",
          "text": [
            "2018-11-28 17:01:07.501 INFO in 'deeppavlov.core.commands.train'['train'] at line 466: Did not improve on the per_item_dialog_accuracy of 0.3863\n"
          ],
          "name": "stderr"
        },
        {
          "output_type": "stream",
          "text": [
            "{\"valid\": {\"eval_examples_count\": 575, \"metrics\": {\"per_item_dialog_accuracy\": 0.3717}, \"time_spent\": \"0:07:59\", \"epochs_done\": 2, \"batches_seen\": 720, \"train_examples_seen\": 2878, \"impatience\": 8, \"patience_limit\": 10}}\n"
          ],
          "name": "stdout"
        },
        {
          "output_type": "stream",
          "text": [
            "2018-11-28 17:01:07.947 INFO in 'deeppavlov.models.go_bot.network'['network'] at line 372: Updating global step, learning rate = 0.005000.\n"
          ],
          "name": "stderr"
        },
        {
          "output_type": "stream",
          "text": [
            "{\"train\": {\"epochs_done\": 3, \"batches_seen\": 735, \"examples_seen\": 2937, \"metrics\": {\"per_item_dialog_accuracy\": 0.4393}, \"time_spent\": \"0:08:00\"}}\n"
          ],
          "name": "stdout"
        },
        {
          "output_type": "stream",
          "text": [
            "2018-11-28 17:01:18.146 INFO in 'deeppavlov.core.commands.train'['train'] at line 466: Did not improve on the per_item_dialog_accuracy of 0.3863\n"
          ],
          "name": "stderr"
        },
        {
          "output_type": "stream",
          "text": [
            "{\"valid\": {\"eval_examples_count\": 575, \"metrics\": {\"per_item_dialog_accuracy\": 0.3656}, \"time_spent\": \"0:08:09\", \"epochs_done\": 3, \"batches_seen\": 735, \"train_examples_seen\": 2937, \"impatience\": 9, \"patience_limit\": 10}}\n",
            "{\"train\": {\"epochs_done\": 3, \"batches_seen\": 750, \"examples_seen\": 2997, \"metrics\": {\"per_item_dialog_accuracy\": 0.4504}, \"time_spent\": \"0:08:11\"}}\n"
          ],
          "name": "stdout"
        },
        {
          "output_type": "stream",
          "text": [
            "2018-11-28 17:01:28.708 INFO in 'deeppavlov.core.commands.train'['train'] at line 466: Did not improve on the per_item_dialog_accuracy of 0.3863\n",
            "2018-11-28 17:01:28.708 INFO in 'deeppavlov.core.commands.train'['train'] at line 477: Ran out of patience\n",
            "2018-11-28 17:01:28.709 INFO in 'deeppavlov.core.data.simple_vocab'['simple_vocab'] at line 100: [loading vocabulary from /home/vimary/ipavlov/Pilot/examples/tutorials/models/my_gobot_emb/token.dict]\n",
            "2018-11-28 17:01:28.711 INFO in 'deeppavlov.models.embedders.fasttext_embedder'['fasttext_embedder'] at line 52: [loading fastText embeddings from `/home/vimary/.deeppavlov/downloads/embeddings/wiki.en.bin`]\n"
          ],
          "name": "stderr"
        },
        {
          "output_type": "stream",
          "text": [
            "{\"valid\": {\"eval_examples_count\": 575, \"metrics\": {\"per_item_dialog_accuracy\": 0.3242}, \"time_spent\": \"0:08:20\", \"epochs_done\": 3, \"batches_seen\": 750, \"train_examples_seen\": 2997, \"impatience\": 10, \"patience_limit\": 10}}\n"
          ],
          "name": "stdout"
        },
        {
          "output_type": "stream",
          "text": [
            "2018-11-28 17:01:35.148 INFO in 'deeppavlov.models.go_bot.bot'['bot'] at line 108: [loading templates from /home/vimary/.deeppavlov/downloads/dstc2/dstc2-templates.txt]\n",
            "2018-11-28 17:01:35.149 INFO in 'deeppavlov.models.go_bot.bot'['bot'] at line 111: 46 templates loaded\n",
            "2018-11-28 17:01:35.149 INFO in 'deeppavlov.models.go_bot.bot'['bot'] at line 139: Calculated input size for `GoalOrientedBotNetwork` is 796\n",
            "2018-11-28 17:01:35.627 INFO in 'deeppavlov.models.go_bot.network'['network'] at line 120: [initializing `GoalOrientedBotNetwork` from saved]\n",
            "2018-11-28 17:01:35.628 INFO in 'deeppavlov.models.go_bot.network'['network'] at line 360: [loading parameters from /home/vimary/ipavlov/Pilot/examples/tutorials/models/my_gobot_emb/model.json]\n",
            "2018-11-28 17:01:35.630 INFO in 'deeppavlov.core.models.tf_model'['tf_model'] at line 43: [loading model from /home/vimary/ipavlov/Pilot/examples/tutorials/models/my_gobot_emb/model]\n",
            "2018-11-28 17:01:35.638 INFO in 'tensorflow'['tf_logging'] at line 115: Restoring parameters from /home/vimary/ipavlov/Pilot/examples/tutorials/models/my_gobot_emb/model\n",
            "2018-11-28 17:01:35.963 INFO in 'deeppavlov.core.commands.train'['train'] at line 217: Testing the best saved model\n"
          ],
          "name": "stderr"
        },
        {
          "output_type": "stream",
          "text": [
            "{\"valid\": {\"eval_examples_count\": 575, \"metrics\": {\"per_item_dialog_accuracy\": 0.3863}, \"time_spent\": \"0:00:09\"}}\n"
          ],
          "name": "stdout"
        },
        {
          "output_type": "stream",
          "text": [
            "2018-11-28 17:01:53.778 INFO in 'deeppavlov.core.data.simple_vocab'['simple_vocab'] at line 100: [loading vocabulary from /home/vimary/ipavlov/Pilot/examples/tutorials/models/my_gobot_emb/token.dict]\n",
            "2018-11-28 17:01:53.781 INFO in 'deeppavlov.models.embedders.fasttext_embedder'['fasttext_embedder'] at line 52: [loading fastText embeddings from `/home/vimary/.deeppavlov/downloads/embeddings/wiki.en.bin`]\n"
          ],
          "name": "stderr"
        },
        {
          "output_type": "stream",
          "text": [
            "{\"test\": {\"eval_examples_count\": 576, \"metrics\": {\"per_item_dialog_accuracy\": 0.3957}, \"time_spent\": \"0:00:09\"}}\n"
          ],
          "name": "stdout"
        },
        {
          "output_type": "stream",
          "text": [
            "2018-11-28 17:02:14.602 INFO in 'deeppavlov.models.go_bot.bot'['bot'] at line 108: [loading templates from /home/vimary/.deeppavlov/downloads/dstc2/dstc2-templates.txt]\n",
            "2018-11-28 17:02:14.603 INFO in 'deeppavlov.models.go_bot.bot'['bot'] at line 111: 46 templates loaded\n",
            "2018-11-28 17:02:14.603 INFO in 'deeppavlov.models.go_bot.bot'['bot'] at line 139: Calculated input size for `GoalOrientedBotNetwork` is 796\n",
            "2018-11-28 17:02:15.73 INFO in 'deeppavlov.models.go_bot.network'['network'] at line 120: [initializing `GoalOrientedBotNetwork` from saved]\n",
            "2018-11-28 17:02:15.74 INFO in 'deeppavlov.models.go_bot.network'['network'] at line 360: [loading parameters from /home/vimary/ipavlov/Pilot/examples/tutorials/models/my_gobot_emb/model.json]\n",
            "2018-11-28 17:02:15.76 INFO in 'deeppavlov.core.models.tf_model'['tf_model'] at line 43: [loading model from /home/vimary/ipavlov/Pilot/examples/tutorials/models/my_gobot_emb/model]\n",
            "2018-11-28 17:02:15.84 INFO in 'tensorflow'['tf_logging'] at line 115: Restoring parameters from /home/vimary/ipavlov/Pilot/examples/tutorials/models/my_gobot_emb/model\n"
          ],
          "name": "stderr"
        }
      ]
    },
    {
      "cell_type": "code",
      "metadata": {
        "id": "xnf5Z_VOrg-w",
        "colab_type": "code",
        "colab": {},
        "outputId": "7531836e-2a6f-43bb-ef44-c48dea88e3f5"
      },
      "source": [
        "bot_emb(['hi, i want cheaply priced food, please'])"
      ],
      "execution_count": 0,
      "outputs": [
        {
          "output_type": "execute_result",
          "data": {
            "text/plain": [
              "['Hello, welcome to the Cambridge restaurant system. You can ask for restaurants by area, price range or food type. How may I help you?']"
            ]
          },
          "metadata": {
            "tags": []
          },
          "execution_count": 32
        }
      ]
    },
    {
      "cell_type": "code",
      "metadata": {
        "id": "_U8oKrCwrg-3",
        "colab_type": "code",
        "colab": {},
        "outputId": "f0224d96-0c3d-4b20-d4c7-3fdd9f91371f"
      },
      "source": [
        "bot_emb(['bye'])"
      ],
      "execution_count": 0,
      "outputs": [
        {
          "output_type": "execute_result",
          "data": {
            "text/plain": [
              "['Hello, welcome to the Cambridge restaurant system. You can ask for restaurants by area, price range or food type. How may I help you?']"
            ]
          },
          "metadata": {
            "tags": []
          },
          "execution_count": 33
        }
      ]
    },
    {
      "cell_type": "code",
      "metadata": {
        "id": "tiyWN_Z6rg_D",
        "colab_type": "code",
        "colab": {}
      },
      "source": [
        "# free memory\n",
        "del bot_emb"
      ],
      "execution_count": 0,
      "outputs": []
    },
    {
      "cell_type": "markdown",
      "metadata": {
        "id": "uqHpkc9srg_P",
        "colab_type": "text"
      },
      "source": [
        "## Adding pretrained NER model"
      ]
    },
    {
      "cell_type": "code",
      "metadata": {
        "id": "h-FznXlFrg_S",
        "colab_type": "code",
        "colab": {},
        "outputId": "08095191-d2c1-46ad-a7e9-73b09ce2afc6"
      },
      "source": [
        "tokenizer"
      ],
      "execution_count": 0,
      "outputs": [
        {
          "output_type": "execute_result",
          "data": {
            "text/plain": [
              "{'class_name': 'deeppavlov.models.go_bot.wrapper:DialogComponentWrapper',\n",
              " 'component': {'class_name': 'split_tokenizer'},\n",
              " 'in': ['x'],\n",
              " 'out': ['x_tokens']}"
            ]
          },
          "metadata": {
            "tags": []
          },
          "execution_count": 36
        }
      ]
    },
    {
      "cell_type": "code",
      "metadata": {
        "id": "bga1pH1Zrg_e",
        "colab_type": "code",
        "colab": {}
      },
      "source": [
        "token_vocabulary_ner = copy(token_vocabulary_emb)\n",
        "\n",
        "token_vocabulary_ner['save_path'] = '{MODELS_PATH}/my_gobot_ner/token.dict'\n",
        "token_vocabulary_ner['load_path'] = '{MODELS_PATH}/my_gobot_ner/token.dict'"
      ],
      "execution_count": 0,
      "outputs": []
    },
    {
      "cell_type": "code",
      "metadata": {
        "id": "pQDtHg9vrg_o",
        "colab_type": "code",
        "colab": {},
        "outputId": "23f117ad-cb41-48e7-a820-7961070f94c7"
      },
      "source": [
        "print(network_emb['slot_filler'])"
      ],
      "execution_count": 0,
      "outputs": [
        {
          "output_type": "stream",
          "text": [
            "None\n"
          ],
          "name": "stdout"
        }
      ]
    },
    {
      "cell_type": "markdown",
      "metadata": {
        "id": "xG3rg9Krrg_u",
        "colab_type": "text"
      },
      "source": [
        "##### Посмотрим на предполагаемые входные и выходные данные от NER"
      ]
    },
    {
      "cell_type": "code",
      "metadata": {
        "id": "7mcSNsS0rg_w",
        "colab_type": "code",
        "colab": {},
        "outputId": "cd52bd1f-84f8-47b0-bc0a-039626550227"
      },
      "source": [
        "ner_model = build_model(deeppavlov.configs.ner.slotfill_dstc2, download=True)"
      ],
      "execution_count": 0,
      "outputs": [
        {
          "output_type": "stream",
          "text": [
            "2018-11-28 17:02:15.563 DEBUG in 'urllib3.connectionpool'['connectionpool'] at line 205: Starting new HTTP connection (1): files.deeppavlov.ai:80\n",
            "2018-11-28 17:02:15.618 DEBUG in 'urllib3.connectionpool'['connectionpool'] at line 393: http://files.deeppavlov.ai:80 \"GET /deeppavlov_data/slotfill_dstc2.tar.gz.md5 HTTP/1.1\" 200 442\n",
            "2018-11-28 17:02:15.630 DEBUG in 'urllib3.connectionpool'['connectionpool'] at line 205: Starting new HTTP connection (1): files.deeppavlov.ai:80\n",
            "2018-11-28 17:02:15.663 DEBUG in 'urllib3.connectionpool'['connectionpool'] at line 393: http://files.deeppavlov.ai:80 \"GET /deeppavlov_data/slotfill_dstc2.tar.gz HTTP/1.1\" 200 640674\n",
            "2018-11-28 17:02:15.667 INFO in 'deeppavlov.core.data.utils'['utils'] at line 63: Downloading from http://files.deeppavlov.ai/deeppavlov_data/slotfill_dstc2.tar.gz to /home/vimary/.deeppavlov/slotfill_dstc2.tar.gz\n",
            "100%|██████████| 641k/641k [00:00<00:00, 16.7MB/s]\n",
            "2018-11-28 17:02:15.713 INFO in 'deeppavlov.core.data.utils'['utils'] at line 201: Extracting /home/vimary/.deeppavlov/slotfill_dstc2.tar.gz archive into /home/vimary/.deeppavlov/models\n",
            "2018-11-28 17:02:15.758 INFO in 'deeppavlov.core.data.simple_vocab'['simple_vocab'] at line 100: [loading vocabulary from /home/vimary/.deeppavlov/models/slotfill_dstc2/word.dict]\n",
            "2018-11-28 17:02:15.765 INFO in 'deeppavlov.core.data.simple_vocab'['simple_vocab'] at line 100: [loading vocabulary from /home/vimary/.deeppavlov/models/slotfill_dstc2/tag.dict]\n",
            "2018-11-28 17:02:16.162 WARNING in 'tensorflow'['tf_logging'] at line 125: From /home/vimary/ipavlov/Pilot/deeppavlov/models/ner/network.py:262: softmax_cross_entropy_with_logits (from tensorflow.python.ops.nn_ops) is deprecated and will be removed in a future version.\n",
            "Instructions for updating:\n",
            "\n",
            "Future major versions of TensorFlow will allow gradients to flow\n",
            "into the labels input on backprop by default.\n",
            "\n",
            "See @{tf.nn.softmax_cross_entropy_with_logits_v2}.\n",
            "\n",
            "2018-11-28 17:02:16.941 INFO in 'deeppavlov.core.models.tf_model'['tf_model'] at line 43: [loading model from /home/vimary/.deeppavlov/models/slotfill_dstc2/model]\n",
            "2018-11-28 17:02:16.955 INFO in 'tensorflow'['tf_logging'] at line 115: Restoring parameters from /home/vimary/.deeppavlov/models/slotfill_dstc2/model\n"
          ],
          "name": "stderr"
        }
      ]
    },
    {
      "cell_type": "code",
      "metadata": {
        "id": "htEssI0prg_6",
        "colab_type": "code",
        "colab": {},
        "outputId": "792fcbcd-9be3-4652-8fb6-e0f01b88c7fa"
      },
      "source": [
        "ner_model(['i want cheap food in chinese reastaurant in the south of town'])"
      ],
      "execution_count": 0,
      "outputs": [
        {
          "output_type": "execute_result",
          "data": {
            "text/plain": [
              "[{'pricerange': 'cheap', 'food': 'chinese', 'area': 'south'}]"
            ]
          },
          "metadata": {
            "tags": []
          },
          "execution_count": 40
        }
      ]
    },
    {
      "cell_type": "code",
      "metadata": {
        "id": "j22g1mL-rhAE",
        "colab_type": "code",
        "colab": {}
      },
      "source": [
        "# free memory\n",
        "del ner_model"
      ],
      "execution_count": 0,
      "outputs": []
    },
    {
      "cell_type": "markdown",
      "metadata": {
        "id": "baX2UonNrhAJ",
        "colab_type": "text"
      },
      "source": [
        "##### Let's add NER into a NLU module of our hybrid bot"
      ]
    },
    {
      "cell_type": "code",
      "metadata": {
        "id": "xOt8_FcArhAL",
        "colab_type": "code",
        "colab": {}
      },
      "source": [
        "network_ner = copy(network_emb)\n",
        "\n",
        "network_ner['slot_filler'] = {\n",
        "    'config_path': '{DEEPPAVLOV_PATH}/configs/ner/slotfill_dstc2.json'\n",
        "}\n",
        "network_ner['load_path'] = \"{MODELS_PATH}/my_gobot_ner/model\"\n",
        "network_ner['save_path'] = \"{MODELS_PATH}/my_gobot_ner/model\""
      ],
      "execution_count": 0,
      "outputs": []
    },
    {
      "cell_type": "markdown",
      "metadata": {
        "id": "B0L7PqR-rhAP",
        "colab_type": "text"
      },
      "source": [
        "##### Let's initialize all possible slot types and add a dialog state tracker"
      ]
    },
    {
      "cell_type": "code",
      "metadata": {
        "id": "TC0e5X_XrhAR",
        "colab_type": "code",
        "colab": {}
      },
      "source": [
        "slot_types = [\"pricerange\", \"this\", \"area\", \"food\", \"name\"]"
      ],
      "execution_count": 0,
      "outputs": []
    },
    {
      "cell_type": "code",
      "metadata": {
        "id": "6A5y1IRVrhAW",
        "colab_type": "code",
        "colab": {},
        "outputId": "3c5b1c0d-5bc0-49eb-bae8-be9f72e7b1d3"
      },
      "source": [
        "print(network_ner['tracker'])"
      ],
      "execution_count": 0,
      "outputs": [
        {
          "output_type": "stream",
          "text": [
            "{'class_name': 'featurized_tracker', 'slot_names': []}\n"
          ],
          "name": "stdout"
        }
      ]
    },
    {
      "cell_type": "code",
      "metadata": {
        "id": "NQM2gtzyrhAe",
        "colab_type": "code",
        "colab": {}
      },
      "source": [
        "network_ner[\"tracker\"] = {\n",
        "    \"class_name\": \"featurized_tracker\",\n",
        "    \"slot_names\": slot_types\n",
        "}"
      ],
      "execution_count": 0,
      "outputs": []
    },
    {
      "cell_type": "code",
      "metadata": {
        "id": "-MD5KiCkrhAj",
        "colab_type": "code",
        "colab": {}
      },
      "source": [
        "##"
      ],
      "execution_count": 0,
      "outputs": []
    },
    {
      "cell_type": "code",
      "metadata": {
        "id": "l7nP3Eq4rhAx",
        "colab_type": "code",
        "colab": {}
      },
      "source": [
        "config_ner = copy(config_emb)\n",
        "\n",
        "config_ner['chainer']['pipe'] = [\n",
        "    tokenizer,\n",
        "    token_vocabulary_ner,\n",
        "    network_ner\n",
        "]"
      ],
      "execution_count": 0,
      "outputs": []
    },
    {
      "cell_type": "code",
      "metadata": {
        "id": "XxGe9Nc5rhA5",
        "colab_type": "code",
        "colab": {},
        "outputId": "e7bce79d-696d-42d4-8eab-baad027125bf"
      },
      "source": [
        "from deeppavlov.core.commands.train import train_evaluate_model_from_config\n",
        "\n",
        "def train_model(config, download=False):\n",
        "    train_evaluate_model_from_config(config, download=download, recursive=False)\n",
        "    return build_model(config, load_trained=True)\n",
        "\n",
        "\n",
        "bot_ner = train_model(config_ner, download=True)\n",
        "# bot_ner = build_model(config_ner)"
      ],
      "execution_count": 0,
      "outputs": [
        {
          "output_type": "stream",
          "text": [
            "2018-11-28 17:03:13.386 DEBUG in 'urllib3.connectionpool'['connectionpool'] at line 205: Starting new HTTP connection (1): files.deeppavlov.ai:80\n",
            "2018-11-28 17:03:13.421 DEBUG in 'urllib3.connectionpool'['connectionpool'] at line 393: http://files.deeppavlov.ai:80 \"GET /deeppavlov_data/slotfill_dstc2.tar.gz.md5 HTTP/1.1\" 200 442\n",
            "2018-11-28 17:03:13.424 INFO in 'deeppavlov.download'['download'] at line 115: Skipped http://files.deeppavlov.ai/deeppavlov_data/slotfill_dstc2.tar.gz download because of matching hashes\n",
            "2018-11-28 17:03:13.425 DEBUG in 'urllib3.connectionpool'['connectionpool'] at line 205: Starting new HTTP connection (1): files.deeppavlov.ai:80\n",
            "2018-11-28 17:03:13.460 DEBUG in 'urllib3.connectionpool'['connectionpool'] at line 393: http://files.deeppavlov.ai:80 \"GET /datasets/dstc2_v2.tar.gz.md5 HTTP/1.1\" 200 260\n",
            "2018-11-28 17:03:13.483 INFO in 'deeppavlov.download'['download'] at line 115: Skipped http://files.deeppavlov.ai/datasets/dstc2_v2.tar.gz download because of matching hashes\n",
            "2018-11-28 17:03:13.484 DEBUG in 'urllib3.connectionpool'['connectionpool'] at line 205: Starting new HTTP connection (1): files.deeppavlov.ai:80\n",
            "2018-11-28 17:03:13.519 DEBUG in 'urllib3.connectionpool'['connectionpool'] at line 393: http://files.deeppavlov.ai:80 \"GET /deeppavlov_data/embeddings/wiki.en.bin.md5 HTTP/1.1\" 200 46\n",
            "2018-11-28 17:03:24.80 INFO in 'deeppavlov.download'['download'] at line 115: Skipped http://files.deeppavlov.ai/deeppavlov_data/embeddings/wiki.en.bin download because of matching hashes\n",
            "2018-11-28 17:03:24.81 INFO in 'deeppavlov.dataset_readers.dstc2_reader'['dstc2_reader'] at line 113: [loading dialogs from /home/vimary/.deeppavlov/downloads/dstc2/dstc2-trn.jsonlist]\n",
            "2018-11-28 17:03:24.356 INFO in 'deeppavlov.dataset_readers.dstc2_reader'['dstc2_reader'] at line 113: [loading dialogs from /home/vimary/.deeppavlov/downloads/dstc2/dstc2-val.jsonlist]\n",
            "2018-11-28 17:03:24.435 INFO in 'deeppavlov.dataset_readers.dstc2_reader'['dstc2_reader'] at line 113: [loading dialogs from /home/vimary/.deeppavlov/downloads/dstc2/dstc2-tst.jsonlist]\n",
            "2018-11-28 17:03:24.777 INFO in 'deeppavlov.core.data.simple_vocab'['simple_vocab'] at line 89: [saving vocabulary to /home/vimary/ipavlov/Pilot/examples/tutorials/models/my_gobot_ner/token.dict]\n",
            "2018-11-28 17:03:24.780 INFO in 'deeppavlov.core.data.simple_vocab'['simple_vocab'] at line 100: [loading vocabulary from /home/vimary/.deeppavlov/models/slotfill_dstc2/word.dict]\n",
            "2018-11-28 17:03:24.783 INFO in 'deeppavlov.core.data.simple_vocab'['simple_vocab'] at line 100: [loading vocabulary from /home/vimary/.deeppavlov/models/slotfill_dstc2/tag.dict]\n",
            "2018-11-28 17:03:25.341 INFO in 'deeppavlov.core.models.tf_model'['tf_model'] at line 43: [loading model from /home/vimary/.deeppavlov/models/slotfill_dstc2/model]\n",
            "2018-11-28 17:03:25.356 INFO in 'tensorflow'['tf_logging'] at line 115: Restoring parameters from /home/vimary/.deeppavlov/models/slotfill_dstc2/model\n",
            "2018-11-28 17:03:25.375 INFO in 'deeppavlov.models.embedders.fasttext_embedder'['fasttext_embedder'] at line 52: [loading fastText embeddings from `/home/vimary/.deeppavlov/downloads/embeddings/wiki.en.bin`]\n",
            "2018-11-28 17:03:31.513 INFO in 'deeppavlov.models.go_bot.bot'['bot'] at line 108: [loading templates from /home/vimary/.deeppavlov/downloads/dstc2/dstc2-templates.txt]\n",
            "2018-11-28 17:03:31.514 INFO in 'deeppavlov.models.go_bot.bot'['bot'] at line 111: 46 templates loaded\n",
            "2018-11-28 17:03:31.514 INFO in 'deeppavlov.models.go_bot.bot'['bot'] at line 139: Calculated input size for `GoalOrientedBotNetwork` is 811\n",
            "2018-11-28 17:03:32.9 INFO in 'deeppavlov.models.go_bot.network'['network'] at line 123: [initializing `GoalOrientedBotNetwork` from scratch]\n",
            "2018-11-28 17:03:52.531 INFO in 'deeppavlov.core.commands.train'['train'] at line 363: New best per_item_dialog_accuracy of 0.0774\n",
            "2018-11-28 17:03:52.531 INFO in 'deeppavlov.core.commands.train'['train'] at line 365: Saving model\n",
            "2018-11-28 17:03:52.532 INFO in 'deeppavlov.core.models.tf_model'['tf_model'] at line 52: [saving model to /home/vimary/ipavlov/Pilot/examples/tutorials/models/my_gobot_ner/model]\n",
            "2018-11-28 17:03:52.789 INFO in 'deeppavlov.models.go_bot.network'['network'] at line 354: [saving parameters to /home/vimary/ipavlov/Pilot/examples/tutorials/models/my_gobot_ner/model.json]\n"
          ],
          "name": "stderr"
        },
        {
          "output_type": "stream",
          "text": [
            "{\"valid\": {\"eval_examples_count\": 575, \"metrics\": {\"per_item_dialog_accuracy\": 0.0774}, \"time_spent\": \"0:00:21\", \"epochs_done\": 0, \"batches_seen\": 0, \"train_examples_seen\": 0, \"impatience\": 0, \"patience_limit\": 10}}\n",
            "{\"train\": {\"epochs_done\": 0, \"batches_seen\": 15, \"examples_seen\": 60, \"metrics\": {\"per_item_dialog_accuracy\": 0.2409}, \"time_spent\": \"0:00:25\"}}\n"
          ],
          "name": "stdout"
        },
        {
          "output_type": "stream",
          "text": [
            "2018-11-28 17:04:16.681 INFO in 'deeppavlov.core.commands.train'['train'] at line 459: New best per_item_dialog_accuracy of 0.2897\n",
            "2018-11-28 17:04:16.681 INFO in 'deeppavlov.core.commands.train'['train'] at line 461: Saving model\n",
            "2018-11-28 17:04:16.682 INFO in 'deeppavlov.core.models.tf_model'['tf_model'] at line 52: [saving model to /home/vimary/ipavlov/Pilot/examples/tutorials/models/my_gobot_ner/model]\n",
            "2018-11-28 17:04:16.735 INFO in 'deeppavlov.models.go_bot.network'['network'] at line 354: [saving parameters to /home/vimary/ipavlov/Pilot/examples/tutorials/models/my_gobot_ner/model.json]\n"
          ],
          "name": "stderr"
        },
        {
          "output_type": "stream",
          "text": [
            "{\"valid\": {\"eval_examples_count\": 575, \"metrics\": {\"per_item_dialog_accuracy\": 0.2897}, \"time_spent\": \"0:00:45\", \"epochs_done\": 0, \"batches_seen\": 15, \"train_examples_seen\": 60, \"impatience\": 0, \"patience_limit\": 10}}\n",
            "{\"train\": {\"epochs_done\": 0, \"batches_seen\": 30, \"examples_seen\": 120, \"metrics\": {\"per_item_dialog_accuracy\": 0.345}, \"time_spent\": \"0:00:48\"}}\n"
          ],
          "name": "stdout"
        },
        {
          "output_type": "stream",
          "text": [
            "2018-11-28 17:04:40.310 INFO in 'deeppavlov.core.commands.train'['train'] at line 459: New best per_item_dialog_accuracy of 0.4177\n",
            "2018-11-28 17:04:40.311 INFO in 'deeppavlov.core.commands.train'['train'] at line 461: Saving model\n",
            "2018-11-28 17:04:40.311 INFO in 'deeppavlov.core.models.tf_model'['tf_model'] at line 52: [saving model to /home/vimary/ipavlov/Pilot/examples/tutorials/models/my_gobot_ner/model]\n",
            "2018-11-28 17:04:40.368 INFO in 'deeppavlov.models.go_bot.network'['network'] at line 354: [saving parameters to /home/vimary/ipavlov/Pilot/examples/tutorials/models/my_gobot_ner/model.json]\n"
          ],
          "name": "stderr"
        },
        {
          "output_type": "stream",
          "text": [
            "{\"valid\": {\"eval_examples_count\": 575, \"metrics\": {\"per_item_dialog_accuracy\": 0.4177}, \"time_spent\": \"0:01:09\", \"epochs_done\": 0, \"batches_seen\": 30, \"train_examples_seen\": 120, \"impatience\": 0, \"patience_limit\": 10}}\n",
            "{\"train\": {\"epochs_done\": 0, \"batches_seen\": 45, \"examples_seen\": 180, \"metrics\": {\"per_item_dialog_accuracy\": 0.4491}, \"time_spent\": \"0:01:12\"}}\n"
          ],
          "name": "stdout"
        },
        {
          "output_type": "stream",
          "text": [
            "2018-11-28 17:05:03.966 INFO in 'deeppavlov.core.commands.train'['train'] at line 466: Did not improve on the per_item_dialog_accuracy of 0.4177\n"
          ],
          "name": "stderr"
        },
        {
          "output_type": "stream",
          "text": [
            "{\"valid\": {\"eval_examples_count\": 575, \"metrics\": {\"per_item_dialog_accuracy\": 0.4117}, \"time_spent\": \"0:01:32\", \"epochs_done\": 0, \"batches_seen\": 45, \"train_examples_seen\": 180, \"impatience\": 1, \"patience_limit\": 10}}\n",
            "{\"train\": {\"epochs_done\": 0, \"batches_seen\": 60, \"examples_seen\": 240, \"metrics\": {\"per_item_dialog_accuracy\": 0.4834}, \"time_spent\": \"0:01:36\"}}\n"
          ],
          "name": "stdout"
        },
        {
          "output_type": "stream",
          "text": [
            "2018-11-28 17:05:27.457 INFO in 'deeppavlov.core.commands.train'['train'] at line 466: Did not improve on the per_item_dialog_accuracy of 0.4177\n"
          ],
          "name": "stderr"
        },
        {
          "output_type": "stream",
          "text": [
            "{\"valid\": {\"eval_examples_count\": 575, \"metrics\": {\"per_item_dialog_accuracy\": 0.412}, \"time_spent\": \"0:01:56\", \"epochs_done\": 0, \"batches_seen\": 60, \"train_examples_seen\": 240, \"impatience\": 2, \"patience_limit\": 10}}\n",
            "{\"train\": {\"epochs_done\": 0, \"batches_seen\": 75, \"examples_seen\": 300, \"metrics\": {\"per_item_dialog_accuracy\": 0.4887}, \"time_spent\": \"0:01:59\"}}\n"
          ],
          "name": "stdout"
        },
        {
          "output_type": "stream",
          "text": [
            "2018-11-28 17:05:50.988 INFO in 'deeppavlov.core.commands.train'['train'] at line 466: Did not improve on the per_item_dialog_accuracy of 0.4177\n"
          ],
          "name": "stderr"
        },
        {
          "output_type": "stream",
          "text": [
            "{\"valid\": {\"eval_examples_count\": 575, \"metrics\": {\"per_item_dialog_accuracy\": 0.4062}, \"time_spent\": \"0:02:19\", \"epochs_done\": 0, \"batches_seen\": 75, \"train_examples_seen\": 300, \"impatience\": 3, \"patience_limit\": 10}}\n",
            "{\"train\": {\"epochs_done\": 0, \"batches_seen\": 90, \"examples_seen\": 360, \"metrics\": {\"per_item_dialog_accuracy\": 0.5088}, \"time_spent\": \"0:02:23\"}}\n"
          ],
          "name": "stdout"
        },
        {
          "output_type": "stream",
          "text": [
            "2018-11-28 17:06:14.799 INFO in 'deeppavlov.core.commands.train'['train'] at line 459: New best per_item_dialog_accuracy of 0.4306\n",
            "2018-11-28 17:06:14.799 INFO in 'deeppavlov.core.commands.train'['train'] at line 461: Saving model\n",
            "2018-11-28 17:06:14.800 INFO in 'deeppavlov.core.models.tf_model'['tf_model'] at line 52: [saving model to /home/vimary/ipavlov/Pilot/examples/tutorials/models/my_gobot_ner/model]\n",
            "2018-11-28 17:06:14.854 INFO in 'deeppavlov.models.go_bot.network'['network'] at line 354: [saving parameters to /home/vimary/ipavlov/Pilot/examples/tutorials/models/my_gobot_ner/model.json]\n"
          ],
          "name": "stderr"
        },
        {
          "output_type": "stream",
          "text": [
            "{\"valid\": {\"eval_examples_count\": 575, \"metrics\": {\"per_item_dialog_accuracy\": 0.4306}, \"time_spent\": \"0:02:43\", \"epochs_done\": 0, \"batches_seen\": 90, \"train_examples_seen\": 360, \"impatience\": 0, \"patience_limit\": 10}}\n",
            "{\"train\": {\"epochs_done\": 0, \"batches_seen\": 105, \"examples_seen\": 420, \"metrics\": {\"per_item_dialog_accuracy\": 0.5043}, \"time_spent\": \"0:02:47\"}}\n"
          ],
          "name": "stdout"
        },
        {
          "output_type": "stream",
          "text": [
            "2018-11-28 17:06:39.205 INFO in 'deeppavlov.core.commands.train'['train'] at line 459: New best per_item_dialog_accuracy of 0.445\n",
            "2018-11-28 17:06:39.205 INFO in 'deeppavlov.core.commands.train'['train'] at line 461: Saving model\n",
            "2018-11-28 17:06:39.206 INFO in 'deeppavlov.core.models.tf_model'['tf_model'] at line 52: [saving model to /home/vimary/ipavlov/Pilot/examples/tutorials/models/my_gobot_ner/model]\n",
            "2018-11-28 17:06:39.274 INFO in 'deeppavlov.models.go_bot.network'['network'] at line 354: [saving parameters to /home/vimary/ipavlov/Pilot/examples/tutorials/models/my_gobot_ner/model.json]\n"
          ],
          "name": "stderr"
        },
        {
          "output_type": "stream",
          "text": [
            "{\"valid\": {\"eval_examples_count\": 575, \"metrics\": {\"per_item_dialog_accuracy\": 0.445}, \"time_spent\": \"0:03:08\", \"epochs_done\": 0, \"batches_seen\": 105, \"train_examples_seen\": 420, \"impatience\": 0, \"patience_limit\": 10}}\n",
            "{\"train\": {\"epochs_done\": 0, \"batches_seen\": 120, \"examples_seen\": 480, \"metrics\": {\"per_item_dialog_accuracy\": 0.5515}, \"time_spent\": \"0:03:12\"}}\n"
          ],
          "name": "stdout"
        },
        {
          "output_type": "stream",
          "text": [
            "2018-11-28 17:07:03.589 INFO in 'deeppavlov.core.commands.train'['train'] at line 466: Did not improve on the per_item_dialog_accuracy of 0.445\n"
          ],
          "name": "stderr"
        },
        {
          "output_type": "stream",
          "text": [
            "{\"valid\": {\"eval_examples_count\": 575, \"metrics\": {\"per_item_dialog_accuracy\": 0.4356}, \"time_spent\": \"0:03:32\", \"epochs_done\": 0, \"batches_seen\": 120, \"train_examples_seen\": 480, \"impatience\": 1, \"patience_limit\": 10}}\n",
            "{\"train\": {\"epochs_done\": 0, \"batches_seen\": 135, \"examples_seen\": 540, \"metrics\": {\"per_item_dialog_accuracy\": 0.5052}, \"time_spent\": \"0:03:35\"}}\n"
          ],
          "name": "stdout"
        },
        {
          "output_type": "stream",
          "text": [
            "2018-11-28 17:07:27.61 INFO in 'deeppavlov.core.commands.train'['train'] at line 459: New best per_item_dialog_accuracy of 0.458\n",
            "2018-11-28 17:07:27.61 INFO in 'deeppavlov.core.commands.train'['train'] at line 461: Saving model\n",
            "2018-11-28 17:07:27.62 INFO in 'deeppavlov.core.models.tf_model'['tf_model'] at line 52: [saving model to /home/vimary/ipavlov/Pilot/examples/tutorials/models/my_gobot_ner/model]\n",
            "2018-11-28 17:07:27.118 INFO in 'deeppavlov.models.go_bot.network'['network'] at line 354: [saving parameters to /home/vimary/ipavlov/Pilot/examples/tutorials/models/my_gobot_ner/model.json]\n"
          ],
          "name": "stderr"
        },
        {
          "output_type": "stream",
          "text": [
            "{\"valid\": {\"eval_examples_count\": 575, \"metrics\": {\"per_item_dialog_accuracy\": 0.458}, \"time_spent\": \"0:03:56\", \"epochs_done\": 0, \"batches_seen\": 135, \"train_examples_seen\": 540, \"impatience\": 0, \"patience_limit\": 10}}\n",
            "{\"train\": {\"epochs_done\": 0, \"batches_seen\": 150, \"examples_seen\": 600, \"metrics\": {\"per_item_dialog_accuracy\": 0.582}, \"time_spent\": \"0:03:59\"}}\n"
          ],
          "name": "stdout"
        },
        {
          "output_type": "stream",
          "text": [
            "2018-11-28 17:07:50.602 INFO in 'deeppavlov.core.commands.train'['train'] at line 459: New best per_item_dialog_accuracy of 0.4791\n",
            "2018-11-28 17:07:50.602 INFO in 'deeppavlov.core.commands.train'['train'] at line 461: Saving model\n",
            "2018-11-28 17:07:50.603 INFO in 'deeppavlov.core.models.tf_model'['tf_model'] at line 52: [saving model to /home/vimary/ipavlov/Pilot/examples/tutorials/models/my_gobot_ner/model]\n",
            "2018-11-28 17:07:50.660 INFO in 'deeppavlov.models.go_bot.network'['network'] at line 354: [saving parameters to /home/vimary/ipavlov/Pilot/examples/tutorials/models/my_gobot_ner/model.json]\n"
          ],
          "name": "stderr"
        },
        {
          "output_type": "stream",
          "text": [
            "{\"valid\": {\"eval_examples_count\": 575, \"metrics\": {\"per_item_dialog_accuracy\": 0.4791}, \"time_spent\": \"0:04:19\", \"epochs_done\": 0, \"batches_seen\": 150, \"train_examples_seen\": 600, \"impatience\": 0, \"patience_limit\": 10}}\n",
            "{\"train\": {\"epochs_done\": 0, \"batches_seen\": 165, \"examples_seen\": 660, \"metrics\": {\"per_item_dialog_accuracy\": 0.5674}, \"time_spent\": \"0:04:22\"}}\n"
          ],
          "name": "stdout"
        },
        {
          "output_type": "stream",
          "text": [
            "2018-11-28 17:08:14.152 INFO in 'deeppavlov.core.commands.train'['train'] at line 466: Did not improve on the per_item_dialog_accuracy of 0.4791\n"
          ],
          "name": "stderr"
        },
        {
          "output_type": "stream",
          "text": [
            "{\"valid\": {\"eval_examples_count\": 575, \"metrics\": {\"per_item_dialog_accuracy\": 0.4683}, \"time_spent\": \"0:04:43\", \"epochs_done\": 0, \"batches_seen\": 165, \"train_examples_seen\": 660, \"impatience\": 1, \"patience_limit\": 10}}\n",
            "{\"train\": {\"epochs_done\": 0, \"batches_seen\": 180, \"examples_seen\": 720, \"metrics\": {\"per_item_dialog_accuracy\": 0.5817}, \"time_spent\": \"0:04:46\"}}\n"
          ],
          "name": "stdout"
        },
        {
          "output_type": "stream",
          "text": [
            "2018-11-28 17:08:37.739 INFO in 'deeppavlov.core.commands.train'['train'] at line 466: Did not improve on the per_item_dialog_accuracy of 0.4791\n"
          ],
          "name": "stderr"
        },
        {
          "output_type": "stream",
          "text": [
            "{\"valid\": {\"eval_examples_count\": 575, \"metrics\": {\"per_item_dialog_accuracy\": 0.4351}, \"time_spent\": \"0:05:06\", \"epochs_done\": 0, \"batches_seen\": 180, \"train_examples_seen\": 720, \"impatience\": 2, \"patience_limit\": 10}}\n",
            "{\"train\": {\"epochs_done\": 0, \"batches_seen\": 195, \"examples_seen\": 780, \"metrics\": {\"per_item_dialog_accuracy\": 0.6042}, \"time_spent\": \"0:05:09\"}}\n"
          ],
          "name": "stdout"
        },
        {
          "output_type": "stream",
          "text": [
            "2018-11-28 17:09:02.88 INFO in 'deeppavlov.core.commands.train'['train'] at line 466: Did not improve on the per_item_dialog_accuracy of 0.4791\n"
          ],
          "name": "stderr"
        },
        {
          "output_type": "stream",
          "text": [
            "{\"valid\": {\"eval_examples_count\": 575, \"metrics\": {\"per_item_dialog_accuracy\": 0.454}, \"time_spent\": \"0:05:31\", \"epochs_done\": 0, \"batches_seen\": 195, \"train_examples_seen\": 780, \"impatience\": 3, \"patience_limit\": 10}}\n",
            "{\"train\": {\"epochs_done\": 0, \"batches_seen\": 210, \"examples_seen\": 840, \"metrics\": {\"per_item_dialog_accuracy\": 0.5367}, \"time_spent\": \"0:05:34\"}}\n"
          ],
          "name": "stdout"
        },
        {
          "output_type": "stream",
          "text": [
            "2018-11-28 17:09:27.873 INFO in 'deeppavlov.core.commands.train'['train'] at line 459: New best per_item_dialog_accuracy of 0.4871\n",
            "2018-11-28 17:09:27.873 INFO in 'deeppavlov.core.commands.train'['train'] at line 461: Saving model\n",
            "2018-11-28 17:09:27.874 INFO in 'deeppavlov.core.models.tf_model'['tf_model'] at line 52: [saving model to /home/vimary/ipavlov/Pilot/examples/tutorials/models/my_gobot_ner/model]\n",
            "2018-11-28 17:09:27.946 INFO in 'deeppavlov.models.go_bot.network'['network'] at line 354: [saving parameters to /home/vimary/ipavlov/Pilot/examples/tutorials/models/my_gobot_ner/model.json]\n"
          ],
          "name": "stderr"
        },
        {
          "output_type": "stream",
          "text": [
            "{\"valid\": {\"eval_examples_count\": 575, \"metrics\": {\"per_item_dialog_accuracy\": 0.4871}, \"time_spent\": \"0:05:56\", \"epochs_done\": 0, \"batches_seen\": 210, \"train_examples_seen\": 840, \"impatience\": 0, \"patience_limit\": 10}}\n",
            "{\"train\": {\"epochs_done\": 0, \"batches_seen\": 225, \"examples_seen\": 900, \"metrics\": {\"per_item_dialog_accuracy\": 0.5542}, \"time_spent\": \"0:06:01\"}}\n"
          ],
          "name": "stdout"
        },
        {
          "output_type": "stream",
          "text": [
            "2018-11-28 17:09:53.728 INFO in 'deeppavlov.core.commands.train'['train'] at line 466: Did not improve on the per_item_dialog_accuracy of 0.4871\n"
          ],
          "name": "stderr"
        },
        {
          "output_type": "stream",
          "text": [
            "{\"valid\": {\"eval_examples_count\": 575, \"metrics\": {\"per_item_dialog_accuracy\": 0.4694}, \"time_spent\": \"0:06:22\", \"epochs_done\": 0, \"batches_seen\": 225, \"train_examples_seen\": 900, \"impatience\": 1, \"patience_limit\": 10}}\n",
            "{\"train\": {\"epochs_done\": 0, \"batches_seen\": 240, \"examples_seen\": 960, \"metrics\": {\"per_item_dialog_accuracy\": 0.541}, \"time_spent\": \"0:06:25\"}}\n"
          ],
          "name": "stdout"
        },
        {
          "output_type": "stream",
          "text": [
            "2018-11-28 17:10:17.750 INFO in 'deeppavlov.core.commands.train'['train'] at line 459: New best per_item_dialog_accuracy of 0.4935\n",
            "2018-11-28 17:10:17.750 INFO in 'deeppavlov.core.commands.train'['train'] at line 461: Saving model\n",
            "2018-11-28 17:10:17.751 INFO in 'deeppavlov.core.models.tf_model'['tf_model'] at line 52: [saving model to /home/vimary/ipavlov/Pilot/examples/tutorials/models/my_gobot_ner/model]\n",
            "2018-11-28 17:10:17.809 INFO in 'deeppavlov.models.go_bot.network'['network'] at line 354: [saving parameters to /home/vimary/ipavlov/Pilot/examples/tutorials/models/my_gobot_ner/model.json]\n"
          ],
          "name": "stderr"
        },
        {
          "output_type": "stream",
          "text": [
            "{\"valid\": {\"eval_examples_count\": 575, \"metrics\": {\"per_item_dialog_accuracy\": 0.4935}, \"time_spent\": \"0:06:46\", \"epochs_done\": 0, \"batches_seen\": 240, \"train_examples_seen\": 960, \"impatience\": 0, \"patience_limit\": 10}}\n"
          ],
          "name": "stdout"
        },
        {
          "output_type": "stream",
          "text": [
            "2018-11-28 17:10:18.187 INFO in 'deeppavlov.models.go_bot.network'['network'] at line 372: Updating global step, learning rate = 0.005000.\n"
          ],
          "name": "stderr"
        },
        {
          "output_type": "stream",
          "text": [
            "{\"train\": {\"epochs_done\": 1, \"batches_seen\": 255, \"examples_seen\": 1019, \"metrics\": {\"per_item_dialog_accuracy\": 0.5691}, \"time_spent\": \"0:06:50\"}}\n"
          ],
          "name": "stdout"
        },
        {
          "output_type": "stream",
          "text": [
            "2018-11-28 17:10:42.547 INFO in 'deeppavlov.core.commands.train'['train'] at line 459: New best per_item_dialog_accuracy of 0.5036\n",
            "2018-11-28 17:10:42.548 INFO in 'deeppavlov.core.commands.train'['train'] at line 461: Saving model\n",
            "2018-11-28 17:10:42.548 INFO in 'deeppavlov.core.models.tf_model'['tf_model'] at line 52: [saving model to /home/vimary/ipavlov/Pilot/examples/tutorials/models/my_gobot_ner/model]\n",
            "2018-11-28 17:10:42.607 INFO in 'deeppavlov.models.go_bot.network'['network'] at line 354: [saving parameters to /home/vimary/ipavlov/Pilot/examples/tutorials/models/my_gobot_ner/model.json]\n"
          ],
          "name": "stderr"
        },
        {
          "output_type": "stream",
          "text": [
            "{\"valid\": {\"eval_examples_count\": 575, \"metrics\": {\"per_item_dialog_accuracy\": 0.5036}, \"time_spent\": \"0:07:11\", \"epochs_done\": 1, \"batches_seen\": 255, \"train_examples_seen\": 1019, \"impatience\": 0, \"patience_limit\": 10}}\n",
            "{\"train\": {\"epochs_done\": 1, \"batches_seen\": 270, \"examples_seen\": 1079, \"metrics\": {\"per_item_dialog_accuracy\": 0.5437}, \"time_spent\": \"0:07:14\"}}\n"
          ],
          "name": "stdout"
        },
        {
          "output_type": "stream",
          "text": [
            "2018-11-28 17:11:08.622 INFO in 'deeppavlov.core.commands.train'['train'] at line 466: Did not improve on the per_item_dialog_accuracy of 0.5036\n"
          ],
          "name": "stderr"
        },
        {
          "output_type": "stream",
          "text": [
            "{\"valid\": {\"eval_examples_count\": 575, \"metrics\": {\"per_item_dialog_accuracy\": 0.4877}, \"time_spent\": \"0:07:37\", \"epochs_done\": 1, \"batches_seen\": 270, \"train_examples_seen\": 1079, \"impatience\": 1, \"patience_limit\": 10}}\n",
            "{\"train\": {\"epochs_done\": 1, \"batches_seen\": 285, \"examples_seen\": 1139, \"metrics\": {\"per_item_dialog_accuracy\": 0.6047}, \"time_spent\": \"0:07:40\"}}\n"
          ],
          "name": "stdout"
        },
        {
          "output_type": "stream",
          "text": [
            "2018-11-28 17:11:34.259 INFO in 'deeppavlov.core.commands.train'['train'] at line 466: Did not improve on the per_item_dialog_accuracy of 0.5036\n"
          ],
          "name": "stderr"
        },
        {
          "output_type": "stream",
          "text": [
            "{\"valid\": {\"eval_examples_count\": 575, \"metrics\": {\"per_item_dialog_accuracy\": 0.4665}, \"time_spent\": \"0:08:03\", \"epochs_done\": 1, \"batches_seen\": 285, \"train_examples_seen\": 1139, \"impatience\": 2, \"patience_limit\": 10}}\n",
            "{\"train\": {\"epochs_done\": 1, \"batches_seen\": 300, \"examples_seen\": 1199, \"metrics\": {\"per_item_dialog_accuracy\": 0.5776}, \"time_spent\": \"0:08:06\"}}\n"
          ],
          "name": "stdout"
        },
        {
          "output_type": "stream",
          "text": [
            "2018-11-28 17:11:58.902 INFO in 'deeppavlov.core.commands.train'['train'] at line 466: Did not improve on the per_item_dialog_accuracy of 0.5036\n"
          ],
          "name": "stderr"
        },
        {
          "output_type": "stream",
          "text": [
            "{\"valid\": {\"eval_examples_count\": 575, \"metrics\": {\"per_item_dialog_accuracy\": 0.4707}, \"time_spent\": \"0:08:27\", \"epochs_done\": 1, \"batches_seen\": 300, \"train_examples_seen\": 1199, \"impatience\": 3, \"patience_limit\": 10}}\n",
            "{\"train\": {\"epochs_done\": 1, \"batches_seen\": 315, \"examples_seen\": 1259, \"metrics\": {\"per_item_dialog_accuracy\": 0.5617}, \"time_spent\": \"0:08:31\"}}\n"
          ],
          "name": "stdout"
        },
        {
          "output_type": "stream",
          "text": [
            "2018-11-28 17:12:23.437 INFO in 'deeppavlov.core.commands.train'['train'] at line 466: Did not improve on the per_item_dialog_accuracy of 0.5036\n"
          ],
          "name": "stderr"
        },
        {
          "output_type": "stream",
          "text": [
            "{\"valid\": {\"eval_examples_count\": 575, \"metrics\": {\"per_item_dialog_accuracy\": 0.4778}, \"time_spent\": \"0:08:52\", \"epochs_done\": 1, \"batches_seen\": 315, \"train_examples_seen\": 1259, \"impatience\": 4, \"patience_limit\": 10}}\n",
            "{\"train\": {\"epochs_done\": 1, \"batches_seen\": 330, \"examples_seen\": 1319, \"metrics\": {\"per_item_dialog_accuracy\": 0.5472}, \"time_spent\": \"0:08:56\"}}\n"
          ],
          "name": "stdout"
        },
        {
          "output_type": "stream",
          "text": [
            "2018-11-28 17:12:48.641 INFO in 'deeppavlov.core.commands.train'['train'] at line 466: Did not improve on the per_item_dialog_accuracy of 0.5036\n"
          ],
          "name": "stderr"
        },
        {
          "output_type": "stream",
          "text": [
            "{\"valid\": {\"eval_examples_count\": 575, \"metrics\": {\"per_item_dialog_accuracy\": 0.4856}, \"time_spent\": \"0:09:17\", \"epochs_done\": 1, \"batches_seen\": 330, \"train_examples_seen\": 1319, \"impatience\": 5, \"patience_limit\": 10}}\n",
            "{\"train\": {\"epochs_done\": 1, \"batches_seen\": 345, \"examples_seen\": 1379, \"metrics\": {\"per_item_dialog_accuracy\": 0.5719}, \"time_spent\": \"0:09:21\"}}\n"
          ],
          "name": "stdout"
        },
        {
          "output_type": "stream",
          "text": [
            "2018-11-28 17:13:13.619 INFO in 'deeppavlov.core.commands.train'['train'] at line 466: Did not improve on the per_item_dialog_accuracy of 0.5036\n"
          ],
          "name": "stderr"
        },
        {
          "output_type": "stream",
          "text": [
            "{\"valid\": {\"eval_examples_count\": 575, \"metrics\": {\"per_item_dialog_accuracy\": 0.4635}, \"time_spent\": \"0:09:42\", \"epochs_done\": 1, \"batches_seen\": 345, \"train_examples_seen\": 1379, \"impatience\": 6, \"patience_limit\": 10}}\n",
            "{\"train\": {\"epochs_done\": 1, \"batches_seen\": 360, \"examples_seen\": 1439, \"metrics\": {\"per_item_dialog_accuracy\": 0.5531}, \"time_spent\": \"0:09:46\"}}\n"
          ],
          "name": "stdout"
        },
        {
          "output_type": "stream",
          "text": [
            "2018-11-28 17:13:37.675 INFO in 'deeppavlov.core.commands.train'['train'] at line 466: Did not improve on the per_item_dialog_accuracy of 0.5036\n"
          ],
          "name": "stderr"
        },
        {
          "output_type": "stream",
          "text": [
            "{\"valid\": {\"eval_examples_count\": 575, \"metrics\": {\"per_item_dialog_accuracy\": 0.4908}, \"time_spent\": \"0:10:06\", \"epochs_done\": 1, \"batches_seen\": 360, \"train_examples_seen\": 1439, \"impatience\": 7, \"patience_limit\": 10}}\n",
            "{\"train\": {\"epochs_done\": 1, \"batches_seen\": 375, \"examples_seen\": 1499, \"metrics\": {\"per_item_dialog_accuracy\": 0.6151}, \"time_spent\": \"0:10:10\"}}\n"
          ],
          "name": "stdout"
        },
        {
          "output_type": "stream",
          "text": [
            "2018-11-28 17:14:01.872 INFO in 'deeppavlov.core.commands.train'['train'] at line 459: New best per_item_dialog_accuracy of 0.5063\n",
            "2018-11-28 17:14:01.873 INFO in 'deeppavlov.core.commands.train'['train'] at line 461: Saving model\n",
            "2018-11-28 17:14:01.873 INFO in 'deeppavlov.core.models.tf_model'['tf_model'] at line 52: [saving model to /home/vimary/ipavlov/Pilot/examples/tutorials/models/my_gobot_ner/model]\n",
            "2018-11-28 17:14:01.935 INFO in 'deeppavlov.models.go_bot.network'['network'] at line 354: [saving parameters to /home/vimary/ipavlov/Pilot/examples/tutorials/models/my_gobot_ner/model.json]\n"
          ],
          "name": "stderr"
        },
        {
          "output_type": "stream",
          "text": [
            "{\"valid\": {\"eval_examples_count\": 575, \"metrics\": {\"per_item_dialog_accuracy\": 0.5063}, \"time_spent\": \"0:10:30\", \"epochs_done\": 1, \"batches_seen\": 375, \"train_examples_seen\": 1499, \"impatience\": 0, \"patience_limit\": 10}}\n",
            "{\"train\": {\"epochs_done\": 1, \"batches_seen\": 390, \"examples_seen\": 1559, \"metrics\": {\"per_item_dialog_accuracy\": 0.5935}, \"time_spent\": \"0:10:34\"}}\n"
          ],
          "name": "stdout"
        },
        {
          "output_type": "stream",
          "text": [
            "2018-11-28 17:14:26.579 INFO in 'deeppavlov.core.commands.train'['train'] at line 466: Did not improve on the per_item_dialog_accuracy of 0.5063\n"
          ],
          "name": "stderr"
        },
        {
          "output_type": "stream",
          "text": [
            "{\"valid\": {\"eval_examples_count\": 575, \"metrics\": {\"per_item_dialog_accuracy\": 0.502}, \"time_spent\": \"0:10:55\", \"epochs_done\": 1, \"batches_seen\": 390, \"train_examples_seen\": 1559, \"impatience\": 1, \"patience_limit\": 10}}\n",
            "{\"train\": {\"epochs_done\": 1, \"batches_seen\": 405, \"examples_seen\": 1619, \"metrics\": {\"per_item_dialog_accuracy\": 0.6224}, \"time_spent\": \"0:10:58\"}}\n"
          ],
          "name": "stdout"
        },
        {
          "output_type": "stream",
          "text": [
            "2018-11-28 17:14:51.186 INFO in 'deeppavlov.core.commands.train'['train'] at line 459: New best per_item_dialog_accuracy of 0.5163\n",
            "2018-11-28 17:14:51.186 INFO in 'deeppavlov.core.commands.train'['train'] at line 461: Saving model\n",
            "2018-11-28 17:14:51.187 INFO in 'deeppavlov.core.models.tf_model'['tf_model'] at line 52: [saving model to /home/vimary/ipavlov/Pilot/examples/tutorials/models/my_gobot_ner/model]\n",
            "2018-11-28 17:14:51.249 INFO in 'deeppavlov.models.go_bot.network'['network'] at line 354: [saving parameters to /home/vimary/ipavlov/Pilot/examples/tutorials/models/my_gobot_ner/model.json]\n"
          ],
          "name": "stderr"
        },
        {
          "output_type": "stream",
          "text": [
            "{\"valid\": {\"eval_examples_count\": 575, \"metrics\": {\"per_item_dialog_accuracy\": 0.5163}, \"time_spent\": \"0:11:20\", \"epochs_done\": 1, \"batches_seen\": 405, \"train_examples_seen\": 1619, \"impatience\": 0, \"patience_limit\": 10}}\n",
            "{\"train\": {\"epochs_done\": 1, \"batches_seen\": 420, \"examples_seen\": 1679, \"metrics\": {\"per_item_dialog_accuracy\": 0.5965}, \"time_spent\": \"0:11:23\"}}\n"
          ],
          "name": "stdout"
        },
        {
          "output_type": "stream",
          "text": [
            "2018-11-28 17:15:14.860 INFO in 'deeppavlov.core.commands.train'['train'] at line 466: Did not improve on the per_item_dialog_accuracy of 0.5163\n"
          ],
          "name": "stderr"
        },
        {
          "output_type": "stream",
          "text": [
            "{\"valid\": {\"eval_examples_count\": 575, \"metrics\": {\"per_item_dialog_accuracy\": 0.4916}, \"time_spent\": \"0:11:43\", \"epochs_done\": 1, \"batches_seen\": 420, \"train_examples_seen\": 1679, \"impatience\": 1, \"patience_limit\": 10}}\n",
            "{\"train\": {\"epochs_done\": 1, \"batches_seen\": 435, \"examples_seen\": 1739, \"metrics\": {\"per_item_dialog_accuracy\": 0.6443}, \"time_spent\": \"0:11:46\"}}\n"
          ],
          "name": "stdout"
        },
        {
          "output_type": "stream",
          "text": [
            "2018-11-28 17:15:38.106 INFO in 'deeppavlov.core.commands.train'['train'] at line 466: Did not improve on the per_item_dialog_accuracy of 0.5163\n"
          ],
          "name": "stderr"
        },
        {
          "output_type": "stream",
          "text": [
            "{\"valid\": {\"eval_examples_count\": 575, \"metrics\": {\"per_item_dialog_accuracy\": 0.4844}, \"time_spent\": \"0:12:07\", \"epochs_done\": 1, \"batches_seen\": 435, \"train_examples_seen\": 1739, \"impatience\": 2, \"patience_limit\": 10}}\n",
            "{\"train\": {\"epochs_done\": 1, \"batches_seen\": 450, \"examples_seen\": 1799, \"metrics\": {\"per_item_dialog_accuracy\": 0.5689}, \"time_spent\": \"0:12:10\"}}\n"
          ],
          "name": "stdout"
        },
        {
          "output_type": "stream",
          "text": [
            "2018-11-28 17:16:05.631 INFO in 'deeppavlov.core.commands.train'['train'] at line 466: Did not improve on the per_item_dialog_accuracy of 0.5163\n"
          ],
          "name": "stderr"
        },
        {
          "output_type": "stream",
          "text": [
            "{\"valid\": {\"eval_examples_count\": 575, \"metrics\": {\"per_item_dialog_accuracy\": 0.484}, \"time_spent\": \"0:12:34\", \"epochs_done\": 1, \"batches_seen\": 450, \"train_examples_seen\": 1799, \"impatience\": 3, \"patience_limit\": 10}}\n",
            "{\"train\": {\"epochs_done\": 1, \"batches_seen\": 465, \"examples_seen\": 1859, \"metrics\": {\"per_item_dialog_accuracy\": 0.557}, \"time_spent\": \"0:12:38\"}}\n"
          ],
          "name": "stdout"
        },
        {
          "output_type": "stream",
          "text": [
            "2018-11-28 17:16:31.433 INFO in 'deeppavlov.core.commands.train'['train'] at line 466: Did not improve on the per_item_dialog_accuracy of 0.5163\n"
          ],
          "name": "stderr"
        },
        {
          "output_type": "stream",
          "text": [
            "{\"valid\": {\"eval_examples_count\": 575, \"metrics\": {\"per_item_dialog_accuracy\": 0.4929}, \"time_spent\": \"0:13:00\", \"epochs_done\": 1, \"batches_seen\": 465, \"train_examples_seen\": 1859, \"impatience\": 4, \"patience_limit\": 10}}\n",
            "{\"train\": {\"epochs_done\": 1, \"batches_seen\": 480, \"examples_seen\": 1919, \"metrics\": {\"per_item_dialog_accuracy\": 0.5608}, \"time_spent\": \"0:13:03\"}}\n"
          ],
          "name": "stdout"
        },
        {
          "output_type": "stream",
          "text": [
            "2018-11-28 17:16:56.225 INFO in 'deeppavlov.core.commands.train'['train'] at line 466: Did not improve on the per_item_dialog_accuracy of 0.5163\n"
          ],
          "name": "stderr"
        },
        {
          "output_type": "stream",
          "text": [
            "{\"valid\": {\"eval_examples_count\": 575, \"metrics\": {\"per_item_dialog_accuracy\": 0.4858}, \"time_spent\": \"0:13:25\", \"epochs_done\": 1, \"batches_seen\": 480, \"train_examples_seen\": 1919, \"impatience\": 5, \"patience_limit\": 10}}\n"
          ],
          "name": "stdout"
        },
        {
          "output_type": "stream",
          "text": [
            "2018-11-28 17:16:57.105 INFO in 'deeppavlov.models.go_bot.network'['network'] at line 372: Updating global step, learning rate = 0.005000.\n"
          ],
          "name": "stderr"
        },
        {
          "output_type": "stream",
          "text": [
            "{\"train\": {\"epochs_done\": 2, \"batches_seen\": 495, \"examples_seen\": 1978, \"metrics\": {\"per_item_dialog_accuracy\": 0.5916}, \"time_spent\": \"0:13:29\"}}\n"
          ],
          "name": "stdout"
        },
        {
          "output_type": "stream",
          "text": [
            "2018-11-28 17:17:23.387 INFO in 'deeppavlov.core.commands.train'['train'] at line 466: Did not improve on the per_item_dialog_accuracy of 0.5163\n"
          ],
          "name": "stderr"
        },
        {
          "output_type": "stream",
          "text": [
            "{\"valid\": {\"eval_examples_count\": 575, \"metrics\": {\"per_item_dialog_accuracy\": 0.506}, \"time_spent\": \"0:13:52\", \"epochs_done\": 2, \"batches_seen\": 495, \"train_examples_seen\": 1978, \"impatience\": 6, \"patience_limit\": 10}}\n",
            "{\"train\": {\"epochs_done\": 2, \"batches_seen\": 510, \"examples_seen\": 2038, \"metrics\": {\"per_item_dialog_accuracy\": 0.5792}, \"time_spent\": \"0:13:56\"}}\n"
          ],
          "name": "stdout"
        },
        {
          "output_type": "stream",
          "text": [
            "2018-11-28 17:17:48.19 INFO in 'deeppavlov.core.commands.train'['train'] at line 466: Did not improve on the per_item_dialog_accuracy of 0.5163\n"
          ],
          "name": "stderr"
        },
        {
          "output_type": "stream",
          "text": [
            "{\"valid\": {\"eval_examples_count\": 575, \"metrics\": {\"per_item_dialog_accuracy\": 0.4945}, \"time_spent\": \"0:14:17\", \"epochs_done\": 2, \"batches_seen\": 510, \"train_examples_seen\": 2038, \"impatience\": 7, \"patience_limit\": 10}}\n",
            "{\"train\": {\"epochs_done\": 2, \"batches_seen\": 525, \"examples_seen\": 2098, \"metrics\": {\"per_item_dialog_accuracy\": 0.5847}, \"time_spent\": \"0:14:20\"}}\n"
          ],
          "name": "stdout"
        },
        {
          "output_type": "stream",
          "text": [
            "2018-11-28 17:18:13.636 INFO in 'deeppavlov.core.commands.train'['train'] at line 466: Did not improve on the per_item_dialog_accuracy of 0.5163\n"
          ],
          "name": "stderr"
        },
        {
          "output_type": "stream",
          "text": [
            "{\"valid\": {\"eval_examples_count\": 575, \"metrics\": {\"per_item_dialog_accuracy\": 0.4823}, \"time_spent\": \"0:14:42\", \"epochs_done\": 2, \"batches_seen\": 525, \"train_examples_seen\": 2098, \"impatience\": 8, \"patience_limit\": 10}}\n",
            "{\"train\": {\"epochs_done\": 2, \"batches_seen\": 540, \"examples_seen\": 2158, \"metrics\": {\"per_item_dialog_accuracy\": 0.536}, \"time_spent\": \"0:14:45\"}}\n"
          ],
          "name": "stdout"
        },
        {
          "output_type": "stream",
          "text": [
            "2018-11-28 17:18:37.900 INFO in 'deeppavlov.core.commands.train'['train'] at line 466: Did not improve on the per_item_dialog_accuracy of 0.5163\n"
          ],
          "name": "stderr"
        },
        {
          "output_type": "stream",
          "text": [
            "{\"valid\": {\"eval_examples_count\": 575, \"metrics\": {\"per_item_dialog_accuracy\": 0.4755}, \"time_spent\": \"0:15:06\", \"epochs_done\": 2, \"batches_seen\": 540, \"train_examples_seen\": 2158, \"impatience\": 9, \"patience_limit\": 10}}\n",
            "{\"train\": {\"epochs_done\": 2, \"batches_seen\": 555, \"examples_seen\": 2218, \"metrics\": {\"per_item_dialog_accuracy\": 0.581}, \"time_spent\": \"0:15:10\"}}\n"
          ],
          "name": "stdout"
        },
        {
          "output_type": "stream",
          "text": [
            "2018-11-28 17:19:02.217 INFO in 'deeppavlov.core.commands.train'['train'] at line 466: Did not improve on the per_item_dialog_accuracy of 0.5163\n",
            "2018-11-28 17:19:02.217 INFO in 'deeppavlov.core.commands.train'['train'] at line 477: Ran out of patience\n",
            "2018-11-28 17:19:02.218 INFO in 'deeppavlov.core.data.simple_vocab'['simple_vocab'] at line 100: [loading vocabulary from /home/vimary/ipavlov/Pilot/examples/tutorials/models/my_gobot_ner/token.dict]\n",
            "2018-11-28 17:19:02.221 INFO in 'deeppavlov.core.data.simple_vocab'['simple_vocab'] at line 100: [loading vocabulary from /home/vimary/.deeppavlov/models/slotfill_dstc2/word.dict]\n",
            "2018-11-28 17:19:02.224 INFO in 'deeppavlov.core.data.simple_vocab'['simple_vocab'] at line 100: [loading vocabulary from /home/vimary/.deeppavlov/models/slotfill_dstc2/tag.dict]\n"
          ],
          "name": "stderr"
        },
        {
          "output_type": "stream",
          "text": [
            "{\"valid\": {\"eval_examples_count\": 575, \"metrics\": {\"per_item_dialog_accuracy\": 0.489}, \"time_spent\": \"0:15:31\", \"epochs_done\": 2, \"batches_seen\": 555, \"train_examples_seen\": 2218, \"impatience\": 10, \"patience_limit\": 10}}\n"
          ],
          "name": "stdout"
        },
        {
          "output_type": "stream",
          "text": [
            "2018-11-28 17:19:02.713 INFO in 'deeppavlov.core.models.tf_model'['tf_model'] at line 43: [loading model from /home/vimary/.deeppavlov/models/slotfill_dstc2/model]\n",
            "2018-11-28 17:19:02.726 INFO in 'tensorflow'['tf_logging'] at line 115: Restoring parameters from /home/vimary/.deeppavlov/models/slotfill_dstc2/model\n",
            "2018-11-28 17:19:02.741 INFO in 'deeppavlov.models.embedders.fasttext_embedder'['fasttext_embedder'] at line 52: [loading fastText embeddings from `/home/vimary/.deeppavlov/downloads/embeddings/wiki.en.bin`]\n",
            "2018-11-28 17:19:08.890 INFO in 'deeppavlov.models.go_bot.bot'['bot'] at line 108: [loading templates from /home/vimary/.deeppavlov/downloads/dstc2/dstc2-templates.txt]\n",
            "2018-11-28 17:19:08.890 INFO in 'deeppavlov.models.go_bot.bot'['bot'] at line 111: 46 templates loaded\n",
            "2018-11-28 17:19:08.891 INFO in 'deeppavlov.models.go_bot.bot'['bot'] at line 139: Calculated input size for `GoalOrientedBotNetwork` is 811\n",
            "2018-11-28 17:19:09.358 INFO in 'deeppavlov.models.go_bot.network'['network'] at line 120: [initializing `GoalOrientedBotNetwork` from saved]\n",
            "2018-11-28 17:19:09.359 INFO in 'deeppavlov.models.go_bot.network'['network'] at line 360: [loading parameters from /home/vimary/ipavlov/Pilot/examples/tutorials/models/my_gobot_ner/model.json]\n",
            "2018-11-28 17:19:09.360 INFO in 'deeppavlov.core.models.tf_model'['tf_model'] at line 43: [loading model from /home/vimary/ipavlov/Pilot/examples/tutorials/models/my_gobot_ner/model]\n",
            "2018-11-28 17:19:09.368 INFO in 'tensorflow'['tf_logging'] at line 115: Restoring parameters from /home/vimary/ipavlov/Pilot/examples/tutorials/models/my_gobot_ner/model\n",
            "2018-11-28 17:19:09.717 INFO in 'deeppavlov.core.commands.train'['train'] at line 217: Testing the best saved model\n"
          ],
          "name": "stderr"
        },
        {
          "output_type": "stream",
          "text": [
            "{\"valid\": {\"eval_examples_count\": 575, \"metrics\": {\"per_item_dialog_accuracy\": 0.5163}, \"time_spent\": \"0:00:23\"}}\n"
          ],
          "name": "stdout"
        },
        {
          "output_type": "stream",
          "text": [
            "2018-11-28 17:19:55.20 INFO in 'deeppavlov.core.data.simple_vocab'['simple_vocab'] at line 100: [loading vocabulary from /home/vimary/ipavlov/Pilot/examples/tutorials/models/my_gobot_ner/token.dict]\n",
            "2018-11-28 17:19:55.25 INFO in 'deeppavlov.core.data.simple_vocab'['simple_vocab'] at line 100: [loading vocabulary from /home/vimary/.deeppavlov/models/slotfill_dstc2/word.dict]\n",
            "2018-11-28 17:19:55.29 INFO in 'deeppavlov.core.data.simple_vocab'['simple_vocab'] at line 100: [loading vocabulary from /home/vimary/.deeppavlov/models/slotfill_dstc2/tag.dict]\n"
          ],
          "name": "stderr"
        },
        {
          "output_type": "stream",
          "text": [
            "{\"test\": {\"eval_examples_count\": 576, \"metrics\": {\"per_item_dialog_accuracy\": 0.5169}, \"time_spent\": \"0:00:23\"}}\n"
          ],
          "name": "stdout"
        },
        {
          "output_type": "stream",
          "text": [
            "2018-11-28 17:19:55.848 INFO in 'deeppavlov.core.models.tf_model'['tf_model'] at line 43: [loading model from /home/vimary/.deeppavlov/models/slotfill_dstc2/model]\n",
            "2018-11-28 17:19:55.861 INFO in 'tensorflow'['tf_logging'] at line 115: Restoring parameters from /home/vimary/.deeppavlov/models/slotfill_dstc2/model\n",
            "2018-11-28 17:19:55.882 INFO in 'deeppavlov.models.embedders.fasttext_embedder'['fasttext_embedder'] at line 52: [loading fastText embeddings from `/home/vimary/.deeppavlov/downloads/embeddings/wiki.en.bin`]\n",
            "2018-11-28 17:20:16.731 INFO in 'deeppavlov.models.go_bot.bot'['bot'] at line 108: [loading templates from /home/vimary/.deeppavlov/downloads/dstc2/dstc2-templates.txt]\n",
            "2018-11-28 17:20:16.732 INFO in 'deeppavlov.models.go_bot.bot'['bot'] at line 111: 46 templates loaded\n",
            "2018-11-28 17:20:16.732 INFO in 'deeppavlov.models.go_bot.bot'['bot'] at line 139: Calculated input size for `GoalOrientedBotNetwork` is 811\n",
            "2018-11-28 17:20:17.227 INFO in 'deeppavlov.models.go_bot.network'['network'] at line 120: [initializing `GoalOrientedBotNetwork` from saved]\n",
            "2018-11-28 17:20:17.228 INFO in 'deeppavlov.models.go_bot.network'['network'] at line 360: [loading parameters from /home/vimary/ipavlov/Pilot/examples/tutorials/models/my_gobot_ner/model.json]\n",
            "2018-11-28 17:20:17.230 INFO in 'deeppavlov.core.models.tf_model'['tf_model'] at line 43: [loading model from /home/vimary/ipavlov/Pilot/examples/tutorials/models/my_gobot_ner/model]\n",
            "2018-11-28 17:20:17.239 INFO in 'tensorflow'['tf_logging'] at line 115: Restoring parameters from /home/vimary/ipavlov/Pilot/examples/tutorials/models/my_gobot_ner/model\n"
          ],
          "name": "stderr"
        }
      ]
    },
    {
      "cell_type": "code",
      "metadata": {
        "id": "slyeSBQKrhBD",
        "colab_type": "code",
        "colab": {},
        "outputId": "4a86ccec-ba4c-43b3-b40e-d283f007c8ea"
      },
      "source": [
        "bot_ner(['hi, i want some cheap food in the north part of town'])"
      ],
      "execution_count": 0,
      "outputs": [
        {
          "output_type": "stream",
          "text": [
            "2018-11-28 17:20:17.352 WARNING in 'deeppavlov.models.go_bot.bot'['bot'] at line 392: No database specified.\n",
            "2018-11-28 17:20:17.353 INFO in 'deeppavlov.models.go_bot.bot'['bot'] at line 393: Made api_call with {'pricerange': 'cheap', 'area': 'north'}, got 0 results.\n"
          ],
          "name": "stderr"
        },
        {
          "output_type": "execute_result",
          "data": {
            "text/plain": [
              "['Sorry there is no #food restaurant in the north of town.']"
            ]
          },
          "metadata": {
            "tags": []
          },
          "execution_count": 49
        }
      ]
    },
    {
      "cell_type": "code",
      "metadata": {
        "id": "gu6MNPjMrhBU",
        "colab_type": "code",
        "colab": {},
        "outputId": "f9c07a30-d7dc-4676-c44a-f9ae9b98b4ce"
      },
      "source": [
        "bot_ner(['thank you'])"
      ],
      "execution_count": 0,
      "outputs": [
        {
          "output_type": "stream",
          "text": [
            "2018-11-28 17:20:17.365 WARNING in 'deeppavlov.models.go_bot.bot'['bot'] at line 392: No database specified.\n",
            "2018-11-28 17:20:17.365 INFO in 'deeppavlov.models.go_bot.bot'['bot'] at line 393: Made api_call with {'pricerange': 'cheap', 'area': 'north'}, got 0 results.\n"
          ],
          "name": "stderr"
        },
        {
          "output_type": "execute_result",
          "data": {
            "text/plain": [
              "['You are welcome!']"
            ]
          },
          "metadata": {
            "tags": []
          },
          "execution_count": 50
        }
      ]
    },
    {
      "cell_type": "code",
      "metadata": {
        "id": "4EGN0up5rhBf",
        "colab_type": "code",
        "colab": {},
        "outputId": "6f6464e1-d4e3-4e2d-f642-70117a55f30d"
      },
      "source": [
        "bot_ner(['bye'])"
      ],
      "execution_count": 0,
      "outputs": [
        {
          "output_type": "execute_result",
          "data": {
            "text/plain": [
              "['You are welcome!']"
            ]
          },
          "metadata": {
            "tags": []
          },
          "execution_count": 51
        }
      ]
    },
    {
      "cell_type": "code",
      "metadata": {
        "id": "cH0GbKEJrhBm",
        "colab_type": "code",
        "colab": {}
      },
      "source": [
        "# free memory\n",
        "del bot_ner"
      ],
      "execution_count": 0,
      "outputs": []
    },
    {
      "cell_type": "code",
      "metadata": {
        "id": "ej-tbQKsrhBx",
        "colab_type": "code",
        "colab": {}
      },
      "source": [
        ""
      ],
      "execution_count": 0,
      "outputs": []
    }
  ]
}